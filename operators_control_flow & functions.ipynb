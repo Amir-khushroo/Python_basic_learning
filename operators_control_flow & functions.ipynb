{
 "cells": [
  {
   "cell_type": "code",
   "execution_count": 1,
   "id": "c557505a-9793-4af6-8c7a-10b2d6d51f40",
   "metadata": {},
   "outputs": [],
   "source": [
    "#Logical expression"
   ]
  },
  {
   "cell_type": "code",
   "execution_count": 2,
   "id": "6002ef4f-2b56-44da-8942-45f0345c2095",
   "metadata": {},
   "outputs": [],
   "source": [
    "a=10\n",
    "b=20"
   ]
  },
  {
   "cell_type": "code",
   "execution_count": 3,
   "id": "147b5891-4447-4588-94cd-539faf8042dd",
   "metadata": {},
   "outputs": [
    {
     "data": {
      "text/plain": [
       "False"
      ]
     },
     "execution_count": 3,
     "metadata": {},
     "output_type": "execute_result"
    }
   ],
   "source": [
    "((a>10) and (b>20))"
   ]
  },
  {
   "cell_type": "code",
   "execution_count": 4,
   "id": "e1a18324-c78a-44d9-8f51-2e43601fab6f",
   "metadata": {},
   "outputs": [
    {
     "name": "stdout",
     "output_type": "stream",
     "text": [
      "False\n"
     ]
    }
   ],
   "source": [
    "print(True and False)"
   ]
  },
  {
   "cell_type": "code",
   "execution_count": 6,
   "id": "ae4f7427-92d8-407f-af62-137e20f538ba",
   "metadata": {},
   "outputs": [],
   "source": [
    "#Bitwise operator"
   ]
  },
  {
   "cell_type": "code",
   "execution_count": 7,
   "id": "a857bb6f-9c4a-4e72-ae0f-ae69001c7f8e",
   "metadata": {},
   "outputs": [
    {
     "data": {
      "text/plain": [
       "'\"& --> and\\n| --> OR\\n^ --> XOR\\n~ --> negation\\n<< --> left shift\\n>> --> right shift'"
      ]
     },
     "execution_count": 7,
     "metadata": {},
     "output_type": "execute_result"
    }
   ],
   "source": [
    "\"\"\"\"& --> and\n",
    "| --> OR\n",
    "^ --> XOR\n",
    "~ --> negation\n",
    "<< --> left shift\n",
    ">> --> right shift\"\"\""
   ]
  },
  {
   "cell_type": "code",
   "execution_count": 8,
   "id": "048c47a4-4d38-4dd8-9715-2d6a587e10bc",
   "metadata": {},
   "outputs": [],
   "source": [
    "a=10"
   ]
  },
  {
   "cell_type": "code",
   "execution_count": 9,
   "id": "811d002b-5ae2-4415-8913-6db22fc64c1e",
   "metadata": {},
   "outputs": [],
   "source": [
    "b=4"
   ]
  },
  {
   "cell_type": "code",
   "execution_count": 10,
   "id": "4fa461c0-743a-458b-92ed-f78ece33c1ca",
   "metadata": {},
   "outputs": [
    {
     "data": {
      "text/plain": [
       "'0b1010'"
      ]
     },
     "execution_count": 10,
     "metadata": {},
     "output_type": "execute_result"
    }
   ],
   "source": [
    "bin(a)"
   ]
  },
  {
   "cell_type": "code",
   "execution_count": 11,
   "id": "020f50a6-ee7d-46d2-880b-01e241640233",
   "metadata": {},
   "outputs": [
    {
     "data": {
      "text/plain": [
       "'0b100'"
      ]
     },
     "execution_count": 11,
     "metadata": {},
     "output_type": "execute_result"
    }
   ],
   "source": [
    "bin(b)"
   ]
  },
  {
   "cell_type": "code",
   "execution_count": 12,
   "id": "ed9f7994-d34a-46d3-b4b1-79aee61f313d",
   "metadata": {},
   "outputs": [
    {
     "data": {
      "text/plain": [
       "0"
      ]
     },
     "execution_count": 12,
     "metadata": {},
     "output_type": "execute_result"
    }
   ],
   "source": [
    "a&b"
   ]
  },
  {
   "cell_type": "code",
   "execution_count": 13,
   "id": "bf23e754-0436-4a41-aa38-7fb2987ac140",
   "metadata": {},
   "outputs": [
    {
     "data": {
      "text/plain": [
       "14"
      ]
     },
     "execution_count": 13,
     "metadata": {},
     "output_type": "execute_result"
    }
   ],
   "source": [
    "a|b"
   ]
  },
  {
   "cell_type": "code",
   "execution_count": 14,
   "id": "88571ee3-1ebc-4a38-87a2-3b93f1a7fe37",
   "metadata": {},
   "outputs": [
    {
     "data": {
      "text/plain": [
       "14"
      ]
     },
     "execution_count": 14,
     "metadata": {},
     "output_type": "execute_result"
    }
   ],
   "source": [
    "a^b"
   ]
  },
  {
   "cell_type": "code",
   "execution_count": 15,
   "id": "fccc4e7c-21ea-4210-8677-1d4cfd00770b",
   "metadata": {},
   "outputs": [
    {
     "data": {
      "text/plain": [
       "10"
      ]
     },
     "execution_count": 15,
     "metadata": {},
     "output_type": "execute_result"
    }
   ],
   "source": [
    "a"
   ]
  },
  {
   "cell_type": "code",
   "execution_count": 16,
   "id": "e66f4868-a724-4031-92d6-9cb3b48f3869",
   "metadata": {},
   "outputs": [],
   "source": [
    "a=8"
   ]
  },
  {
   "cell_type": "code",
   "execution_count": 17,
   "id": "09259342-edbe-42bd-85b7-5e987f78db79",
   "metadata": {},
   "outputs": [
    {
     "data": {
      "text/plain": [
       "-9"
      ]
     },
     "execution_count": 17,
     "metadata": {},
     "output_type": "execute_result"
    }
   ],
   "source": [
    "~8"
   ]
  },
  {
   "cell_type": "code",
   "execution_count": 18,
   "id": "64fdc7f3-0135-4163-ba56-038f7906c52c",
   "metadata": {},
   "outputs": [],
   "source": [
    "a=15"
   ]
  },
  {
   "cell_type": "code",
   "execution_count": 19,
   "id": "a74d0516-df68-420e-94be-83a9674b1a49",
   "metadata": {},
   "outputs": [
    {
     "data": {
      "text/plain": [
       "-16"
      ]
     },
     "execution_count": 19,
     "metadata": {},
     "output_type": "execute_result"
    }
   ],
   "source": [
    "~a"
   ]
  },
  {
   "cell_type": "code",
   "execution_count": 20,
   "id": "7ec0a0ef-9890-44d8-accd-7a198204ad7c",
   "metadata": {},
   "outputs": [],
   "source": [
    "a=1"
   ]
  },
  {
   "cell_type": "code",
   "execution_count": 21,
   "id": "1a5dfa9b-a4f7-461d-98af-eda3d14b9fc9",
   "metadata": {},
   "outputs": [
    {
     "data": {
      "text/plain": [
       "-2"
      ]
     },
     "execution_count": 21,
     "metadata": {},
     "output_type": "execute_result"
    }
   ],
   "source": [
    "~a"
   ]
  },
  {
   "cell_type": "code",
   "execution_count": 22,
   "id": "c6371dd0-e9b1-4d8a-aacb-2decadbbb02d",
   "metadata": {},
   "outputs": [],
   "source": [
    "a=-11"
   ]
  },
  {
   "cell_type": "code",
   "execution_count": 23,
   "id": "7b8891a1-d403-422f-924a-84b00221bf5d",
   "metadata": {},
   "outputs": [
    {
     "data": {
      "text/plain": [
       "10"
      ]
     },
     "execution_count": 23,
     "metadata": {},
     "output_type": "execute_result"
    }
   ],
   "source": [
    "~a"
   ]
  },
  {
   "cell_type": "code",
   "execution_count": 24,
   "id": "1d13d00b-916b-434f-baf9-4b177ba8a700",
   "metadata": {},
   "outputs": [],
   "source": [
    "a=-15"
   ]
  },
  {
   "cell_type": "code",
   "execution_count": 25,
   "id": "f2db4f3e-7741-490f-abb7-cdbd7070be11",
   "metadata": {},
   "outputs": [
    {
     "data": {
      "text/plain": [
       "14"
      ]
     },
     "execution_count": 25,
     "metadata": {},
     "output_type": "execute_result"
    }
   ],
   "source": [
    "~a"
   ]
  },
  {
   "cell_type": "code",
   "execution_count": 26,
   "id": "035052a2-5a00-4b7b-b562-4b0948c851f6",
   "metadata": {},
   "outputs": [],
   "source": [
    "x=[1,2,3,4,5]"
   ]
  },
  {
   "cell_type": "code",
   "execution_count": 27,
   "id": "1b631902-b5af-4055-b1dc-8d69ac242e07",
   "metadata": {},
   "outputs": [
    {
     "data": {
      "text/plain": [
       "True"
      ]
     },
     "execution_count": 27,
     "metadata": {},
     "output_type": "execute_result"
    }
   ],
   "source": [
    "2 in x"
   ]
  },
  {
   "cell_type": "code",
   "execution_count": 28,
   "id": "0089c51d-c1be-4802-abfa-6a67e67535d5",
   "metadata": {},
   "outputs": [
    {
     "data": {
      "text/plain": [
       "False"
      ]
     },
     "execution_count": 28,
     "metadata": {},
     "output_type": "execute_result"
    }
   ],
   "source": [
    "8 in x"
   ]
  },
  {
   "cell_type": "code",
   "execution_count": 29,
   "id": "7a5847ac-354f-496b-b465-712abb10fd83",
   "metadata": {},
   "outputs": [
    {
     "data": {
      "text/plain": [
       "-30"
      ]
     },
     "execution_count": 29,
     "metadata": {},
     "output_type": "execute_result"
    }
   ],
   "source": [
    "a << 1"
   ]
  },
  {
   "cell_type": "code",
   "execution_count": 30,
   "id": "98ca83c6-16c0-439f-84b8-030cf0f6bfda",
   "metadata": {},
   "outputs": [],
   "source": [
    "a = 10 "
   ]
  },
  {
   "cell_type": "code",
   "execution_count": 31,
   "id": "adce576a-5a72-4808-a38e-cfd725c1789e",
   "metadata": {},
   "outputs": [
    {
     "data": {
      "text/plain": [
       "20"
      ]
     },
     "execution_count": 31,
     "metadata": {},
     "output_type": "execute_result"
    }
   ],
   "source": [
    "a << 1 # multiply a by 2^1 (left shift)"
   ]
  },
  {
   "cell_type": "code",
   "execution_count": 32,
   "id": "f27f29ca-9062-402f-b1af-cc747f42aedc",
   "metadata": {},
   "outputs": [
    {
     "data": {
      "text/plain": [
       "40"
      ]
     },
     "execution_count": 32,
     "metadata": {},
     "output_type": "execute_result"
    }
   ],
   "source": [
    "a << 2 # multiply a by 2^2..."
   ]
  },
  {
   "cell_type": "code",
   "execution_count": 33,
   "id": "9a7db530-316f-4e60-bd4e-5c6775a4f8e5",
   "metadata": {},
   "outputs": [
    {
     "data": {
      "text/plain": [
       "80"
      ]
     },
     "execution_count": 33,
     "metadata": {},
     "output_type": "execute_result"
    }
   ],
   "source": [
    "a << 3 # multiply a by 2^3"
   ]
  },
  {
   "cell_type": "code",
   "execution_count": 34,
   "id": "5335acb9-c1b8-458a-900c-e3d3c0b6088a",
   "metadata": {},
   "outputs": [],
   "source": [
    "# right shift"
   ]
  },
  {
   "cell_type": "code",
   "execution_count": 35,
   "id": "82a6612a-3d36-4090-a589-8697a4a9236f",
   "metadata": {},
   "outputs": [
    {
     "data": {
      "text/plain": [
       "5"
      ]
     },
     "execution_count": 35,
     "metadata": {},
     "output_type": "execute_result"
    }
   ],
   "source": [
    "a >> 1 # divide a by 2^1"
   ]
  },
  {
   "cell_type": "code",
   "execution_count": 36,
   "id": "61e6dc4b-a8c9-43c0-a1ee-8de091a9cceb",
   "metadata": {},
   "outputs": [
    {
     "data": {
      "text/plain": [
       "2"
      ]
     },
     "execution_count": 36,
     "metadata": {},
     "output_type": "execute_result"
    }
   ],
   "source": [
    "a >> 2 # divide a by 2^2"
   ]
  },
  {
   "cell_type": "code",
   "execution_count": 37,
   "id": "3d8a2db7-8ab1-45a2-8571-8cd0279bf48d",
   "metadata": {},
   "outputs": [],
   "source": [
    "# Control statement"
   ]
  },
  {
   "cell_type": "code",
   "execution_count": 38,
   "id": "0f3dce47-4927-4e0c-a38e-a101babfe8e2",
   "metadata": {},
   "outputs": [],
   "source": [
    "age = 16"
   ]
  },
  {
   "cell_type": "code",
   "execution_count": 39,
   "id": "575dc7fa-f763-4fbd-ba6b-eed0f239488d",
   "metadata": {},
   "outputs": [
    {
     "name": "stdout",
     "output_type": "stream",
     "text": [
      "you can not drive\n"
     ]
    }
   ],
   "source": [
    "if age>=18:\n",
    "    print(\"you can drive\")\n",
    "else:\n",
    "    print(\"you can not drive\")"
   ]
  },
  {
   "cell_type": "code",
   "execution_count": 40,
   "id": "ab8f8819-c5f8-441e-8bab-04de90282e68",
   "metadata": {},
   "outputs": [
    {
     "name": "stdout",
     "output_type": "stream",
     "text": [
      "you are inside the block\n"
     ]
    }
   ],
   "source": [
    "x = 25\n",
    "if x>23:\n",
    "    print(\"you are inside the block\")"
   ]
  },
  {
   "cell_type": "code",
   "execution_count": 41,
   "id": "0ee7ce00-23d4-49b8-93ad-23d04a0c2cd9",
   "metadata": {},
   "outputs": [
    {
     "name": "stdout",
     "output_type": "stream",
     "text": [
      "Excellent performance your grade is B\n"
     ]
    }
   ],
   "source": [
    "score = 75\n",
    "\n",
    "if score >= 90:\n",
    "    print(\"Excellent performance your grade is A+\")\n",
    "elif score >= 80:\n",
    "    print(\"Excellent performance your grade is A\")\n",
    "elif score >= 70:\n",
    "    print(\"Excellent performance your grade is B\")\n",
    "else:\n",
    "    print(\"Excellent performance your grade is C\")"
   ]
  },
  {
   "cell_type": "code",
   "execution_count": 43,
   "id": "28bc2f7c-28d0-4209-b81a-d74d1eda5944",
   "metadata": {},
   "outputs": [
    {
     "name": "stdin",
     "output_type": "stream",
     "text": [
      "Enter an integer between 0 and 23 20\n"
     ]
    },
    {
     "name": "stdout",
     "output_type": "stream",
     "text": [
      "Evening\n"
     ]
    }
   ],
   "source": [
    "T = int(input(\"Enter an integer between 0 and 23\"))\n",
    "\n",
    "if T<0:\n",
    "    print(\"Invalid\")\n",
    "elif 0 <= T <= 5:\n",
    "    print(\"Night\")\n",
    "elif 6 <= T <= 11:\n",
    "    print(\"Morning\")\n",
    "elif 12 <= T <= 17:\n",
    "    print(\"Afternoon\")\n",
    "elif 18 <= T <= 23:\n",
    "    print(\"Evening\")\n",
    "else:\n",
    "    print(\"invalid\")"
   ]
  },
  {
   "cell_type": "code",
   "execution_count": 44,
   "id": "77b94a65-47f6-4c69-b8b9-f3e195aa0c1a",
   "metadata": {},
   "outputs": [],
   "source": [
    "#Find largest number from 3 given numbers"
   ]
  },
  {
   "cell_type": "code",
   "execution_count": 47,
   "id": "45dc2e73-e2e3-4d9b-8c08-37b98ae847d9",
   "metadata": {},
   "outputs": [
    {
     "name": "stdout",
     "output_type": "stream",
     "text": [
      "largest number is  30\n"
     ]
    }
   ],
   "source": [
    "num1 = 10 \n",
    "num2 = 20\n",
    "num3= 30\n",
    "\n",
    "if (num1>=num2) and (num1>=num3):\n",
    "    largest = num1\n",
    "    print(\"largest number is \",largest)\n",
    "elif (num2>=num1) and (num2>=num3):\n",
    "    largest = num2\n",
    "    print(\"largest number is \",largest)\n",
    "else:\n",
    "    largest = num3\n",
    "    print(\"largest number is \",largest)"
   ]
  },
  {
   "cell_type": "code",
   "execution_count": 1,
   "id": "7d07d333-5ef2-4c63-8aaa-ca7f7804855f",
   "metadata": {},
   "outputs": [],
   "source": [
    "# Simple calculator using if else"
   ]
  },
  {
   "cell_type": "code",
   "execution_count": 1,
   "id": "a1e46ccb-cf9e-4ee6-92ae-0fb293bb7222",
   "metadata": {},
   "outputs": [
    {
     "name": "stdin",
     "output_type": "stream",
     "text": [
      "enter the first number 10\n",
      "Enter any one of the operator 'add','subtract','multiply','divide' divide\n",
      "enter the second number 4\n"
     ]
    },
    {
     "name": "stdout",
     "output_type": "stream",
     "text": [
      "2.5\n"
     ]
    }
   ],
   "source": [
    "num1=int(input(\"enter the first number\"))\n",
    "operator=input(\"Enter any one of the operator 'add','subtract','multiply','divide'\")\n",
    "num2=int(input(\"enter the second number\"))\n",
    "\n",
    "if operator == 'add':\n",
    "    print(num1+num2)\n",
    "elif operator == 'subtract':\n",
    "    print(num1-num2)\n",
    "elif operator == 'multiply':\n",
    "    print(num1*num2)\n",
    "elif operator == 'divide':\n",
    "    print(num1/num2)\n",
    "else:\n",
    "    print(\"Invalid operator\")"
   ]
  },
  {
   "cell_type": "code",
   "execution_count": 2,
   "id": "b4c472d5-87d5-4ffa-80ec-47ce6559a00e",
   "metadata": {},
   "outputs": [],
   "source": [
    "a=10"
   ]
  },
  {
   "cell_type": "code",
   "execution_count": 3,
   "id": "808fab91-a411-4a10-9212-fe6efd27c83c",
   "metadata": {},
   "outputs": [
    {
     "data": {
      "text/plain": [
       "10"
      ]
     },
     "execution_count": 3,
     "metadata": {},
     "output_type": "execute_result"
    }
   ],
   "source": [
    "a"
   ]
  },
  {
   "cell_type": "code",
   "execution_count": 5,
   "id": "b6b4423c-9902-4f59-a401-9a14c3b74fcd",
   "metadata": {},
   "outputs": [
    {
     "name": "stdout",
     "output_type": "stream",
     "text": [
      "number is positive\n"
     ]
    }
   ],
   "source": [
    "num=10\n",
    "\n",
    "if(num >= 0):\n",
    "    if num ==0:\n",
    "        print(\"number is 0\")\n",
    "    else:\n",
    "        print(\"number is positive\")\n",
    "else:\n",
    "    print(\"number is negative\")"
   ]
  },
  {
   "cell_type": "code",
   "execution_count": 6,
   "id": "226e2ba3-f8d9-4ce9-a64c-179745309efd",
   "metadata": {},
   "outputs": [],
   "source": [
    "# Range Function"
   ]
  },
  {
   "cell_type": "code",
   "execution_count": 7,
   "id": "0be6503f-0673-48da-8557-045d960e57f2",
   "metadata": {},
   "outputs": [
    {
     "data": {
      "text/plain": [
       "range(0, 5)"
      ]
     },
     "execution_count": 7,
     "metadata": {},
     "output_type": "execute_result"
    }
   ],
   "source": [
    "range(5)"
   ]
  },
  {
   "cell_type": "code",
   "execution_count": 8,
   "id": "8e914132-95d8-4037-9a34-3d22da66a1ed",
   "metadata": {},
   "outputs": [],
   "source": [
    "# range(start,stop,step)"
   ]
  },
  {
   "cell_type": "code",
   "execution_count": 9,
   "id": "2e5daefb-8a99-4edf-93fe-995db0881e4a",
   "metadata": {},
   "outputs": [
    {
     "data": {
      "text/plain": [
       "[0, 1, 2, 3, 4]"
      ]
     },
     "execution_count": 9,
     "metadata": {},
     "output_type": "execute_result"
    }
   ],
   "source": [
    "list(range(5))"
   ]
  },
  {
   "cell_type": "code",
   "execution_count": 10,
   "id": "c8638fbe-04b1-4571-b714-8d482f512a17",
   "metadata": {},
   "outputs": [
    {
     "data": {
      "text/plain": [
       "[0, 1, 2, 3, 4, 5, 6, 7, 8, 9]"
      ]
     },
     "execution_count": 10,
     "metadata": {},
     "output_type": "execute_result"
    }
   ],
   "source": [
    "list(range(10))"
   ]
  },
  {
   "cell_type": "code",
   "execution_count": 11,
   "id": "5a3c573c-efe2-468c-8e47-9b313d515e9c",
   "metadata": {},
   "outputs": [
    {
     "data": {
      "text/plain": [
       "[0, 2, 4, 6, 8, 10]"
      ]
     },
     "execution_count": 11,
     "metadata": {},
     "output_type": "execute_result"
    }
   ],
   "source": [
    "list(range(0,11,2))"
   ]
  },
  {
   "cell_type": "code",
   "execution_count": 12,
   "id": "ba4733b4-7712-458b-8516-9746c0f7c67e",
   "metadata": {},
   "outputs": [
    {
     "name": "stdout",
     "output_type": "stream",
     "text": [
      "0\n",
      "1\n",
      "2\n",
      "3\n",
      "4\n"
     ]
    }
   ],
   "source": [
    "for i in range(5):\n",
    "    print(i)"
   ]
  },
  {
   "cell_type": "code",
   "execution_count": 14,
   "id": "e5c900c8-06f9-4119-81b2-8254406f4765",
   "metadata": {},
   "outputs": [],
   "source": [
    "x=range(5)"
   ]
  },
  {
   "cell_type": "code",
   "execution_count": 15,
   "id": "6e128832-587b-445f-98a8-b84315e457ff",
   "metadata": {},
   "outputs": [
    {
     "data": {
      "text/plain": [
       "range(0, 5)"
      ]
     },
     "execution_count": 15,
     "metadata": {},
     "output_type": "execute_result"
    }
   ],
   "source": [
    "x"
   ]
  },
  {
   "cell_type": "code",
   "execution_count": 16,
   "id": "a34ffc40-8d7c-4b6d-8704-c498ecae3859",
   "metadata": {},
   "outputs": [
    {
     "data": {
      "text/plain": [
       "range"
      ]
     },
     "execution_count": 16,
     "metadata": {},
     "output_type": "execute_result"
    }
   ],
   "source": [
    "type(x)"
   ]
  },
  {
   "cell_type": "code",
   "execution_count": 17,
   "id": "14bc1bdf-f6ad-4ba2-8871-1cdd126420bf",
   "metadata": {},
   "outputs": [],
   "source": [
    "x=['a','b','c']"
   ]
  },
  {
   "cell_type": "code",
   "execution_count": 18,
   "id": "8a20ed26-5396-43bc-8ea3-438cd8fa8d1e",
   "metadata": {},
   "outputs": [
    {
     "name": "stdout",
     "output_type": "stream",
     "text": [
      "a\n",
      "b\n",
      "c\n"
     ]
    }
   ],
   "source": [
    "for i in x:\n",
    "    print(i)"
   ]
  },
  {
   "cell_type": "code",
   "execution_count": 19,
   "id": "e2604321-671e-4178-8f30-39105dde755a",
   "metadata": {},
   "outputs": [
    {
     "name": "stdout",
     "output_type": "stream",
     "text": [
      "p\n",
      "w\n",
      "s\n",
      "k\n",
      "i\n",
      "l\n",
      "l\n",
      "s\n"
     ]
    }
   ],
   "source": [
    "for i in \"pwskills\":\n",
    "    print(i)"
   ]
  },
  {
   "cell_type": "code",
   "execution_count": 20,
   "id": "e0dccdbd-69bc-4e3b-a076-7fe754f1c67e",
   "metadata": {},
   "outputs": [
    {
     "ename": "TypeError",
     "evalue": "'int' object is not iterable",
     "output_type": "error",
     "traceback": [
      "\u001b[0;31m---------------------------------------------------------------------------\u001b[0m",
      "\u001b[0;31mTypeError\u001b[0m                                 Traceback (most recent call last)",
      "Cell \u001b[0;32mIn[20], line 1\u001b[0m\n\u001b[0;32m----> 1\u001b[0m \u001b[38;5;28;01mfor\u001b[39;00m i \u001b[38;5;129;01min\u001b[39;00m \u001b[38;5;241m23\u001b[39m:\n\u001b[1;32m      2\u001b[0m     \u001b[38;5;28mprint\u001b[39m(i)\n",
      "\u001b[0;31mTypeError\u001b[0m: 'int' object is not iterable"
     ]
    }
   ],
   "source": [
    "for i in 23:\n",
    "    print(i)"
   ]
  },
  {
   "cell_type": "code",
   "execution_count": 24,
   "id": "c8dae373-8853-4c91-8bfa-f4a984af7381",
   "metadata": {},
   "outputs": [],
   "source": [
    "x = {\"name\":\"Amir\",\"city\":\"Delhi\"}"
   ]
  },
  {
   "cell_type": "code",
   "execution_count": 22,
   "id": "1cd3bcf6-66f4-4a3d-8cb2-8062ce58bfbb",
   "metadata": {},
   "outputs": [
    {
     "name": "stdout",
     "output_type": "stream",
     "text": [
      "Amir\n",
      "Delhi\n"
     ]
    }
   ],
   "source": [
    "for i in x.values():\n",
    "    print(i)"
   ]
  },
  {
   "cell_type": "code",
   "execution_count": 25,
   "id": "30a785c3-fdee-4da8-9280-79aa511e7ded",
   "metadata": {},
   "outputs": [
    {
     "name": "stdout",
     "output_type": "stream",
     "text": [
      "india \n",
      "uk\n",
      "germany\n"
     ]
    }
   ],
   "source": [
    "country=[\"india \",\"uk\",\"germany\"]\n",
    "\n",
    "for city in country:\n",
    "    print(city)"
   ]
  },
  {
   "cell_type": "code",
   "execution_count": 26,
   "id": "64d3cc21-2d30-4361-b1fb-3e72d577e92f",
   "metadata": {},
   "outputs": [
    {
     "name": "stdout",
     "output_type": "stream",
     "text": [
      "india \n",
      "uk\n",
      "germany\n"
     ]
    }
   ],
   "source": [
    "for index in range(len(country)):\n",
    "    print(country[index])"
   ]
  },
  {
   "cell_type": "code",
   "execution_count": 27,
   "id": "aed5d20c-4a57-44cd-913f-d36a599b23ab",
   "metadata": {},
   "outputs": [],
   "source": [
    "d1 = {'x1':1,'x2':2,'x3':3}"
   ]
  },
  {
   "cell_type": "code",
   "execution_count": 28,
   "id": "f78edf80-c668-45a1-a12b-3915dc48b44c",
   "metadata": {},
   "outputs": [
    {
     "data": {
      "text/plain": [
       "dict_keys(['x1', 'x2', 'x3'])"
      ]
     },
     "execution_count": 28,
     "metadata": {},
     "output_type": "execute_result"
    }
   ],
   "source": [
    "d1.keys()"
   ]
  },
  {
   "cell_type": "code",
   "execution_count": 29,
   "id": "31560cc4-2470-4d15-abd9-90660ba38653",
   "metadata": {},
   "outputs": [
    {
     "data": {
      "text/plain": [
       "dict_values([1, 2, 3])"
      ]
     },
     "execution_count": 29,
     "metadata": {},
     "output_type": "execute_result"
    }
   ],
   "source": [
    "d1.values()"
   ]
  },
  {
   "cell_type": "code",
   "execution_count": 30,
   "id": "56595df4-169d-4749-86ee-75260c0c93c3",
   "metadata": {},
   "outputs": [
    {
     "name": "stdout",
     "output_type": "stream",
     "text": [
      "x1 1\n",
      "x2 2\n",
      "x3 3\n"
     ]
    }
   ],
   "source": [
    "for key in d1:\n",
    "    print(key,d1[key])"
   ]
  },
  {
   "cell_type": "code",
   "execution_count": 31,
   "id": "f520a508-b1a2-48f0-8519-3f49c65e35c7",
   "metadata": {},
   "outputs": [
    {
     "name": "stdout",
     "output_type": "stream",
     "text": [
      "1\n",
      "2\n",
      "3\n"
     ]
    }
   ],
   "source": [
    "for i in d1.values():\n",
    "    print(i)"
   ]
  },
  {
   "cell_type": "code",
   "execution_count": 33,
   "id": "182af59a-5d5b-4a7e-805f-4e1ffdaccb9c",
   "metadata": {},
   "outputs": [
    {
     "name": "stdout",
     "output_type": "stream",
     "text": [
      "1\n",
      "2\n",
      "3\n",
      "4\n"
     ]
    }
   ],
   "source": [
    "for i in (1,2,3,4):\n",
    "    print(i)"
   ]
  },
  {
   "cell_type": "code",
   "execution_count": 34,
   "id": "d302da6b-780b-4644-9df0-d61b87087e80",
   "metadata": {},
   "outputs": [
    {
     "name": "stdout",
     "output_type": "stream",
     "text": [
      "1\n",
      "2\n",
      "3\n",
      "4\n"
     ]
    }
   ],
   "source": [
    "for i in {1,2,3,4}:\n",
    "    print(i)"
   ]
  },
  {
   "cell_type": "code",
   "execution_count": 36,
   "id": "cccb9586-c170-4d75-8aea-b77b89112695",
   "metadata": {},
   "outputs": [
    {
     "name": "stdout",
     "output_type": "stream",
     "text": [
      "hi pw skills ineuron "
     ]
    }
   ],
   "source": [
    "print(\"hi\",end=' ')\n",
    "print(\"pw\",end=' ')\n",
    "print(\"skills\",end=' ')\n",
    "print(\"ineuron\",end=' ')\n"
   ]
  },
  {
   "cell_type": "code",
   "execution_count": 38,
   "id": "5e56b94b-815e-4f11-9c06-4a436260b4d1",
   "metadata": {},
   "outputs": [
    {
     "name": "stdout",
     "output_type": "stream",
     "text": [
      "0,1,2,3,4,5,6,7,8,9,"
     ]
    }
   ],
   "source": [
    "for i in range(10):\n",
    "    print(i,end=',')"
   ]
  },
  {
   "cell_type": "code",
   "execution_count": 41,
   "id": "092f1981-afe6-463b-931c-eface4f33c1e",
   "metadata": {},
   "outputs": [
    {
     "name": "stdout",
     "output_type": "stream",
     "text": [
      "0\n",
      "1\n",
      "2\n",
      "3\n",
      "4\n",
      "done\n"
     ]
    }
   ],
   "source": [
    "for i in range(5):\n",
    "    print(i)\n",
    "else:\n",
    "    print(\"done\")"
   ]
  },
  {
   "cell_type": "code",
   "execution_count": 45,
   "id": "360c820e-f8f1-4a1d-8d03-05218a134c64",
   "metadata": {},
   "outputs": [
    {
     "name": "stdout",
     "output_type": "stream",
     "text": [
      "* \n",
      "* * \n",
      "* * * \n",
      "* * * * \n",
      "* * * * * \n"
     ]
    }
   ],
   "source": [
    "for i in range(5):\n",
    "    for j in range(i+1):\n",
    "        print(\"*\",end=' ')\n",
    "    print()"
   ]
  },
  {
   "cell_type": "code",
   "execution_count": 47,
   "id": "a8aedfa2-094f-4fed-a40a-84b520d2ac89",
   "metadata": {},
   "outputs": [
    {
     "name": "stdout",
     "output_type": "stream",
     "text": [
      "* * * * * \n",
      "* * * * \n",
      "* * * \n",
      "* * \n",
      "* \n"
     ]
    }
   ],
   "source": [
    "for i in range(5):\n",
    "    for j in range(5-i):\n",
    "        print(\"*\",end=' ')\n",
    "    print()"
   ]
  },
  {
   "cell_type": "code",
   "execution_count": 48,
   "id": "2e71131a-eb69-426b-b3f4-7900ae5f8372",
   "metadata": {},
   "outputs": [
    {
     "name": "stdout",
     "output_type": "stream",
     "text": [
      "* * * * * \n",
      "* * * * \n",
      "* * * \n",
      "* * \n",
      "* \n"
     ]
    }
   ],
   "source": [
    "for i in range(5,0,-1):\n",
    "    for j in range(i,0,-1):\n",
    "        print(\"*\",end=' ')\n",
    "    print()"
   ]
  },
  {
   "cell_type": "code",
   "execution_count": 56,
   "id": "8fb9c45a-9ea0-4952-95c4-a7c659ded9e2",
   "metadata": {},
   "outputs": [
    {
     "name": "stdout",
     "output_type": "stream",
     "text": [
      "1  2  3  4  5  \n",
      "2  4  6  8  10  \n",
      "3  6  9  12  15  \n",
      "4  8  12  16  20  \n",
      "5  10  15  20  25  \n"
     ]
    }
   ],
   "source": [
    "for i in range(1,6):   # whenever the number of iteration is known use for loop\n",
    "    for j in range(i,i*6,i):\n",
    "        print(j,end='  ')\n",
    "    print()"
   ]
  },
  {
   "cell_type": "code",
   "execution_count": 58,
   "id": "f71cbb9e-2758-40f6-90ad-953c1e49be48",
   "metadata": {},
   "outputs": [],
   "source": [
    "x=range(5)"
   ]
  },
  {
   "cell_type": "code",
   "execution_count": 59,
   "id": "138883b6-857c-48ce-9c82-5e707aae7360",
   "metadata": {},
   "outputs": [
    {
     "ename": "NameError",
     "evalue": "name 'length' is not defined",
     "output_type": "error",
     "traceback": [
      "\u001b[0;31m---------------------------------------------------------------------------\u001b[0m",
      "\u001b[0;31mNameError\u001b[0m                                 Traceback (most recent call last)",
      "Cell \u001b[0;32mIn[59], line 1\u001b[0m\n\u001b[0;32m----> 1\u001b[0m \u001b[43mlength\u001b[49m(x)\n",
      "\u001b[0;31mNameError\u001b[0m: name 'length' is not defined"
     ]
    }
   ],
   "source": [
    "length(x)"
   ]
  },
  {
   "cell_type": "code",
   "execution_count": 61,
   "id": "94f0e871-f7df-4a54-9917-ea358a6159b9",
   "metadata": {},
   "outputs": [
    {
     "name": "stdout",
     "output_type": "stream",
     "text": [
      "1  2  3  4  5  \n",
      "2  4  6  8  10  \n",
      "3  6  9  12  15  \n",
      "4  8  12  16  20  \n",
      "5  10  15  20  25  \n"
     ]
    }
   ],
   "source": [
    "for i in range(1,6):\n",
    "    for j in range(1,6):\n",
    "        print(i*j,end='  ')\n",
    "    print()"
   ]
  },
  {
   "cell_type": "code",
   "execution_count": 62,
   "id": "572ec500-6f56-4705-9071-c6eaa021f3b1",
   "metadata": {},
   "outputs": [
    {
     "name": "stdout",
     "output_type": "stream",
     "text": [
      "1\n",
      "2\n",
      "3\n",
      "4\n",
      "5\n"
     ]
    }
   ],
   "source": [
    "count = 1\n",
    "\n",
    "while count <= 5:\n",
    "    print(count)\n",
    "    count += 1"
   ]
  },
  {
   "cell_type": "code",
   "execution_count": 64,
   "id": "f57adddb-8dca-45eb-949c-957688abe56c",
   "metadata": {},
   "outputs": [
    {
     "name": "stdin",
     "output_type": "stream",
     "text": [
      "enter a word amir\n"
     ]
    },
    {
     "name": "stdout",
     "output_type": "stream",
     "text": [
      "amir\n"
     ]
    },
    {
     "name": "stdin",
     "output_type": "stream",
     "text": [
      "enter a word khushroo\n"
     ]
    },
    {
     "name": "stdout",
     "output_type": "stream",
     "text": [
      "khushroo\n"
     ]
    },
    {
     "name": "stdin",
     "output_type": "stream",
     "text": [
      "enter a word quit\n"
     ]
    },
    {
     "name": "stdout",
     "output_type": "stream",
     "text": [
      "quit\n"
     ]
    }
   ],
   "source": [
    "text = \" \"      # whenever the number of iteration is unknown use while loop\n",
    "\n",
    "while text != \"quit\":\n",
    "    text = input(\"enter a word\")\n",
    "    print(text)"
   ]
  },
  {
   "cell_type": "code",
   "execution_count": 65,
   "id": "ddc9645d-45b0-4276-830d-738dc78452dc",
   "metadata": {},
   "outputs": [
    {
     "name": "stdout",
     "output_type": "stream",
     "text": [
      "zero\n",
      "this is always prints\n"
     ]
    }
   ],
   "source": [
    "number = 0\n",
    "\n",
    "if number > 0 :\n",
    "    print(\"positive number\")\n",
    "elif number == 0:\n",
    "    print(\"zero\")\n",
    "else:\n",
    "    print(\"negative number\")\n",
    "print(\"this is always prints\")"
   ]
  },
  {
   "cell_type": "code",
   "execution_count": 66,
   "id": "3679b764-e85a-48e8-8f59-8d920f5e8e06",
   "metadata": {},
   "outputs": [
    {
     "name": "stdout",
     "output_type": "stream",
     "text": [
      "0\n",
      "1\n",
      "2\n",
      "3\n",
      "4\n"
     ]
    }
   ],
   "source": [
    "for i in range(5):\n",
    "    print(i)"
   ]
  },
  {
   "cell_type": "code",
   "execution_count": 68,
   "id": "37e428e2-e88e-4f89-826e-6d853246194a",
   "metadata": {},
   "outputs": [
    {
     "name": "stdout",
     "output_type": "stream",
     "text": [
      "today is mon\n",
      "today is tue\n",
      "today is wed\n",
      "today is thu\n",
      "today is fri\n",
      "today is sat\n",
      "today is sun\n"
     ]
    }
   ],
   "source": [
    "days = 0\n",
    "week = [\"mon\",\"tue\",\"wed\",\"thu\",\"fri\",\"sat\",\"sun\"]\n",
    "\n",
    "while days < 7:\n",
    "    print(\"today is \" + week[days])\n",
    "    days +=1"
   ]
  },
  {
   "cell_type": "code",
   "execution_count": 69,
   "id": "9b2c09e0-7cd3-416d-b24e-fac631268581",
   "metadata": {},
   "outputs": [],
   "source": [
    "# split function"
   ]
  },
  {
   "cell_type": "code",
   "execution_count": 70,
   "id": "6824c869-e209-4e42-b2bd-06180b792169",
   "metadata": {},
   "outputs": [],
   "source": [
    "text = \"I write code in python\""
   ]
  },
  {
   "cell_type": "code",
   "execution_count": 71,
   "id": "64448e63-fa91-485f-a5b2-822045b1071f",
   "metadata": {},
   "outputs": [
    {
     "data": {
      "text/plain": [
       "['I', 'write', 'code', 'in', 'python']"
      ]
     },
     "execution_count": 71,
     "metadata": {},
     "output_type": "execute_result"
    }
   ],
   "source": [
    "text.split()"
   ]
  },
  {
   "cell_type": "code",
   "execution_count": 72,
   "id": "9bb7043b-9dfa-47e1-a0ad-84185c6d6cb5",
   "metadata": {},
   "outputs": [],
   "source": [
    "y=1;\n"
   ]
  },
  {
   "cell_type": "code",
   "execution_count": 73,
   "id": "2a12a9d8-ceb6-42b8-a275-d6d95015200c",
   "metadata": {},
   "outputs": [],
   "source": [
    "y,w=2,3"
   ]
  },
  {
   "cell_type": "code",
   "execution_count": 74,
   "id": "bca50385-1727-4185-a8b5-a2bc27d52cb8",
   "metadata": {},
   "outputs": [
    {
     "name": "stdin",
     "output_type": "stream",
     "text": [
      "enter 3 words message Welcome to Pwskills\n"
     ]
    }
   ],
   "source": [
    "x=input(\"enter 3 words message\")"
   ]
  },
  {
   "cell_type": "code",
   "execution_count": 75,
   "id": "10e2deb7-90a2-4739-8238-94716a65d326",
   "metadata": {},
   "outputs": [],
   "source": [
    "word1,word2,word3 = x.split()"
   ]
  },
  {
   "cell_type": "code",
   "execution_count": 77,
   "id": "0096c905-370f-46e9-9a80-36a9676343ea",
   "metadata": {},
   "outputs": [
    {
     "data": {
      "text/plain": [
       "'Welcome'"
      ]
     },
     "execution_count": 77,
     "metadata": {},
     "output_type": "execute_result"
    }
   ],
   "source": [
    "word1"
   ]
  },
  {
   "cell_type": "code",
   "execution_count": 78,
   "id": "00328991-dbcd-4f73-aec8-af8c9cbf210b",
   "metadata": {},
   "outputs": [
    {
     "data": {
      "text/plain": [
       "'to'"
      ]
     },
     "execution_count": 78,
     "metadata": {},
     "output_type": "execute_result"
    }
   ],
   "source": [
    "word2"
   ]
  },
  {
   "cell_type": "code",
   "execution_count": 80,
   "id": "e01c47a3-0881-4387-9b6b-7413f0761979",
   "metadata": {},
   "outputs": [
    {
     "data": {
      "text/plain": [
       "'Pwskills'"
      ]
     },
     "execution_count": 80,
     "metadata": {},
     "output_type": "execute_result"
    }
   ],
   "source": [
    "word3"
   ]
  },
  {
   "cell_type": "code",
   "execution_count": 82,
   "id": "02589d8c-658f-4c29-9e3f-64549dba21fa",
   "metadata": {},
   "outputs": [
    {
     "name": "stdin",
     "output_type": "stream",
     "text": [
      "enter 1rst number 5\n",
      "enter 2rst number 5\n"
     ]
    },
    {
     "name": "stdout",
     "output_type": "stream",
     "text": [
      "10\n"
     ]
    }
   ],
   "source": [
    "a=int(input(\"enter 1rst number\"))\n",
    "b=int(input(\"enter 2rst number\"))\n",
    "print(a+b)"
   ]
  },
  {
   "cell_type": "code",
   "execution_count": 85,
   "id": "e1f82186-ee7e-4388-aad2-41fa68d5d6ce",
   "metadata": {},
   "outputs": [
    {
     "name": "stdin",
     "output_type": "stream",
     "text": [
      "enter two numbers 2 3\n"
     ]
    },
    {
     "name": "stdout",
     "output_type": "stream",
     "text": [
      "5\n"
     ]
    }
   ],
   "source": [
    "a,b = input(\"enter two numbers\").split()\n",
    "c = int(a) + int(b)\n",
    "print(c)"
   ]
  },
  {
   "cell_type": "code",
   "execution_count": 87,
   "id": "0f4ea183-1f49-40cd-a3be-a75961fa1ba6",
   "metadata": {},
   "outputs": [
    {
     "name": "stdin",
     "output_type": "stream",
     "text": [
      "Enter two numbers separated by space 5 9\n"
     ]
    },
    {
     "name": "stdout",
     "output_type": "stream",
     "text": [
      "14\n"
     ]
    }
   ],
   "source": [
    "x = input(\"Enter two numbers separated by space\")\n",
    "sum = int(x.split()[0]) + int(x.split()[1])\n",
    "print(sum)"
   ]
  },
  {
   "cell_type": "code",
   "execution_count": 89,
   "id": "2d1f8e9b-61be-4094-b7be-dec0081511e1",
   "metadata": {},
   "outputs": [
    {
     "name": "stdin",
     "output_type": "stream",
     "text": [
      "enter roll No, Name and Percent 05 Amir 84\n"
     ]
    },
    {
     "name": "stdout",
     "output_type": "stream",
     "text": [
      "05\n",
      "Amir\n",
      "84\n"
     ]
    }
   ],
   "source": [
    "s= input(\"enter roll No, Name and Percent\")\n",
    "roll,name,percent = s.split()\n",
    "print(roll)\n",
    "print(name)\n",
    "print(percent)"
   ]
  },
  {
   "cell_type": "code",
   "execution_count": 91,
   "id": "a0e2a51a-1eb9-48c1-a40b-2a95f82f95b3",
   "metadata": {},
   "outputs": [
    {
     "name": "stdout",
     "output_type": "stream",
     "text": [
      "['A', 'B', 'C', 'D', 'E F']\n"
     ]
    }
   ],
   "source": [
    "s1 = \"A B C D E F\"\n",
    "print(s1.split(' ',4)) # 4 denotes maximum split"
   ]
  },
  {
   "cell_type": "code",
   "execution_count": 1,
   "id": "109fdb3c-8acd-40a8-b4c5-3c0550be21c6",
   "metadata": {},
   "outputs": [],
   "source": [
    "s1 = \"HI@HI@HI@HI@HI\""
   ]
  },
  {
   "cell_type": "code",
   "execution_count": 3,
   "id": "5496064b-60dd-4cb6-9f7d-e8a041498ef1",
   "metadata": {},
   "outputs": [
    {
     "data": {
      "text/plain": [
       "['HI', 'HI', 'HI@HI@HI']"
      ]
     },
     "execution_count": 3,
     "metadata": {},
     "output_type": "execute_result"
    }
   ],
   "source": [
    "s1.split('@',2)"
   ]
  },
  {
   "cell_type": "code",
   "execution_count": 5,
   "id": "3f19f042-63dd-4504-98af-59c70abddb5e",
   "metadata": {},
   "outputs": [
    {
     "name": "stdout",
     "output_type": "stream",
     "text": [
      "letter p\n",
      "letter w\n",
      "letter s\n",
      "letter k\n",
      "letter i\n"
     ]
    }
   ],
   "source": [
    "for letter in \"pwskills\":\n",
    "    if letter == 'l':\n",
    "        break\n",
    "    print('letter',letter)"
   ]
  },
  {
   "cell_type": "code",
   "execution_count": 6,
   "id": "72dce006-0d9c-438a-9624-247191c3c989",
   "metadata": {},
   "outputs": [
    {
     "name": "stdout",
     "output_type": "stream",
     "text": [
      "0\n",
      "1\n",
      "2\n"
     ]
    }
   ],
   "source": [
    "for i in range(5):\n",
    "    if i == 3:\n",
    "        break\n",
    "    print(i)"
   ]
  },
  {
   "cell_type": "code",
   "execution_count": 7,
   "id": "51762dea-9220-4be9-b393-2f1a50d02744",
   "metadata": {},
   "outputs": [
    {
     "name": "stdout",
     "output_type": "stream",
     "text": [
      "1\n",
      "2\n",
      "3\n",
      "4\n",
      "5\n"
     ]
    }
   ],
   "source": [
    "i = 1\n",
    "\n",
    "while i <= 10:\n",
    "    print(i)\n",
    "    \n",
    "    if i >= 5:\n",
    "        break\n",
    "    i += 1"
   ]
  },
  {
   "cell_type": "code",
   "execution_count": 9,
   "id": "d93daec8-f82e-4a6c-807f-203d2a92b7a6",
   "metadata": {},
   "outputs": [],
   "source": [
    "num = [10,20,30,40,50,60,70,80,90,100,120,140,150,200]"
   ]
  },
  {
   "cell_type": "code",
   "execution_count": 11,
   "id": "f4908062-fc4e-479d-81dc-ea96c3b821ce",
   "metadata": {},
   "outputs": [
    {
     "name": "stdout",
     "output_type": "stream",
     "text": [
      "10\n",
      "20\n",
      "30\n",
      "40\n",
      "50\n",
      "60\n",
      "70\n",
      "80\n",
      "90\n"
     ]
    }
   ],
   "source": [
    "for i in num:\n",
    "    if i >= 100:\n",
    "        break\n",
    "    print(i)"
   ]
  },
  {
   "cell_type": "code",
   "execution_count": 13,
   "id": "3d8403a7-deec-4afd-a9a0-361694e42d30",
   "metadata": {},
   "outputs": [
    {
     "name": "stdout",
     "output_type": "stream",
     "text": [
      "h\n",
      "e\n",
      "l\n",
      "l\n",
      "o\n"
     ]
    }
   ],
   "source": [
    "s = 'hello world'\n",
    "\n",
    "for character in s:\n",
    "    if character == ' ':\n",
    "        break\n",
    "    print(character)\n",
    "    "
   ]
  },
  {
   "cell_type": "code",
   "execution_count": 15,
   "id": "ea8734ba-337f-43ff-9214-684602b224cd",
   "metadata": {},
   "outputs": [
    {
     "name": "stdout",
     "output_type": "stream",
     "text": [
      "p\n",
      "w\n",
      "s\n",
      "k\n",
      "i\n",
      "s\n"
     ]
    }
   ],
   "source": [
    "# continue\n",
    "\n",
    "for letter in \"pwskills\":\n",
    "    if letter == 'l':\n",
    "        continue\n",
    "    print(letter)"
   ]
  },
  {
   "cell_type": "code",
   "execution_count": 16,
   "id": "c551b990-e05f-4974-9631-de5ca40aec55",
   "metadata": {},
   "outputs": [
    {
     "name": "stdout",
     "output_type": "stream",
     "text": [
      "0\n",
      "1\n",
      "2\n",
      "4\n"
     ]
    }
   ],
   "source": [
    "for i in range(5):\n",
    "    if i == 3:\n",
    "        continue\n",
    "    print(i)"
   ]
  },
  {
   "cell_type": "code",
   "execution_count": 18,
   "id": "b2fe82a2-8f88-4be7-910e-afae84b07d6e",
   "metadata": {},
   "outputs": [
    {
     "name": "stdout",
     "output_type": "stream",
     "text": [
      "1\n",
      "3\n",
      "5\n",
      "7\n",
      "9\n"
     ]
    }
   ],
   "source": [
    "# write a program to print odd numbers from 1 to 10\n",
    "\n",
    "for i in range(1,11):\n",
    "    if i%2 !=0:\n",
    "        print(i)\n",
    "    else:\n",
    "        continue\n",
    "    "
   ]
  },
  {
   "cell_type": "code",
   "execution_count": 1,
   "id": "71348a18-1b07-4584-b1d9-971d181db13b",
   "metadata": {},
   "outputs": [
    {
     "name": "stdout",
     "output_type": "stream",
     "text": [
      "hello\n"
     ]
    }
   ],
   "source": [
    "# pass \n",
    "\n",
    "n = 10\n",
    "if n> 10:\n",
    "    pass\n",
    "print('hello')"
   ]
  },
  {
   "cell_type": "code",
   "execution_count": 2,
   "id": "ea2449b1-fa7f-4343-a2c7-b8c6e3ce0e69",
   "metadata": {},
   "outputs": [],
   "source": [
    "# functions"
   ]
  },
  {
   "cell_type": "code",
   "execution_count": 3,
   "id": "b8969011-e73f-470a-b3bf-abd0abf794ae",
   "metadata": {},
   "outputs": [],
   "source": [
    "def greet():\n",
    "    print(\"Hello PWskills\")"
   ]
  },
  {
   "cell_type": "code",
   "execution_count": 5,
   "id": "1343361a-7243-47f8-8add-b4778c7f10c8",
   "metadata": {},
   "outputs": [
    {
     "name": "stdout",
     "output_type": "stream",
     "text": [
      "Hello PWskills\n"
     ]
    }
   ],
   "source": [
    "greet()"
   ]
  },
  {
   "cell_type": "code",
   "execution_count": 16,
   "id": "5bb655ad-1e57-4328-8233-351d275fcfb8",
   "metadata": {},
   "outputs": [],
   "source": [
    "def add():\n",
    "    x = input(\"enter two numbers separated by space\")\n",
    "    c=int(x.split()[0])+int(x.split()[1])\n",
    "    print(c)"
   ]
  },
  {
   "cell_type": "code",
   "execution_count": 17,
   "id": "2511eb10-0fec-46e5-8dbf-fe1a3c96de67",
   "metadata": {},
   "outputs": [
    {
     "name": "stdin",
     "output_type": "stream",
     "text": [
      "enter two numbers separated by space 5 8 \n"
     ]
    },
    {
     "name": "stdout",
     "output_type": "stream",
     "text": [
      "13\n"
     ]
    }
   ],
   "source": [
    "add()"
   ]
  },
  {
   "cell_type": "code",
   "execution_count": 18,
   "id": "12aa1c23-edc1-4013-9170-eb82c05f2d87",
   "metadata": {},
   "outputs": [
    {
     "name": "stdin",
     "output_type": "stream",
     "text": [
      "enter two numbers separated by space 5 4 \n"
     ]
    },
    {
     "name": "stdout",
     "output_type": "stream",
     "text": [
      "9\n"
     ]
    }
   ],
   "source": [
    "add()"
   ]
  },
  {
   "cell_type": "code",
   "execution_count": 19,
   "id": "49cdedd4-1678-426c-b77f-19630f89c6a4",
   "metadata": {},
   "outputs": [],
   "source": [
    "def addtwonumbers():\n",
    "    a=input(\"enter first number\")\n",
    "    b=input(\"enter second number\")\n",
    "    c=int(a)+int(b)\n",
    "    print(c)"
   ]
  },
  {
   "cell_type": "code",
   "execution_count": 20,
   "id": "7a9c8783-63c6-4260-864c-a8d9a783725c",
   "metadata": {},
   "outputs": [
    {
     "name": "stdin",
     "output_type": "stream",
     "text": [
      "enter first number 5\n",
      "enter second number 4\n"
     ]
    },
    {
     "name": "stdout",
     "output_type": "stream",
     "text": [
      "9\n"
     ]
    }
   ],
   "source": [
    "addtwonumbers()"
   ]
  },
  {
   "cell_type": "code",
   "execution_count": 21,
   "id": "f26dd0fd-c5b9-4ecf-911e-744fa0879173",
   "metadata": {},
   "outputs": [],
   "source": [
    "def mult2numbers(x,y):\n",
    "    a=x\n",
    "    b=y\n",
    "    c=a*b\n",
    "    print(c)"
   ]
  },
  {
   "cell_type": "code",
   "execution_count": 22,
   "id": "5b1196e4-6c21-4386-8284-c6b5196b9d88",
   "metadata": {},
   "outputs": [
    {
     "name": "stdout",
     "output_type": "stream",
     "text": [
      "45\n"
     ]
    }
   ],
   "source": [
    "mult2numbers(5,9)"
   ]
  },
  {
   "cell_type": "code",
   "execution_count": 29,
   "id": "e480cd87-ad31-48f0-ad47-db9d0fc42c7d",
   "metadata": {},
   "outputs": [],
   "source": [
    "def intro(name):\n",
    "    print(\"Hi\",name)"
   ]
  },
  {
   "cell_type": "code",
   "execution_count": 31,
   "id": "54e23612-19e0-4b38-bef5-504f737722fb",
   "metadata": {},
   "outputs": [
    {
     "name": "stdout",
     "output_type": "stream",
     "text": [
      "Hi Amir\n"
     ]
    }
   ],
   "source": [
    "intro(\"Amir\")"
   ]
  },
  {
   "cell_type": "code",
   "execution_count": 32,
   "id": "4aa6c1ac-f925-49dd-9189-778807bc8550",
   "metadata": {},
   "outputs": [],
   "source": [
    "def intro(firstname,lastname):\n",
    "    print(\"Hi\",firstname+lastname)"
   ]
  },
  {
   "cell_type": "code",
   "execution_count": 35,
   "id": "0efd8eab-e1bd-421d-9399-851b40174f16",
   "metadata": {},
   "outputs": [
    {
     "name": "stdout",
     "output_type": "stream",
     "text": [
      "Hi Amir Khushroo\n"
     ]
    }
   ],
   "source": [
    "intro('Amir',' Khushroo')"
   ]
  },
  {
   "cell_type": "code",
   "execution_count": 36,
   "id": "2feee304-a45f-49d2-878d-71031fae10a1",
   "metadata": {},
   "outputs": [],
   "source": [
    "def absolute(n):\n",
    "    if n>0:\n",
    "        print(n)\n",
    "    else:\n",
    "        print(-n)"
   ]
  },
  {
   "cell_type": "code",
   "execution_count": 37,
   "id": "d8d31a18-c827-48a7-bdde-ca984228726e",
   "metadata": {},
   "outputs": [
    {
     "name": "stdout",
     "output_type": "stream",
     "text": [
      "2\n"
     ]
    }
   ],
   "source": [
    "absolute(-2)"
   ]
  },
  {
   "cell_type": "code",
   "execution_count": 38,
   "id": "abd86ab8-4b88-4e43-9d9e-09a17a7815a8",
   "metadata": {},
   "outputs": [
    {
     "name": "stdout",
     "output_type": "stream",
     "text": [
      "5\n"
     ]
    }
   ],
   "source": [
    "absolute(5)"
   ]
  },
  {
   "cell_type": "code",
   "execution_count": 39,
   "id": "ac6b97f7-04c7-47ce-bb39-1041fc3538f2",
   "metadata": {},
   "outputs": [],
   "source": [
    "def fullname(a,b):\n",
    "    c=a+b\n",
    "    print(c)"
   ]
  },
  {
   "cell_type": "code",
   "execution_count": 40,
   "id": "14e951a3-052d-4934-8c26-a55c132dc84e",
   "metadata": {},
   "outputs": [
    {
     "name": "stdout",
     "output_type": "stream",
     "text": [
      "AmirKhushroo\n"
     ]
    }
   ],
   "source": [
    "x=fullname('Amir','Khushroo')"
   ]
  },
  {
   "cell_type": "code",
   "execution_count": 41,
   "id": "1d833a1d-870d-44f1-8957-2419b0b689fb",
   "metadata": {},
   "outputs": [],
   "source": [
    "x"
   ]
  },
  {
   "cell_type": "code",
   "execution_count": 42,
   "id": "df02be25-7fa3-4bc5-b3e2-dca6f2075038",
   "metadata": {},
   "outputs": [
    {
     "data": {
      "text/plain": [
       "NoneType"
      ]
     },
     "execution_count": 42,
     "metadata": {},
     "output_type": "execute_result"
    }
   ],
   "source": [
    "type(x)"
   ]
  },
  {
   "cell_type": "code",
   "execution_count": 43,
   "id": "18538afc-b5cc-4bb8-bd57-e44411ab90c2",
   "metadata": {},
   "outputs": [],
   "source": [
    "def fullname(a,b):\n",
    "    c=a+b\n",
    "    return c"
   ]
  },
  {
   "cell_type": "code",
   "execution_count": 44,
   "id": "bcc6af50-da3f-4ad2-9ebb-30d168b84c76",
   "metadata": {},
   "outputs": [
    {
     "data": {
      "text/plain": [
       "'Amir Khushroo'"
      ]
     },
     "execution_count": 44,
     "metadata": {},
     "output_type": "execute_result"
    }
   ],
   "source": [
    "fullname('Amir ','Khushroo')"
   ]
  },
  {
   "cell_type": "code",
   "execution_count": 45,
   "id": "dfc15749-bee8-4d86-98fe-cef71b7ab7f7",
   "metadata": {},
   "outputs": [],
   "source": [
    "x=fullname('Amir ','Khushroo')"
   ]
  },
  {
   "cell_type": "code",
   "execution_count": 46,
   "id": "3b5d8c6b-40ff-4b9a-9de5-4d57cbb15aca",
   "metadata": {},
   "outputs": [
    {
     "data": {
      "text/plain": [
       "'Amir Khushroo'"
      ]
     },
     "execution_count": 46,
     "metadata": {},
     "output_type": "execute_result"
    }
   ],
   "source": [
    "x"
   ]
  },
  {
   "cell_type": "code",
   "execution_count": 47,
   "id": "561b31c8-c1da-45b9-a7d0-0e08667f8243",
   "metadata": {},
   "outputs": [
    {
     "data": {
      "text/plain": [
       "str"
      ]
     },
     "execution_count": 47,
     "metadata": {},
     "output_type": "execute_result"
    }
   ],
   "source": [
    "type(x)"
   ]
  },
  {
   "cell_type": "code",
   "execution_count": 4,
   "id": "45adc623-f9ba-490a-a510-0c09c4045608",
   "metadata": {},
   "outputs": [],
   "source": [
    "#dia = int(intput(\"enter the diameter of the circle\"))\n",
    "def areaofcircle(dia):\n",
    "    return (3.14*dia*dia)/4"
   ]
  },
  {
   "cell_type": "code",
   "execution_count": 5,
   "id": "65f26c52-1e9f-4b51-b195-730daa413032",
   "metadata": {},
   "outputs": [
    {
     "data": {
      "text/plain": [
       "176.625"
      ]
     },
     "execution_count": 5,
     "metadata": {},
     "output_type": "execute_result"
    }
   ],
   "source": [
    "areaofcircle(15)"
   ]
  },
  {
   "cell_type": "code",
   "execution_count": 1,
   "id": "e2552d82-c491-4da1-93a5-9bd33c345b4f",
   "metadata": {},
   "outputs": [],
   "source": [
    "def is_right_triangle(a,b,c):\n",
    "    if (a*a) == (b*b + c*c):\n",
    "        print(\"YES\")\n",
    "    elif (b*b) == (c*c + a*a):\n",
    "        print(\"YES\")\n",
    "    elif (c*c) == (b*b + a*a):\n",
    "        print(\"YES\")\n",
    "    else:\n",
    "        print(\"NO\")"
   ]
  },
  {
   "cell_type": "code",
   "execution_count": 2,
   "id": "727cedbf-37b6-4694-acf7-002bdcc2cfb2",
   "metadata": {},
   "outputs": [
    {
     "name": "stdout",
     "output_type": "stream",
     "text": [
      "NO\n"
     ]
    }
   ],
   "source": [
    "is_right_triangle(5,4,4)"
   ]
  },
  {
   "cell_type": "code",
   "execution_count": 3,
   "id": "e0e81bac-aa86-40f9-b4a3-4700ee734191",
   "metadata": {},
   "outputs": [
    {
     "ename": "NameError",
     "evalue": "name 'msg' is not defined",
     "output_type": "error",
     "traceback": [
      "\u001b[0;31m---------------------------------------------------------------------------\u001b[0m",
      "\u001b[0;31mNameError\u001b[0m                                 Traceback (most recent call last)",
      "Cell \u001b[0;32mIn[3], line 4\u001b[0m\n\u001b[1;32m      2\u001b[0m     msg \u001b[38;5;241m=\u001b[39m \u001b[38;5;124m'\u001b[39m\u001b[38;5;124mHello\u001b[39m\u001b[38;5;124m'\u001b[39m\n\u001b[1;32m      3\u001b[0m     \u001b[38;5;28;01mreturn\u001b[39;00m msg\n\u001b[0;32m----> 4\u001b[0m \u001b[38;5;28mprint\u001b[39m(\u001b[43mmsg\u001b[49m)\n",
      "\u001b[0;31mNameError\u001b[0m: name 'msg' is not defined"
     ]
    }
   ],
   "source": [
    "# global and local variable\n",
    "\n",
    "def greet():\n",
    "    msg = 'Hello'\n",
    "    return msg\n",
    "print(msg)"
   ]
  },
  {
   "cell_type": "code",
   "execution_count": 4,
   "id": "6e597b09-0e71-4cc2-a166-50a27f14ed0c",
   "metadata": {},
   "outputs": [
    {
     "ename": "NameError",
     "evalue": "name 'x' is not defined",
     "output_type": "error",
     "traceback": [
      "\u001b[0;31m---------------------------------------------------------------------------\u001b[0m",
      "\u001b[0;31mNameError\u001b[0m                                 Traceback (most recent call last)",
      "Cell \u001b[0;32mIn[4], line 5\u001b[0m\n\u001b[1;32m      3\u001b[0m     y\u001b[38;5;241m=\u001b[39m\u001b[38;5;241m10\u001b[39m\n\u001b[1;32m      4\u001b[0m     \u001b[38;5;28;01mreturn\u001b[39;00m x\u001b[38;5;241m+\u001b[39my\n\u001b[0;32m----> 5\u001b[0m \u001b[38;5;28mprint\u001b[39m(\u001b[43mx\u001b[49m)\n\u001b[1;32m      6\u001b[0m \u001b[38;5;28mprint\u001b[39m(y)\n",
      "\u001b[0;31mNameError\u001b[0m: name 'x' is not defined"
     ]
    }
   ],
   "source": [
    "def add():\n",
    "    x=20\n",
    "    y=10\n",
    "    return x+y\n",
    "print(x)\n",
    "print(y)"
   ]
  },
  {
   "cell_type": "code",
   "execution_count": 5,
   "id": "2e0b14c4-8f2d-4f83-b01a-09d55bc89557",
   "metadata": {},
   "outputs": [
    {
     "name": "stdout",
     "output_type": "stream",
     "text": [
      "python is fantastic\n",
      "awesome\n"
     ]
    }
   ],
   "source": [
    "x ='awesome'    #global scope\n",
    "\n",
    "def myfunc():\n",
    "    x='fantastic'         #local scope\n",
    "    print(\"python is \"+x)\n",
    "\n",
    "myfunc()\n",
    "print(x)"
   ]
  },
  {
   "cell_type": "code",
   "execution_count": 6,
   "id": "3efa61f0-e5d8-4919-bd69-a734499558f6",
   "metadata": {},
   "outputs": [],
   "source": [
    "x = 20\n",
    "\n",
    "def add():\n",
    "    y=30\n",
    "    print(\"local variable y=\",y)\n",
    "    print(\"global variable x=\",x)\n",
    "    \n",
    "    z = x+y\n",
    "    print(z)\n",
    "    \n"
   ]
  },
  {
   "cell_type": "code",
   "execution_count": 8,
   "id": "35344200-7c5b-4f1a-8c1b-8a360c7aae9a",
   "metadata": {},
   "outputs": [
    {
     "name": "stdout",
     "output_type": "stream",
     "text": [
      "local variable y= 30\n",
      "global variable x= 20\n",
      "50\n"
     ]
    }
   ],
   "source": [
    "add()"
   ]
  },
  {
   "cell_type": "code",
   "execution_count": 9,
   "id": "efb0db40-c20c-4fea-a161-6690ac5e2f85",
   "metadata": {},
   "outputs": [],
   "source": [
    "# python functional argument"
   ]
  },
  {
   "cell_type": "code",
   "execution_count": 12,
   "id": "83e0fb2e-9608-4bdc-a482-bc03ea7dabf4",
   "metadata": {},
   "outputs": [
    {
     "ename": "TypeError",
     "evalue": "add() missing 2 required positional arguments: 'a' and 'b'",
     "output_type": "error",
     "traceback": [
      "\u001b[0;31m---------------------------------------------------------------------------\u001b[0m",
      "\u001b[0;31mTypeError\u001b[0m                                 Traceback (most recent call last)",
      "Cell \u001b[0;32mIn[12], line 4\u001b[0m\n\u001b[1;32m      2\u001b[0m     \u001b[38;5;28msum\u001b[39m\u001b[38;5;241m=\u001b[39ma\u001b[38;5;241m+\u001b[39mb\n\u001b[1;32m      3\u001b[0m     \u001b[38;5;28mprint\u001b[39m(\u001b[38;5;124m\"\u001b[39m\u001b[38;5;124msum\u001b[39m\u001b[38;5;124m\"\u001b[39m,\u001b[38;5;28msum\u001b[39m)\n\u001b[0;32m----> 4\u001b[0m \u001b[43madd\u001b[49m\u001b[43m(\u001b[49m\u001b[43m)\u001b[49m\n",
      "\u001b[0;31mTypeError\u001b[0m: add() missing 2 required positional arguments: 'a' and 'b'"
     ]
    }
   ],
   "source": [
    "def add(a,b): #positional argument\n",
    "    sum=a+b\n",
    "    print(\"sum\",sum)\n",
    "add()"
   ]
  },
  {
   "cell_type": "code",
   "execution_count": 11,
   "id": "b3f50034-d7dc-4a28-b791-0ee26a0da625",
   "metadata": {},
   "outputs": [
    {
     "name": "stdout",
     "output_type": "stream",
     "text": [
      "sum 14\n"
     ]
    }
   ],
   "source": [
    "add(5,9)"
   ]
  },
  {
   "cell_type": "code",
   "execution_count": 13,
   "id": "8b4d987b-704d-4b8c-9b77-2101b7d829c9",
   "metadata": {},
   "outputs": [],
   "source": [
    "def add(a=4,b=8): #default argument\n",
    "    sum=a+b\n",
    "    print(\"sum\",sum)"
   ]
  },
  {
   "cell_type": "code",
   "execution_count": 14,
   "id": "d3134ba0-af30-466d-bbfa-643840008d6a",
   "metadata": {},
   "outputs": [
    {
     "name": "stdout",
     "output_type": "stream",
     "text": [
      "sum 12\n"
     ]
    }
   ],
   "source": [
    "add()"
   ]
  },
  {
   "cell_type": "code",
   "execution_count": 16,
   "id": "19744f61-5bda-496e-aa60-ecd7ccb9cd7e",
   "metadata": {},
   "outputs": [
    {
     "name": "stdout",
     "output_type": "stream",
     "text": [
      "sum 17\n"
     ]
    }
   ],
   "source": [
    "add(2,15)"
   ]
  },
  {
   "cell_type": "code",
   "execution_count": 17,
   "id": "f02ce667-ae5d-4335-9836-721297e3912c",
   "metadata": {},
   "outputs": [],
   "source": [
    "# keyword argument"
   ]
  },
  {
   "cell_type": "code",
   "execution_count": 18,
   "id": "1d6a88e6-e0ba-4e6d-b1e5-01da4b5f0176",
   "metadata": {},
   "outputs": [],
   "source": [
    "def display_info(first_name,last_name):\n",
    "    print(\"first name\",first_name)\n",
    "    print(\"last name\",last_name)"
   ]
  },
  {
   "cell_type": "code",
   "execution_count": 19,
   "id": "81c0c21b-8404-46ba-88ee-0f318e41ee3e",
   "metadata": {},
   "outputs": [
    {
     "name": "stdout",
     "output_type": "stream",
     "text": [
      "first name PW\n",
      "last name skills\n"
     ]
    }
   ],
   "source": [
    "display_info(first_name='PW',last_name='skills')"
   ]
  },
  {
   "cell_type": "code",
   "execution_count": 21,
   "id": "f4cc63e5-352b-4506-b8c6-e713fa70a4fa",
   "metadata": {},
   "outputs": [
    {
     "name": "stdout",
     "output_type": "stream",
     "text": [
      "first name PW\n",
      "last name skills\n"
     ]
    }
   ],
   "source": [
    "display_info(last_name='skills',first_name='PW')"
   ]
  },
  {
   "cell_type": "code",
   "execution_count": 24,
   "id": "9db5a6c2-ba88-4066-8df7-c606dff96334",
   "metadata": {},
   "outputs": [],
   "source": [
    "def add(a,b):  \n",
    "    sum=a+b\n",
    "    print(\"sum\",sum)"
   ]
  },
  {
   "cell_type": "code",
   "execution_count": 25,
   "id": "d0d3771f-4362-4a1f-9107-51dd67c053c0",
   "metadata": {},
   "outputs": [
    {
     "name": "stdout",
     "output_type": "stream",
     "text": [
      "sum 14\n"
     ]
    }
   ],
   "source": [
    "add(a=5,b=9)"
   ]
  },
  {
   "cell_type": "code",
   "execution_count": 26,
   "id": "8ee3b282-d548-48d1-a8ff-950e7ee4825c",
   "metadata": {},
   "outputs": [],
   "source": [
    "# *args and **kargs"
   ]
  },
  {
   "cell_type": "code",
   "execution_count": 27,
   "id": "65147139-8dff-42e9-8960-f0cfc6579513",
   "metadata": {},
   "outputs": [],
   "source": [
    "def find_sum(*numbers):\n",
    "    result = 0\n",
    "    \n",
    "    for i in numbers:\n",
    "        result = result + i\n",
    "    print(\"sum is\",result)"
   ]
  },
  {
   "cell_type": "code",
   "execution_count": 28,
   "id": "0c12fdb6-6279-4287-84e6-4d8018fc7b3a",
   "metadata": {},
   "outputs": [
    {
     "name": "stdout",
     "output_type": "stream",
     "text": [
      "sum is 15\n"
     ]
    }
   ],
   "source": [
    "find_sum(1,5,9)"
   ]
  },
  {
   "cell_type": "code",
   "execution_count": 29,
   "id": "4f8d795c-f4eb-4a7d-be17-49651d5174bf",
   "metadata": {},
   "outputs": [
    {
     "name": "stdout",
     "output_type": "stream",
     "text": [
      "sum is 73\n"
     ]
    }
   ],
   "source": [
    "find_sum(1,5,9,5,45,8)"
   ]
  },
  {
   "cell_type": "code",
   "execution_count": 30,
   "id": "93551513-0aee-43c5-b363-d635a94ceaa0",
   "metadata": {},
   "outputs": [],
   "source": [
    "def simple(*x):\n",
    "    print(x)"
   ]
  },
  {
   "cell_type": "code",
   "execution_count": 31,
   "id": "f234e897-69ec-4f7f-ba38-475b5f6d0222",
   "metadata": {},
   "outputs": [
    {
     "name": "stdout",
     "output_type": "stream",
     "text": [
      "()\n"
     ]
    }
   ],
   "source": [
    "simple()"
   ]
  },
  {
   "cell_type": "code",
   "execution_count": 32,
   "id": "60e308f0-14b5-4a31-8f07-f805bc894622",
   "metadata": {},
   "outputs": [
    {
     "name": "stdout",
     "output_type": "stream",
     "text": [
      "(1, 2, 3)\n"
     ]
    }
   ],
   "source": [
    "simple(1,2,3)"
   ]
  },
  {
   "cell_type": "code",
   "execution_count": 33,
   "id": "875584d8-8cc9-437a-a580-6a0a3b454e03",
   "metadata": {},
   "outputs": [
    {
     "name": "stdout",
     "output_type": "stream",
     "text": [
      "(1, 2, 3, 4, 5, 6, 7, 8, 9)\n"
     ]
    }
   ],
   "source": [
    "simple(1,2,3,4,5,6,7,8,9)"
   ]
  },
  {
   "cell_type": "code",
   "execution_count": 36,
   "id": "d0b45a40-0e1f-4a4e-907f-45160ded4b98",
   "metadata": {},
   "outputs": [],
   "source": [
    "def intro(**data):\n",
    "    print(\"datatype of argument\",type(data))\n",
    "    for key,value in data.items():\n",
    "        print(key,value)\n",
    "    "
   ]
  },
  {
   "cell_type": "code",
   "execution_count": 37,
   "id": "acc51230-095e-4692-80cb-33cfbdb20343",
   "metadata": {},
   "outputs": [
    {
     "name": "stdout",
     "output_type": "stream",
     "text": [
      "datatype of argument <class 'dict'>\n",
      "f_name pw\n",
      "l_name skills\n"
     ]
    }
   ],
   "source": [
    "intro(f_name='pw',l_name='skills')"
   ]
  },
  {
   "cell_type": "code",
   "execution_count": 38,
   "id": "f9051b80-f9d9-44a0-bc49-3b3050a00c54",
   "metadata": {},
   "outputs": [],
   "source": [
    "x={'a':1,'b':2}"
   ]
  },
  {
   "cell_type": "code",
   "execution_count": 39,
   "id": "d6e3ac15-ecc3-41a2-a298-269be8ea92e8",
   "metadata": {},
   "outputs": [
    {
     "name": "stdout",
     "output_type": "stream",
     "text": [
      "a 1\n",
      "b 2\n"
     ]
    }
   ],
   "source": [
    "for key,values in x.items():\n",
    "    print(key,values)"
   ]
  },
  {
   "cell_type": "code",
   "execution_count": 41,
   "id": "96cb1f94-cb08-4617-b268-066a9256ce0f",
   "metadata": {},
   "outputs": [],
   "source": [
    "def simple(**x):\n",
    "    print(x)"
   ]
  },
  {
   "cell_type": "code",
   "execution_count": 42,
   "id": "0d122dda-ad2c-4d26-938d-705e8907b846",
   "metadata": {},
   "outputs": [
    {
     "name": "stdout",
     "output_type": "stream",
     "text": [
      "{'name': 'amir', 'id': 5, 'age': 25}\n"
     ]
    }
   ],
   "source": [
    "simple(name='amir',id=5,age=25)"
   ]
  },
  {
   "cell_type": "code",
   "execution_count": 1,
   "id": "5be40c68-05ba-415f-a23e-e8534bdfec08",
   "metadata": {},
   "outputs": [],
   "source": [
    "#Lambda function"
   ]
  },
  {
   "cell_type": "code",
   "execution_count": 6,
   "id": "e5b8a64f-1568-40f4-97ca-97043455855b",
   "metadata": {},
   "outputs": [],
   "source": [
    "x = lambda : print('Hellow world')"
   ]
  },
  {
   "cell_type": "code",
   "execution_count": 7,
   "id": "160b0047-6026-448f-9dd0-e8ecf4e09624",
   "metadata": {},
   "outputs": [
    {
     "name": "stdout",
     "output_type": "stream",
     "text": [
      "Hellow world\n"
     ]
    }
   ],
   "source": [
    "x()"
   ]
  },
  {
   "cell_type": "code",
   "execution_count": 9,
   "id": "16eb6449-3dc0-4e7f-94cf-2bc0874eb854",
   "metadata": {},
   "outputs": [
    {
     "data": {
      "text/plain": [
       "<function __main__.<lambda>(a, b)>"
      ]
     },
     "execution_count": 9,
     "metadata": {},
     "output_type": "execute_result"
    }
   ],
   "source": [
    "lambda a, b:a+b"
   ]
  },
  {
   "cell_type": "code",
   "execution_count": 10,
   "id": "7a043866-0ccf-4b83-9989-3ed1043d3eb7",
   "metadata": {},
   "outputs": [],
   "source": [
    "addnum=lambda a, b:a+b"
   ]
  },
  {
   "cell_type": "code",
   "execution_count": 11,
   "id": "9b85a012-4f29-41fb-93ea-18dd3e83a348",
   "metadata": {},
   "outputs": [
    {
     "data": {
      "text/plain": [
       "5"
      ]
     },
     "execution_count": 11,
     "metadata": {},
     "output_type": "execute_result"
    }
   ],
   "source": [
    "addnum(2,3)"
   ]
  },
  {
   "cell_type": "code",
   "execution_count": 12,
   "id": "30435a8c-944f-4f6c-bb1f-09b00cfe9ea6",
   "metadata": {},
   "outputs": [],
   "source": [
    "mulnum = lambda a,b : a*b"
   ]
  },
  {
   "cell_type": "code",
   "execution_count": 13,
   "id": "0e959fda-27ec-4257-87e6-7def01ebed74",
   "metadata": {},
   "outputs": [
    {
     "data": {
      "text/plain": [
       "6"
      ]
     },
     "execution_count": 13,
     "metadata": {},
     "output_type": "execute_result"
    }
   ],
   "source": [
    "mulnum(2,3)"
   ]
  },
  {
   "cell_type": "code",
   "execution_count": 14,
   "id": "49d385f9-73b3-4756-ad1e-e57ed848c2ed",
   "metadata": {},
   "outputs": [
    {
     "name": "stdin",
     "output_type": "stream",
     "text": [
      "enter first number 5\n",
      "enter second number 8\n"
     ]
    },
    {
     "name": "stdout",
     "output_type": "stream",
     "text": [
      "(25, 64)\n"
     ]
    }
   ],
   "source": [
    "a=int(input('enter first number'))\n",
    "b=int(input('enter second number'))\n",
    "square=lambda a,b:(a**2,b**2)\n",
    "print(square(a,b))"
   ]
  },
  {
   "cell_type": "code",
   "execution_count": 20,
   "id": "d5b38c00-6cf2-4992-b04a-4a363bbf5cc5",
   "metadata": {},
   "outputs": [],
   "source": [
    "#a=int(input('enter a number'))\n",
    "oddeven=lambda a : print('Even Number') if a%2==0 else print('Odd Number')\n"
   ]
  },
  {
   "cell_type": "code",
   "execution_count": 21,
   "id": "8d8e8049-eeba-418c-b3ba-bc6f439a0ee2",
   "metadata": {},
   "outputs": [
    {
     "name": "stdout",
     "output_type": "stream",
     "text": [
      "Odd Number\n"
     ]
    }
   ],
   "source": [
    "oddeven(5)"
   ]
  },
  {
   "cell_type": "code",
   "execution_count": 22,
   "id": "333252d6-90b7-462b-aa01-1a8e2a1a4c3f",
   "metadata": {},
   "outputs": [
    {
     "name": "stdout",
     "output_type": "stream",
     "text": [
      "Even Number\n"
     ]
    }
   ],
   "source": [
    "oddeven(4)"
   ]
  },
  {
   "cell_type": "code",
   "execution_count": 23,
   "id": "af7e9b66-a470-49d7-84e5-d98e432efea8",
   "metadata": {},
   "outputs": [],
   "source": [
    "oddeven=lambda a : 'Even Number' if a%2==0 else 'Odd Number'\n"
   ]
  },
  {
   "cell_type": "code",
   "execution_count": 24,
   "id": "619a1b2e-d592-427a-ae9e-71fd6cf7cbbb",
   "metadata": {},
   "outputs": [
    {
     "data": {
      "text/plain": [
       "'Even Number'"
      ]
     },
     "execution_count": 24,
     "metadata": {},
     "output_type": "execute_result"
    }
   ],
   "source": [
    "oddeven(4)"
   ]
  },
  {
   "cell_type": "code",
   "execution_count": 25,
   "id": "4c890aaf-6a45-4bee-a90e-38bc5a33847c",
   "metadata": {},
   "outputs": [],
   "source": [
    "greater_num = lambda a,b : 'a is greater' if a>b else 'b is greater'"
   ]
  },
  {
   "cell_type": "code",
   "execution_count": 26,
   "id": "7abce620-852e-4054-bf3e-c462ba353931",
   "metadata": {},
   "outputs": [
    {
     "data": {
      "text/plain": [
       "'b is greater'"
      ]
     },
     "execution_count": 26,
     "metadata": {},
     "output_type": "execute_result"
    }
   ],
   "source": [
    "greater_num(2,8)"
   ]
  },
  {
   "cell_type": "code",
   "execution_count": 28,
   "id": "d7f4ba8a-b6f0-4e40-abbd-4a7f763718d8",
   "metadata": {},
   "outputs": [],
   "source": [
    "products = [\n",
    "    {'name':'product1','price':50},\n",
    "    {'name':'product2','price':40},\n",
    "    {'name':'product3','price':30},\n",
    "    {'name':'product4','price':80}\n",
    "]"
   ]
  },
  {
   "cell_type": "code",
   "execution_count": 33,
   "id": "bc128a9c-f299-4d6b-aed5-2cd1bb1443df",
   "metadata": {},
   "outputs": [],
   "source": [
    "# sorted()\n",
    "sorted_products = sorted(products, key = lambda x:x['price'])"
   ]
  },
  {
   "cell_type": "code",
   "execution_count": 31,
   "id": "b2202e7c-c39a-4ad6-84f9-93e0adb1e9ce",
   "metadata": {},
   "outputs": [
    {
     "name": "stdout",
     "output_type": "stream",
     "text": [
      "{'name': 'product3', 'price': 30}\n",
      "{'name': 'product2', 'price': 40}\n",
      "{'name': 'product1', 'price': 50}\n",
      "{'name': 'product4', 'price': 80}\n"
     ]
    }
   ],
   "source": [
    "for i in sorted_products:\n",
    "    print(i)"
   ]
  },
  {
   "cell_type": "code",
   "execution_count": 34,
   "id": "f200d0ea-0c6d-4840-ac91-25697a3892c9",
   "metadata": {},
   "outputs": [],
   "source": [
    "sorted_products = sorted(products, key = lambda x:x['price'],reverse=True)"
   ]
  },
  {
   "cell_type": "code",
   "execution_count": 35,
   "id": "ef40f6ba-293f-4af9-9f22-dbbb266168a8",
   "metadata": {},
   "outputs": [
    {
     "name": "stdout",
     "output_type": "stream",
     "text": [
      "{'name': 'product4', 'price': 80}\n",
      "{'name': 'product1', 'price': 50}\n",
      "{'name': 'product2', 'price': 40}\n",
      "{'name': 'product3', 'price': 30}\n"
     ]
    }
   ],
   "source": [
    "for i in sorted_products:\n",
    "    print(i)"
   ]
  },
  {
   "cell_type": "code",
   "execution_count": 36,
   "id": "7940d8ef-479b-4009-add6-f5d219874349",
   "metadata": {},
   "outputs": [],
   "source": [
    "x=lambda char : 'vowel' if char=='a' or char=='e' or  char=='i' or  char=='o' or  char=='u' else 'not a vowel'"
   ]
  },
  {
   "cell_type": "code",
   "execution_count": 38,
   "id": "2f874663-81c0-40f3-a8f4-362108165a56",
   "metadata": {},
   "outputs": [
    {
     "data": {
      "text/plain": [
       "'not a vowel'"
      ]
     },
     "execution_count": 38,
     "metadata": {},
     "output_type": "execute_result"
    }
   ],
   "source": [
    "x('h')"
   ]
  },
  {
   "cell_type": "code",
   "execution_count": 39,
   "id": "3bf868d9-bce7-421a-813b-580a756d034e",
   "metadata": {},
   "outputs": [
    {
     "data": {
      "text/plain": [
       "'vowel'"
      ]
     },
     "execution_count": 39,
     "metadata": {},
     "output_type": "execute_result"
    }
   ],
   "source": [
    "x('a')"
   ]
  },
  {
   "cell_type": "code",
   "execution_count": 40,
   "id": "70e4e362-34a3-4b06-b28d-90ffb9e7a39a",
   "metadata": {},
   "outputs": [],
   "source": [
    "y= lambda char : 'vowel' if char in ['a','e','i','o','u'] else 'not a vowel'"
   ]
  },
  {
   "cell_type": "code",
   "execution_count": 41,
   "id": "549f1f95-7c36-4d4b-8850-e9d2ba0c03a1",
   "metadata": {},
   "outputs": [
    {
     "data": {
      "text/plain": [
       "'not a vowel'"
      ]
     },
     "execution_count": 41,
     "metadata": {},
     "output_type": "execute_result"
    }
   ],
   "source": [
    "y('j')"
   ]
  },
  {
   "cell_type": "code",
   "execution_count": 42,
   "id": "e5c4a553-89ac-4035-a6a1-024357f5bf1a",
   "metadata": {},
   "outputs": [
    {
     "data": {
      "text/plain": [
       "'vowel'"
      ]
     },
     "execution_count": 42,
     "metadata": {},
     "output_type": "execute_result"
    }
   ],
   "source": [
    "y('i')"
   ]
  },
  {
   "cell_type": "code",
   "execution_count": 43,
   "id": "a43dcff2-0f3b-492b-8365-33e6679a477e",
   "metadata": {},
   "outputs": [],
   "source": [
    "# filter, map, reduce"
   ]
  },
  {
   "cell_type": "code",
   "execution_count": null,
   "id": "7196495f-e43a-445d-b77d-e4a68b8c0fda",
   "metadata": {},
   "outputs": [],
   "source": [
    " "
   ]
  },
  {
   "cell_type": "code",
   "execution_count": 44,
   "id": "c42e9470-2479-4646-afe1-b102d1ae9b64",
   "metadata": {},
   "outputs": [
    {
     "name": "stdout",
     "output_type": "stream",
     "text": [
      "a\n",
      "m\n",
      "i\n",
      "r\n"
     ]
    }
   ],
   "source": [
    "s1=\"amir\"\n",
    "for i in s1:\n",
    "    print(i)"
   ]
  },
  {
   "cell_type": "code",
   "execution_count": 46,
   "id": "4730a6eb-e2b4-4000-9068-579e4ed4d317",
   "metadata": {},
   "outputs": [],
   "source": [
    "# built in functions"
   ]
  },
  {
   "cell_type": "code",
   "execution_count": 47,
   "id": "e70e014e-cc3b-4550-8f3e-8e4ba8685200",
   "metadata": {},
   "outputs": [],
   "source": [
    "x=-10\n"
   ]
  },
  {
   "cell_type": "code",
   "execution_count": 48,
   "id": "9307e0c6-7675-4cd2-ab1f-250d4a243c97",
   "metadata": {},
   "outputs": [
    {
     "data": {
      "text/plain": [
       "10"
      ]
     },
     "execution_count": 48,
     "metadata": {},
     "output_type": "execute_result"
    }
   ],
   "source": [
    "abs(x)"
   ]
  },
  {
   "cell_type": "code",
   "execution_count": 49,
   "id": "73b1e4b2-53e3-4d53-ad10-d8f58df621f7",
   "metadata": {},
   "outputs": [],
   "source": [
    "l=[15,2,45,15,8,5,56,92]"
   ]
  },
  {
   "cell_type": "code",
   "execution_count": 50,
   "id": "4769c3f9-3b1d-4bc1-8ac6-5c54e5f76267",
   "metadata": {},
   "outputs": [
    {
     "data": {
      "text/plain": [
       "92"
      ]
     },
     "execution_count": 50,
     "metadata": {},
     "output_type": "execute_result"
    }
   ],
   "source": [
    "max(l)"
   ]
  },
  {
   "cell_type": "code",
   "execution_count": 51,
   "id": "48c0728b-0f5c-4e59-b1c4-28c741c0fd6f",
   "metadata": {},
   "outputs": [],
   "source": [
    "language = ['python','java','javascript']"
   ]
  },
  {
   "cell_type": "code",
   "execution_count": 52,
   "id": "1a46ee9c-360b-417f-a925-6ec43e4588eb",
   "metadata": {},
   "outputs": [],
   "source": [
    "enumerate_prime = enumerate(language) # attaches an index for every item"
   ]
  },
  {
   "cell_type": "code",
   "execution_count": 54,
   "id": "02be143b-9d35-4aa4-88d8-acbdff258076",
   "metadata": {},
   "outputs": [
    {
     "data": {
      "text/plain": [
       "[(0, 'python'), (1, 'java'), (2, 'javascript')]"
      ]
     },
     "execution_count": 54,
     "metadata": {},
     "output_type": "execute_result"
    }
   ],
   "source": [
    "list(enumerate_prime)"
   ]
  },
  {
   "cell_type": "code",
   "execution_count": 55,
   "id": "eb5d25f0-49c5-4738-9dc1-f662f33414dd",
   "metadata": {},
   "outputs": [],
   "source": [
    "enumerate_prime = enumerate(language,2) # if i want to start the index with 2"
   ]
  },
  {
   "cell_type": "code",
   "execution_count": 56,
   "id": "1fef1e7c-05c7-479f-b767-26fa7fc463b0",
   "metadata": {},
   "outputs": [
    {
     "data": {
      "text/plain": [
       "[(2, 'python'), (3, 'java'), (4, 'javascript')]"
      ]
     },
     "execution_count": 56,
     "metadata": {},
     "output_type": "execute_result"
    }
   ],
   "source": [
    "list(enumerate_prime)"
   ]
  },
  {
   "cell_type": "code",
   "execution_count": 57,
   "id": "c93a41fe-939f-4535-874f-1db650ca1689",
   "metadata": {},
   "outputs": [],
   "source": [
    "# list comprehension"
   ]
  },
  {
   "cell_type": "code",
   "execution_count": 65,
   "id": "c56852f1-3dd1-42e9-a63d-b361335785b7",
   "metadata": {},
   "outputs": [],
   "source": [
    "lst = list(range(0,11))"
   ]
  },
  {
   "cell_type": "code",
   "execution_count": 68,
   "id": "a1a6402f-6184-4ee7-b756-6f24fc471bdf",
   "metadata": {},
   "outputs": [],
   "source": [
    "a = [x for x in lst]"
   ]
  },
  {
   "cell_type": "code",
   "execution_count": 67,
   "id": "7fe262b3-436e-4ded-8f9b-33376a761191",
   "metadata": {},
   "outputs": [
    {
     "data": {
      "text/plain": [
       "[0, 1, 2, 3, 4, 5, 6, 7, 8, 9, 10]"
      ]
     },
     "execution_count": 67,
     "metadata": {},
     "output_type": "execute_result"
    }
   ],
   "source": [
    "lst"
   ]
  },
  {
   "cell_type": "code",
   "execution_count": 69,
   "id": "65272473-f564-4a89-903e-cb338d17e43e",
   "metadata": {},
   "outputs": [
    {
     "data": {
      "text/plain": [
       "[0, 1, 2, 3, 4, 5, 6, 7, 8, 9, 10]"
      ]
     },
     "execution_count": 69,
     "metadata": {},
     "output_type": "execute_result"
    }
   ],
   "source": [
    "a"
   ]
  },
  {
   "cell_type": "code",
   "execution_count": 70,
   "id": "b10ad890-1f12-4f94-8336-8d7c211cc42d",
   "metadata": {},
   "outputs": [],
   "source": [
    "a = [x+1 for x in lst]"
   ]
  },
  {
   "cell_type": "code",
   "execution_count": 71,
   "id": "2cd4a06b-adbc-4328-9ef9-0c1ce24c4a62",
   "metadata": {},
   "outputs": [
    {
     "data": {
      "text/plain": [
       "[1, 2, 3, 4, 5, 6, 7, 8, 9, 10, 11]"
      ]
     },
     "execution_count": 71,
     "metadata": {},
     "output_type": "execute_result"
    }
   ],
   "source": [
    "a"
   ]
  },
  {
   "cell_type": "code",
   "execution_count": 72,
   "id": "48a611d5-e8ea-428f-86ec-92ebeca11799",
   "metadata": {},
   "outputs": [],
   "source": [
    "a = [x*2 for x in lst]"
   ]
  },
  {
   "cell_type": "code",
   "execution_count": 73,
   "id": "9e553435-7714-41b2-a88f-952e229bc8f9",
   "metadata": {},
   "outputs": [
    {
     "data": {
      "text/plain": [
       "[0, 2, 4, 6, 8, 10, 12, 14, 16, 18, 20]"
      ]
     },
     "execution_count": 73,
     "metadata": {},
     "output_type": "execute_result"
    }
   ],
   "source": [
    "a"
   ]
  },
  {
   "cell_type": "code",
   "execution_count": 1,
   "id": "89ab7284-f777-4203-b94d-46d03c26f1c4",
   "metadata": {},
   "outputs": [
    {
     "data": {
      "text/plain": [
       "[5, 6, 7, 8, 9, 10]"
      ]
     },
     "execution_count": 1,
     "metadata": {},
     "output_type": "execute_result"
    }
   ],
   "source": [
    "lst = list(range(0,11))\n",
    "\n",
    "c= [x for x in lst if x>4]\n",
    "c"
   ]
  },
  {
   "cell_type": "code",
   "execution_count": 2,
   "id": "0213a6b5-f959-4e7d-8658-79bb8aca0523",
   "metadata": {},
   "outputs": [],
   "source": [
    "a=[]\n",
    "\n",
    "for x in lst:\n",
    "    if x>4:\n",
    "        a.append(x)"
   ]
  },
  {
   "cell_type": "code",
   "execution_count": 3,
   "id": "d3c234d0-23d4-4d64-a04c-1fb688967e11",
   "metadata": {},
   "outputs": [
    {
     "data": {
      "text/plain": [
       "[5, 6, 7, 8, 9, 10]"
      ]
     },
     "execution_count": 3,
     "metadata": {},
     "output_type": "execute_result"
    }
   ],
   "source": [
    "a"
   ]
  },
  {
   "cell_type": "code",
   "execution_count": 4,
   "id": "54299f1e-2ea9-4c20-886e-a2eb666f75af",
   "metadata": {},
   "outputs": [
    {
     "data": {
      "text/plain": [
       "[0, 2, 4, 6, 8, 10]"
      ]
     },
     "execution_count": 4,
     "metadata": {},
     "output_type": "execute_result"
    }
   ],
   "source": [
    "lst = list(range(0,11))\n",
    "\n",
    "result = [i for i in lst if i%2==0]\n",
    "result"
   ]
  },
  {
   "cell_type": "code",
   "execution_count": 5,
   "id": "3b9ad79e-a354-4434-8284-46f800e3b927",
   "metadata": {},
   "outputs": [
    {
     "data": {
      "text/plain": [
       "[6, 8, 10]"
      ]
     },
     "execution_count": 5,
     "metadata": {},
     "output_type": "execute_result"
    }
   ],
   "source": [
    "lst = list(range(0,11))\n",
    "\n",
    "d=[x for x in lst if x>4 if x%2==0]\n",
    "d"
   ]
  },
  {
   "cell_type": "code",
   "execution_count": 6,
   "id": "a7979dd1-df79-4426-973a-182a75de59e6",
   "metadata": {},
   "outputs": [
    {
     "data": {
      "text/plain": [
       "['less than 4',\n",
       " 'less than 4',\n",
       " 'less than 4',\n",
       " 'less than 4',\n",
       " 'less than 4',\n",
       " 5,\n",
       " 6,\n",
       " 7,\n",
       " 8,\n",
       " 9,\n",
       " 10]"
      ]
     },
     "execution_count": 6,
     "metadata": {},
     "output_type": "execute_result"
    }
   ],
   "source": [
    "lst = list(range(0,11))\n",
    "\n",
    "e=[x if x>4 else 'less than 4' for x in lst]\n",
    "\n",
    "e"
   ]
  },
  {
   "cell_type": "code",
   "execution_count": 7,
   "id": "dad4d2aa-7275-4deb-9f1b-8ec8281eeb0b",
   "metadata": {},
   "outputs": [],
   "source": [
    "a=[]\n",
    "\n",
    "for x in lst:\n",
    "    if x>4:\n",
    "        a.append(x)\n",
    "    else:\n",
    "        a.append('less than 4')"
   ]
  },
  {
   "cell_type": "code",
   "execution_count": 8,
   "id": "aa21fad9-e844-4036-be7b-218954f66b97",
   "metadata": {},
   "outputs": [
    {
     "data": {
      "text/plain": [
       "['less than 4',\n",
       " 'less than 4',\n",
       " 'less than 4',\n",
       " 'less than 4',\n",
       " 'less than 4',\n",
       " 5,\n",
       " 6,\n",
       " 7,\n",
       " 8,\n",
       " 9,\n",
       " 10]"
      ]
     },
     "execution_count": 8,
     "metadata": {},
     "output_type": "execute_result"
    }
   ],
   "source": [
    "a"
   ]
  },
  {
   "cell_type": "code",
   "execution_count": 13,
   "id": "c80e1a7d-9e36-4ee2-b926-033a788e599e",
   "metadata": {},
   "outputs": [],
   "source": [
    "f=['two' if x%2==0 else 'three' if x%3==0 else 'not two & three' for x in lst]"
   ]
  },
  {
   "cell_type": "code",
   "execution_count": 14,
   "id": "81c8cf77-cf73-4c66-b5b2-7455a40cd95e",
   "metadata": {},
   "outputs": [
    {
     "data": {
      "text/plain": [
       "['two',\n",
       " 'not two & three',\n",
       " 'two',\n",
       " 'three',\n",
       " 'two',\n",
       " 'not two & three',\n",
       " 'two',\n",
       " 'not two & three',\n",
       " 'two',\n",
       " 'three',\n",
       " 'two']"
      ]
     },
     "execution_count": 14,
     "metadata": {},
     "output_type": "execute_result"
    }
   ],
   "source": [
    "f"
   ]
  },
  {
   "cell_type": "code",
   "execution_count": 19,
   "id": "5598a509-be68-4282-bf59-0f7472ceb6aa",
   "metadata": {},
   "outputs": [],
   "source": [
    "a=[]\n",
    "\n",
    "for x in lst:\n",
    "    if x%2==0:\n",
    "        a.append('two')\n",
    "    elif x%3==0:\n",
    "        a.append('three')\n",
    "    else:\n",
    "        a.append('not 2 & 3')"
   ]
  },
  {
   "cell_type": "code",
   "execution_count": 20,
   "id": "01f502e6-bcc7-43ea-b024-71c1aed92da7",
   "metadata": {},
   "outputs": [
    {
     "data": {
      "text/plain": [
       "['two',\n",
       " 'not 2 & 3',\n",
       " 'two',\n",
       " 'three',\n",
       " 'two',\n",
       " 'not 2 & 3',\n",
       " 'two',\n",
       " 'not 2 & 3',\n",
       " 'two',\n",
       " 'three',\n",
       " 'two']"
      ]
     },
     "execution_count": 20,
     "metadata": {},
     "output_type": "execute_result"
    }
   ],
   "source": [
    "a"
   ]
  },
  {
   "cell_type": "code",
   "execution_count": null,
   "id": "213e7019-4cea-41ee-9040-35c973643cca",
   "metadata": {},
   "outputs": [],
   "source": []
  }
 ],
 "metadata": {
  "kernelspec": {
   "display_name": "Python 3 (ipykernel)",
   "language": "python",
   "name": "python3"
  },
  "language_info": {
   "codemirror_mode": {
    "name": "ipython",
    "version": 3
   },
   "file_extension": ".py",
   "mimetype": "text/x-python",
   "name": "python",
   "nbconvert_exporter": "python",
   "pygments_lexer": "ipython3",
   "version": "3.10.8"
  }
 },
 "nbformat": 4,
 "nbformat_minor": 5
}
