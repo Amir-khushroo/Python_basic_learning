{
 "cells": [
  {
   "cell_type": "code",
   "execution_count": 1,
   "id": "529f818b-39e7-4807-ba99-6ab014d03051",
   "metadata": {},
   "outputs": [],
   "source": [
    "# map reduce and filter"
   ]
  },
  {
   "cell_type": "code",
   "execution_count": 1,
   "id": "a29a0b12-561b-4e4c-9110-51119b79cb9b",
   "metadata": {},
   "outputs": [],
   "source": [
    "l=[5,6,7,8,89]\n",
    "\n",
    "l1=[]\n",
    "for i in l:\n",
    "    l1.append(i+2)"
   ]
  },
  {
   "cell_type": "code",
   "execution_count": 2,
   "id": "ca140fdb-3efe-4bab-ac22-536632a93b83",
   "metadata": {},
   "outputs": [
    {
     "data": {
      "text/plain": [
       "[7, 8, 9, 10, 91]"
      ]
     },
     "execution_count": 2,
     "metadata": {},
     "output_type": "execute_result"
    }
   ],
   "source": [
    "l1"
   ]
  },
  {
   "cell_type": "code",
   "execution_count": 3,
   "id": "88ec9f48-cfe4-43ac-a91d-40c08f24be9a",
   "metadata": {},
   "outputs": [],
   "source": [
    "def add_list(l):\n",
    "    l1=[]\n",
    "    for i in l:\n",
    "        l1.append(i+2)\n",
    "    return l1\n",
    "    "
   ]
  },
  {
   "cell_type": "code",
   "execution_count": 4,
   "id": "9f49e421-e2bb-4490-b9b1-dd68cb64ffa2",
   "metadata": {},
   "outputs": [
    {
     "data": {
      "text/plain": [
       "[7, 8, 9, 10, 91]"
      ]
     },
     "execution_count": 4,
     "metadata": {},
     "output_type": "execute_result"
    }
   ],
   "source": [
    "add_list([5,6,7,8,89])"
   ]
  },
  {
   "cell_type": "code",
   "execution_count": 5,
   "id": "d24d7dde-150b-487f-9624-301b7cf1a661",
   "metadata": {},
   "outputs": [],
   "source": [
    "v = lambda a : a+2"
   ]
  },
  {
   "cell_type": "code",
   "execution_count": 6,
   "id": "83a5402d-8319-4cea-885d-4276cee0d420",
   "metadata": {},
   "outputs": [
    {
     "data": {
      "text/plain": [
       "12"
      ]
     },
     "execution_count": 6,
     "metadata": {},
     "output_type": "execute_result"
    }
   ],
   "source": [
    "v(10)"
   ]
  },
  {
   "cell_type": "code",
   "execution_count": 7,
   "id": "567bba6b-f1c2-4c78-a6d8-075267209366",
   "metadata": {},
   "outputs": [
    {
     "ename": "TypeError",
     "evalue": "map() must have at least two arguments.",
     "output_type": "error",
     "traceback": [
      "\u001b[0;31m---------------------------------------------------------------------------\u001b[0m",
      "\u001b[0;31mTypeError\u001b[0m                                 Traceback (most recent call last)",
      "Cell \u001b[0;32mIn[7], line 1\u001b[0m\n\u001b[0;32m----> 1\u001b[0m v \u001b[38;5;241m=\u001b[39m \u001b[38;5;28;43mmap\u001b[39;49m\u001b[43m(\u001b[49m\u001b[38;5;28;43;01mlambda\u001b[39;49;00m\u001b[43m \u001b[49m\u001b[43ma\u001b[49m\u001b[43m \u001b[49m\u001b[43m:\u001b[49m\u001b[43m \u001b[49m\u001b[43ma\u001b[49m\u001b[38;5;241;43m+\u001b[39;49m\u001b[38;5;241;43m2\u001b[39;49m\u001b[43m)\u001b[49m\n",
      "\u001b[0;31mTypeError\u001b[0m: map() must have at least two arguments."
     ]
    }
   ],
   "source": [
    "v = map(lambda a : a+2)"
   ]
  },
  {
   "cell_type": "code",
   "execution_count": 8,
   "id": "49b2a64b-dced-4053-bf75-1feaf8cdff58",
   "metadata": {},
   "outputs": [
    {
     "data": {
      "text/plain": [
       "[5, 6, 7, 8, 89]"
      ]
     },
     "execution_count": 8,
     "metadata": {},
     "output_type": "execute_result"
    }
   ],
   "source": [
    "l"
   ]
  },
  {
   "cell_type": "code",
   "execution_count": 9,
   "id": "8ef002bc-ef25-468e-8abc-811372beeb9a",
   "metadata": {},
   "outputs": [
    {
     "data": {
      "text/plain": [
       "<map at 0x7f83581cb9a0>"
      ]
     },
     "execution_count": 9,
     "metadata": {},
     "output_type": "execute_result"
    }
   ],
   "source": [
    "map(lambda a : a+2,l)"
   ]
  },
  {
   "cell_type": "code",
   "execution_count": 10,
   "id": "db42c447-175e-4f5f-837c-fe0aa84feb7d",
   "metadata": {},
   "outputs": [
    {
     "data": {
      "text/plain": [
       "[7, 8, 9, 10, 91]"
      ]
     },
     "execution_count": 10,
     "metadata": {},
     "output_type": "execute_result"
    }
   ],
   "source": [
    "list(map(lambda a : a+2,l))"
   ]
  },
  {
   "cell_type": "code",
   "execution_count": 11,
   "id": "7a960ca6-5043-4f4f-93ad-e863b7bf589a",
   "metadata": {},
   "outputs": [],
   "source": [
    "def test1(c):\n",
    "    return c+2"
   ]
  },
  {
   "cell_type": "code",
   "execution_count": 12,
   "id": "38312a17-7423-4cfd-8412-003e952a28b2",
   "metadata": {},
   "outputs": [
    {
     "data": {
      "text/plain": [
       "[7, 8, 9, 10, 91]"
      ]
     },
     "execution_count": 12,
     "metadata": {},
     "output_type": "execute_result"
    }
   ],
   "source": [
    "list(map(test1,l))"
   ]
  },
  {
   "cell_type": "code",
   "execution_count": 13,
   "id": "562ee52f-32dd-4523-ad25-efc4bd231f40",
   "metadata": {},
   "outputs": [
    {
     "data": {
      "text/plain": [
       "[5, 6, 7, 8, 89]"
      ]
     },
     "execution_count": 13,
     "metadata": {},
     "output_type": "execute_result"
    }
   ],
   "source": [
    "l"
   ]
  },
  {
   "cell_type": "code",
   "execution_count": 14,
   "id": "7ba11f51-b3c2-4dfa-ad13-18c1a798f47c",
   "metadata": {},
   "outputs": [],
   "source": [
    "l1 = ['sudh','kumar','pwskills']"
   ]
  },
  {
   "cell_type": "code",
   "execution_count": 15,
   "id": "19e1a48a-3e79-4099-bd7f-893c2bfef8e3",
   "metadata": {},
   "outputs": [
    {
     "data": {
      "text/plain": [
       "[4, 5, 8]"
      ]
     },
     "execution_count": 15,
     "metadata": {},
     "output_type": "execute_result"
    }
   ],
   "source": [
    "list(map(lambda a : len(a),l1))"
   ]
  },
  {
   "cell_type": "code",
   "execution_count": 16,
   "id": "5d6605b3-fd29-4f7b-9d12-83ec19c4276d",
   "metadata": {},
   "outputs": [],
   "source": [
    "def test2(l):\n",
    "    l2=[]\n",
    "    for i in l1:\n",
    "        l2.append(len(i))\n",
    "    return l2"
   ]
  },
  {
   "cell_type": "code",
   "execution_count": 17,
   "id": "f941ae71-72ce-410e-a0bd-8844a183369d",
   "metadata": {},
   "outputs": [
    {
     "data": {
      "text/plain": [
       "[4, 5, 8]"
      ]
     },
     "execution_count": 17,
     "metadata": {},
     "output_type": "execute_result"
    }
   ],
   "source": [
    "test2(l1)"
   ]
  },
  {
   "cell_type": "code",
   "execution_count": 18,
   "id": "53f1f51f-ba07-466f-8c4a-25bceb07aedc",
   "metadata": {},
   "outputs": [
    {
     "data": {
      "text/plain": [
       "[4, 5, 8]"
      ]
     },
     "execution_count": 18,
     "metadata": {},
     "output_type": "execute_result"
    }
   ],
   "source": [
    "list(map(len,l1))"
   ]
  },
  {
   "cell_type": "code",
   "execution_count": 19,
   "id": "ba6070ac-992e-480d-a8e6-c9148ce1892c",
   "metadata": {},
   "outputs": [
    {
     "data": {
      "text/plain": [
       "['sudh', 'kumar', 'pwskills']"
      ]
     },
     "execution_count": 19,
     "metadata": {},
     "output_type": "execute_result"
    }
   ],
   "source": [
    "l1"
   ]
  },
  {
   "cell_type": "code",
   "execution_count": 20,
   "id": "525e5d8f-028e-4c74-a152-73bd694a9d75",
   "metadata": {},
   "outputs": [
    {
     "data": {
      "text/plain": [
       "['pwskills', 'kumar', 'sudh']"
      ]
     },
     "execution_count": 20,
     "metadata": {},
     "output_type": "execute_result"
    }
   ],
   "source": [
    "l1[::-1]"
   ]
  },
  {
   "cell_type": "code",
   "execution_count": 21,
   "id": "38df3efe-2c22-4ac0-a709-79afb3826b6e",
   "metadata": {},
   "outputs": [
    {
     "data": {
      "text/plain": [
       "['hdus', 'ramuk', 'sllikswp']"
      ]
     },
     "execution_count": 21,
     "metadata": {},
     "output_type": "execute_result"
    }
   ],
   "source": [
    "list(map(lambda a : a[::-1],l1))"
   ]
  },
  {
   "cell_type": "code",
   "execution_count": 24,
   "id": "1e9faa74-4f0e-45c3-b563-ec23c9837dc9",
   "metadata": {},
   "outputs": [],
   "source": [
    "l = [2,3,2,1,4]"
   ]
  },
  {
   "cell_type": "code",
   "execution_count": 25,
   "id": "c9d0ff00-ba75-444d-a309-715fa60745cd",
   "metadata": {},
   "outputs": [],
   "source": [
    "from functools import reduce"
   ]
  },
  {
   "cell_type": "code",
   "execution_count": 26,
   "id": "9e5c46df-c2a6-440a-b81e-bdc621a25b6b",
   "metadata": {},
   "outputs": [
    {
     "data": {
      "text/plain": [
       "48"
      ]
     },
     "execution_count": 26,
     "metadata": {},
     "output_type": "execute_result"
    }
   ],
   "source": [
    "reduce(lambda a,b : a*b,l)"
   ]
  },
  {
   "cell_type": "code",
   "execution_count": 27,
   "id": "2f4d8aa2-b77d-44d8-8ee8-2b37965d0505",
   "metadata": {},
   "outputs": [
    {
     "data": {
      "text/plain": [
       "[2, 3, 2, 1, 4]"
      ]
     },
     "execution_count": 27,
     "metadata": {},
     "output_type": "execute_result"
    }
   ],
   "source": [
    "l"
   ]
  },
  {
   "cell_type": "code",
   "execution_count": 28,
   "id": "a6a1dfa5-3f6e-440d-a584-f76064cb2d34",
   "metadata": {},
   "outputs": [
    {
     "data": {
      "text/plain": [
       "4"
      ]
     },
     "execution_count": 28,
     "metadata": {},
     "output_type": "execute_result"
    }
   ],
   "source": [
    "reduce(lambda a,b : a if a>b else b,l)"
   ]
  },
  {
   "cell_type": "code",
   "execution_count": 31,
   "id": "9f222c9b-dd23-4df4-a8ff-415333ec9d11",
   "metadata": {},
   "outputs": [],
   "source": [
    "n=4\n",
    "fact = reduce(lambda a,b : a*b, range(1,n+1))"
   ]
  },
  {
   "cell_type": "code",
   "execution_count": 32,
   "id": "04d53bff-60e3-4e99-a877-a493e960e5de",
   "metadata": {},
   "outputs": [
    {
     "data": {
      "text/plain": [
       "24"
      ]
     },
     "execution_count": 32,
     "metadata": {},
     "output_type": "execute_result"
    }
   ],
   "source": [
    "fact"
   ]
  },
  {
   "cell_type": "code",
   "execution_count": 33,
   "id": "0097d7f4-7054-41dc-8f8f-38a154864480",
   "metadata": {},
   "outputs": [
    {
     "data": {
      "text/plain": [
       "[2, 3, 2, 1, 4]"
      ]
     },
     "execution_count": 33,
     "metadata": {},
     "output_type": "execute_result"
    }
   ],
   "source": [
    "l"
   ]
  },
  {
   "cell_type": "code",
   "execution_count": 35,
   "id": "a604786f-e766-4773-bdba-8568bca8873b",
   "metadata": {},
   "outputs": [
    {
     "ename": "SyntaxError",
     "evalue": "expected 'else' after 'if' expression (1022836505.py, line 1)",
     "output_type": "error",
     "traceback": [
      "\u001b[0;36m  Cell \u001b[0;32mIn[35], line 1\u001b[0;36m\u001b[0m\n\u001b[0;31m    mult_even = reduce(lambda a,b : a*b if a%2==0 and b%2==0 ,l)\u001b[0m\n\u001b[0m                                    ^\u001b[0m\n\u001b[0;31mSyntaxError\u001b[0m\u001b[0;31m:\u001b[0m expected 'else' after 'if' expression\n"
     ]
    }
   ],
   "source": [
    "mult_even = reduce(lambda a,b : a*b if a%2==0 and b%2==0 ,l)"
   ]
  },
  {
   "cell_type": "code",
   "execution_count": 36,
   "id": "de7eb41d-025f-4473-9968-5dc4d794581c",
   "metadata": {},
   "outputs": [],
   "source": [
    "def even(l):\n",
    "    prod = 1\n",
    "    for i in l:\n",
    "        if i%2==0:\n",
    "            prod=prod*i\n",
    "    return prod"
   ]
  },
  {
   "cell_type": "code",
   "execution_count": 37,
   "id": "01cdf22d-f397-4019-b898-d8c4075c8122",
   "metadata": {},
   "outputs": [
    {
     "data": {
      "text/plain": [
       "16"
      ]
     },
     "execution_count": 37,
     "metadata": {},
     "output_type": "execute_result"
    }
   ],
   "source": [
    "even(l)"
   ]
  },
  {
   "cell_type": "code",
   "execution_count": 41,
   "id": "64fa12df-dd07-41c1-8a22-5e01928026dc",
   "metadata": {},
   "outputs": [
    {
     "ename": "TypeError",
     "evalue": "even() takes 1 positional argument but 2 were given",
     "output_type": "error",
     "traceback": [
      "\u001b[0;31m---------------------------------------------------------------------------\u001b[0m",
      "\u001b[0;31mTypeError\u001b[0m                                 Traceback (most recent call last)",
      "Cell \u001b[0;32mIn[41], line 1\u001b[0m\n\u001b[0;32m----> 1\u001b[0m \u001b[43mreduce\u001b[49m\u001b[43m(\u001b[49m\u001b[43meven\u001b[49m\u001b[43m,\u001b[49m\u001b[43ml\u001b[49m\u001b[43m)\u001b[49m\n",
      "\u001b[0;31mTypeError\u001b[0m: even() takes 1 positional argument but 2 were given"
     ]
    }
   ],
   "source": [
    "reduce(even,l)"
   ]
  },
  {
   "cell_type": "code",
   "execution_count": 42,
   "id": "845d381b-27c5-467a-8e6a-79df091f226a",
   "metadata": {},
   "outputs": [
    {
     "data": {
      "text/plain": [
       "[2, 2, 4]"
      ]
     },
     "execution_count": 42,
     "metadata": {},
     "output_type": "execute_result"
    }
   ],
   "source": [
    "[i for i in l if i%2==0]"
   ]
  },
  {
   "cell_type": "code",
   "execution_count": 43,
   "id": "4088ecc7-91bc-41de-bab6-87d8e5120bfc",
   "metadata": {},
   "outputs": [
    {
     "data": {
      "text/plain": [
       "16"
      ]
     },
     "execution_count": 43,
     "metadata": {},
     "output_type": "execute_result"
    }
   ],
   "source": [
    "reduce(lambda a,b : a*b, [i for i in l if i%2==0])"
   ]
  },
  {
   "cell_type": "code",
   "execution_count": 45,
   "id": "19a0b040-437f-4856-bd3b-1b0ebe71f0d8",
   "metadata": {},
   "outputs": [],
   "source": [
    "#filter"
   ]
  },
  {
   "cell_type": "code",
   "execution_count": 47,
   "id": "fe961f94-431b-4456-9c68-7cf713c36702",
   "metadata": {},
   "outputs": [],
   "source": [
    "l=[1,3,4,5,68,8,87,65,54,4,3,38,76,87,90]"
   ]
  },
  {
   "cell_type": "code",
   "execution_count": 48,
   "id": "6af37048-91d2-47b8-9ae9-1f9e0ee579fc",
   "metadata": {},
   "outputs": [
    {
     "data": {
      "text/plain": [
       "<filter at 0x7f835820d420>"
      ]
     },
     "execution_count": 48,
     "metadata": {},
     "output_type": "execute_result"
    }
   ],
   "source": [
    "filter(lambda a : a%2==0,l)"
   ]
  },
  {
   "cell_type": "code",
   "execution_count": 49,
   "id": "997014d2-5768-445b-825d-bfa3b5c73877",
   "metadata": {},
   "outputs": [
    {
     "data": {
      "text/plain": [
       "[4, 68, 8, 54, 4, 38, 76, 90]"
      ]
     },
     "execution_count": 49,
     "metadata": {},
     "output_type": "execute_result"
    }
   ],
   "source": [
    "list(filter(lambda a : a%2==0,l))"
   ]
  },
  {
   "cell_type": "code",
   "execution_count": 50,
   "id": "d021f926-df54-400e-bcb4-46cb6f12f0a8",
   "metadata": {},
   "outputs": [],
   "source": [
    "s = \"Pw Skills\""
   ]
  },
  {
   "cell_type": "code",
   "execution_count": 51,
   "id": "7110a1eb-831b-4048-9010-9be7d1c3f517",
   "metadata": {},
   "outputs": [
    {
     "data": {
      "text/plain": [
       "<filter at 0x7f8358239000>"
      ]
     },
     "execution_count": 51,
     "metadata": {},
     "output_type": "execute_result"
    }
   ],
   "source": [
    "filter(lambda a : a.islower(), s)"
   ]
  },
  {
   "cell_type": "code",
   "execution_count": 52,
   "id": "e341b76a-1c9f-4c81-b026-59f6d228b4e2",
   "metadata": {},
   "outputs": [
    {
     "data": {
      "text/plain": [
       "['w', 'k', 'i', 'l', 'l', 's']"
      ]
     },
     "execution_count": 52,
     "metadata": {},
     "output_type": "execute_result"
    }
   ],
   "source": [
    "list(filter(lambda a : a.islower(), s))"
   ]
  },
  {
   "cell_type": "code",
   "execution_count": 53,
   "id": "e918e50c-30f1-4042-8b83-5b6d4a25e6c5",
   "metadata": {},
   "outputs": [],
   "source": [
    "l=['pw', 'pskills','sudh','krish']"
   ]
  },
  {
   "cell_type": "code",
   "execution_count": 58,
   "id": "c81cb198-b04c-47b6-bc5e-ee133dd2542b",
   "metadata": {},
   "outputs": [
    {
     "data": {
      "text/plain": [
       "['pw', 'sudh']"
      ]
     },
     "execution_count": 58,
     "metadata": {},
     "output_type": "execute_result"
    }
   ],
   "source": [
    "list(filter(lambda a : len(a)<=4, l))"
   ]
  },
  {
   "cell_type": "code",
   "execution_count": 60,
   "id": "175f625f-4dc6-426f-82c6-3a239fce505b",
   "metadata": {},
   "outputs": [
    {
     "data": {
      "text/plain": [
       "['pw', 'pskills']"
      ]
     },
     "execution_count": 60,
     "metadata": {},
     "output_type": "execute_result"
    }
   ],
   "source": [
    "list(filter(lambda a : a[0]=='p', l))"
   ]
  },
  {
   "cell_type": "code",
   "execution_count": 61,
   "id": "ea3f9e11-fc21-40fd-93ba-65170a766f03",
   "metadata": {},
   "outputs": [],
   "source": [
    "#fibonacci series 0 1 1 2 3 5 8 13 ..."
   ]
  },
  {
   "cell_type": "code",
   "execution_count": 62,
   "id": "1adf29aa-cac6-471f-b21b-cd26cc20c345",
   "metadata": {},
   "outputs": [],
   "source": [
    "def gen_fib(n):\n",
    "    if n <= 1:\n",
    "        return n\n",
    "    else:\n",
    "        return gen_fib(n-1) + gen_fib(n-2)"
   ]
  },
  {
   "cell_type": "code",
   "execution_count": 63,
   "id": "cc194bbb-69cb-4a08-9c08-4da3f7a8b9cb",
   "metadata": {},
   "outputs": [
    {
     "data": {
      "text/plain": [
       "55"
      ]
     },
     "execution_count": 63,
     "metadata": {},
     "output_type": "execute_result"
    }
   ],
   "source": [
    "gen_fib(10)"
   ]
  },
  {
   "cell_type": "code",
   "execution_count": 64,
   "id": "22881bd5-beda-422b-a8ba-d24590b66f60",
   "metadata": {},
   "outputs": [
    {
     "data": {
      "text/plain": [
       "13"
      ]
     },
     "execution_count": 64,
     "metadata": {},
     "output_type": "execute_result"
    }
   ],
   "source": [
    "gen_fib(7)"
   ]
  },
  {
   "cell_type": "code",
   "execution_count": 65,
   "id": "967e0f00-86cc-4122-9e2a-2e32f166a9bd",
   "metadata": {},
   "outputs": [],
   "source": [
    "#sum till 100"
   ]
  },
  {
   "cell_type": "code",
   "execution_count": 68,
   "id": "aceb2dda-e73e-4115-ade1-89f918a4625f",
   "metadata": {},
   "outputs": [],
   "source": [
    "def sum_till_n(n):\n",
    "    if n==1:\n",
    "        return 1\n",
    "    else:\n",
    "        return n + sum_till_n(n-1)"
   ]
  },
  {
   "cell_type": "code",
   "execution_count": 69,
   "id": "45d6ca62-eabd-4d02-948a-7f7eddb62722",
   "metadata": {},
   "outputs": [
    {
     "data": {
      "text/plain": [
       "6"
      ]
     },
     "execution_count": 69,
     "metadata": {},
     "output_type": "execute_result"
    }
   ],
   "source": [
    "sum_till_n(3)"
   ]
  },
  {
   "cell_type": "code",
   "execution_count": 70,
   "id": "f35ac84b-f1d7-4552-8515-f7f15a136e96",
   "metadata": {},
   "outputs": [
    {
     "data": {
      "text/plain": [
       "15"
      ]
     },
     "execution_count": 70,
     "metadata": {},
     "output_type": "execute_result"
    }
   ],
   "source": [
    "sum_till_n(5)"
   ]
  },
  {
   "cell_type": "code",
   "execution_count": 71,
   "id": "cc3379df-7ff5-4368-9460-3abfb697b3f5",
   "metadata": {},
   "outputs": [
    {
     "data": {
      "text/plain": [
       "5050"
      ]
     },
     "execution_count": 71,
     "metadata": {},
     "output_type": "execute_result"
    }
   ],
   "source": [
    "sum_till_n(100)"
   ]
  },
  {
   "cell_type": "code",
   "execution_count": 5,
   "id": "c5ad95d1-be53-43af-a9b7-97bfd856aeb4",
   "metadata": {},
   "outputs": [
    {
     "name": "stdout",
     "output_type": "stream",
     "text": [
      "5\n",
      "4\n",
      "3\n",
      "2\n",
      "1\n",
      "break time is over\n"
     ]
    }
   ],
   "source": [
    "import time\n",
    "s=5\n",
    "while s>0:\n",
    "    print(s)\n",
    "    time.sleep(1)\n",
    "    s=s-1\n",
    "print(\"break time is over\")"
   ]
  },
  {
   "cell_type": "code",
   "execution_count": 6,
   "id": "e1cc7076-9041-44f8-bb7b-e5196b602f4a",
   "metadata": {},
   "outputs": [
    {
     "name": "stdout",
     "output_type": "stream",
     "text": [
      "enter s to stop the timer\n"
     ]
    },
    {
     "name": "stdin",
     "output_type": "stream",
     "text": [
      "enter s for stop d\n"
     ]
    },
    {
     "name": "stdout",
     "output_type": "stream",
     "text": [
      "enter s to stop the timer\n"
     ]
    },
    {
     "name": "stdin",
     "output_type": "stream",
     "text": [
      "enter s for stop s\n"
     ]
    },
    {
     "name": "stdout",
     "output_type": "stream",
     "text": [
      "start the class break is over!\n"
     ]
    }
   ],
   "source": [
    "import time\n",
    "stop = False\n",
    "while not stop:\n",
    "    print(\"enter s to stop the timer\")\n",
    "    time.sleep(1)\n",
    "    press_stop = input(\"enter s for stop\")\n",
    "    \n",
    "    if press_stop.lower() == 's':\n",
    "        stop = True\n",
    "print(\"start the class break is over!\")"
   ]
  },
  {
   "cell_type": "code",
   "execution_count": 8,
   "id": "8072d87c-579b-4f45-a5b7-63d8ef9ad5e1",
   "metadata": {},
   "outputs": [
    {
     "name": "stdin",
     "output_type": "stream",
     "text": [
      "Enter your userid fgjvh\n",
      "Enter your password ryjftg\n"
     ]
    },
    {
     "name": "stdout",
     "output_type": "stream",
     "text": [
      "incorrect userid/password,Try again\n"
     ]
    },
    {
     "name": "stdin",
     "output_type": "stream",
     "text": [
      "Enter your userid yrtfu\n",
      "Enter your password rytfu\n"
     ]
    },
    {
     "name": "stdout",
     "output_type": "stream",
     "text": [
      "incorrect userid/password,Try again\n"
     ]
    },
    {
     "name": "stdin",
     "output_type": "stream",
     "text": [
      "Enter your userid rydt\n",
      "Enter your password yjrtfu\n"
     ]
    },
    {
     "name": "stdout",
     "output_type": "stream",
     "text": [
      "Your account is locked because you have entered wrong password more than three time. Please try again in 45 sec"
     ]
    }
   ],
   "source": [
    "import time\n",
    "userid = 'amir01'\n",
    "password = 'Amir@786'\n",
    "count = 1\n",
    "while count <= 3:\n",
    "    usid = input(\"Enter your userid\")\n",
    "    pswd = input(\"Enter your password\") \n",
    "    if usid != userid and pswd != password:\n",
    "        count = count+1\n",
    "        if count <=3:\n",
    "            print(\"incorrect userid/password,Try again\")\n",
    "        #time.sleep(0.5)\n",
    "        continue\n",
    "    else:\n",
    "        print(\"You have successfully logged in\")\n",
    "        break\n",
    "if count > 3:\n",
    "    s=5\n",
    "    print(f\"Your account is locked because you have entered wrong password more than three time.\",end=\" \")\n",
    "    print(\"Please try again in\",end=\" \" + \"45 sec\")\n",
    "    # while s>0:\n",
    "    #     print(s,end=\" \")\n",
    "    #     time.sleep(1)\n",
    "    #     s=s-1\n",
    "    # print(\"sec\")   \n",
    "   \n",
    "    "
   ]
  },
  {
   "cell_type": "code",
   "execution_count": 14,
   "id": "c8dcdc6c-1173-4d0e-9533-45818873f56b",
   "metadata": {},
   "outputs": [
    {
     "name": "stdin",
     "output_type": "stream",
     "text": [
      "enter your userid zdbgf\n"
     ]
    },
    {
     "name": "stdout",
     "output_type": "stream",
     "text": [
      "Incorrect userid. Try again!\n"
     ]
    }
   ],
   "source": [
    "userid = 'amir01'\n",
    "password = 'Amir@786'\n",
    "counter = 1\n",
    "user_id_check = False\n",
    "usid = input('enter your userid')\n",
    "while counter <= 3:\n",
    "    if usid == userid:\n",
    "        user_id_check = True\n",
    "    else:\n",
    "        # counter += 1\n",
    "        # if counter <=3:\n",
    "        print(\"Incorrect userid. Try again!\")\n",
    "        break\n",
    "        \n",
    "    if user_id_check == True:\n",
    "        pswd = input('enter your password')\n",
    "        if pswd == password:\n",
    "            print('you have logged in successfully')\n",
    "            break\n",
    "        counter += 1\n",
    "if counter > 3:\n",
    "    print(\"You have entered wrong password three times, your account is locked!\")\n",
    "\n",
    "\n",
    "        \n",
    "        "
   ]
  },
  {
   "cell_type": "code",
   "execution_count": 1,
   "id": "0508a8f3-dded-4207-8d00-a9c67b271563",
   "metadata": {},
   "outputs": [],
   "source": [
    "#todo list"
   ]
  },
  {
   "cell_type": "code",
   "execution_count": 3,
   "id": "bd850de8-192f-461c-a7b2-0a98febd65dc",
   "metadata": {},
   "outputs": [
    {
     "name": "stdin",
     "output_type": "stream",
     "text": [
      "enter your todo task fhhcvg\n",
      "enter n if you want to add in todo list or enter y if you want to end todo list y\n"
     ]
    },
    {
     "name": "stdout",
     "output_type": "stream",
     "text": [
      "my todo list is  ['fhhcvg']\n"
     ]
    }
   ],
   "source": [
    "todo_list = []\n",
    "end_of_todo = 'n'\n",
    "while end_of_todo != 'y':\n",
    "    todo_item = input(\"enter your todo task\")\n",
    "    todo_list.append(todo_item)\n",
    "    end_of_todo = input(\"enter n if you want to add in todo list or enter y if you want to end todo list\")\n",
    "print(\"my todo list is \", todo_list)"
   ]
  },
  {
   "cell_type": "code",
   "execution_count": 4,
   "id": "36d0ae3f-d0a3-4905-bff9-95b34f8dbdf0",
   "metadata": {},
   "outputs": [],
   "source": [
    "#Recursion"
   ]
  },
  {
   "cell_type": "code",
   "execution_count": 5,
   "id": "5918096a-01e7-4dd4-81eb-89e9998e3cd7",
   "metadata": {},
   "outputs": [],
   "source": [
    "#factorial.  e.g., 5! = 5*4*3*2*1 = 120"
   ]
  },
  {
   "cell_type": "code",
   "execution_count": 6,
   "id": "6be2d571-21a6-4aa5-b567-bf74a328de33",
   "metadata": {},
   "outputs": [],
   "source": [
    "def fact(n):\n",
    "    if n == 0:\n",
    "        return 1\n",
    "    else:\n",
    "        return n*fact(n-1)"
   ]
  },
  {
   "cell_type": "code",
   "execution_count": 7,
   "id": "c538d517-3dcd-413b-b78c-76c48c432253",
   "metadata": {},
   "outputs": [
    {
     "data": {
      "text/plain": [
       "120"
      ]
     },
     "execution_count": 7,
     "metadata": {},
     "output_type": "execute_result"
    }
   ],
   "source": [
    "fact(5)"
   ]
  },
  {
   "cell_type": "code",
   "execution_count": 8,
   "id": "e6b7af0a-b3b5-49d8-9569-1f3e01087258",
   "metadata": {},
   "outputs": [],
   "source": [
    "# fibbonaci \n",
    "def fib(n):\n",
    "    if n<=1:\n",
    "        return n\n",
    "    else:\n",
    "        return fib(n-2)+fib(n-1)"
   ]
  },
  {
   "cell_type": "code",
   "execution_count": 9,
   "id": "0ea1ff06-c20f-4a72-aac6-6275d93c3a44",
   "metadata": {},
   "outputs": [
    {
     "data": {
      "text/plain": [
       "5"
      ]
     },
     "execution_count": 9,
     "metadata": {},
     "output_type": "execute_result"
    }
   ],
   "source": [
    "fib(5)"
   ]
  },
  {
   "cell_type": "code",
   "execution_count": 12,
   "id": "2a1d6829-347e-4afc-bd7c-9dbbf66f827c",
   "metadata": {},
   "outputs": [],
   "source": [
    "#Summation of digits of a given number\n",
    "def get_sum(n):\n",
    "    sum=0\n",
    "    for digit in str(n):\n",
    "        sum = sum + int(digit)\n",
    "    return sum"
   ]
  },
  {
   "cell_type": "code",
   "execution_count": 13,
   "id": "df6d678f-2abf-4044-a6b5-84f4f9243998",
   "metadata": {},
   "outputs": [
    {
     "data": {
      "text/plain": [
       "10"
      ]
     },
     "execution_count": 13,
     "metadata": {},
     "output_type": "execute_result"
    }
   ],
   "source": [
    "get_sum(1234)"
   ]
  },
  {
   "cell_type": "code",
   "execution_count": 16,
   "id": "fcd9eec0-fa16-462a-969d-5d838ff57fc5",
   "metadata": {},
   "outputs": [],
   "source": [
    "def sum_digit(n):\n",
    "    if n<=9:\n",
    "        return n\n",
    "    else:\n",
    "        return n%10 + sum_digit(n//10)"
   ]
  },
  {
   "cell_type": "code",
   "execution_count": 18,
   "id": "7f773a41-05db-47fc-94ab-a4f406bb25be",
   "metadata": {},
   "outputs": [
    {
     "data": {
      "text/plain": [
       "10"
      ]
     },
     "execution_count": 18,
     "metadata": {},
     "output_type": "execute_result"
    }
   ],
   "source": [
    "sum_digit(1234)"
   ]
  },
  {
   "cell_type": "code",
   "execution_count": 19,
   "id": "ae8b0ae5-87d2-473a-bfea-5b8c5a5e2d2d",
   "metadata": {},
   "outputs": [
    {
     "data": {
      "text/plain": [
       "4845"
      ]
     },
     "execution_count": 19,
     "metadata": {},
     "output_type": "execute_result"
    }
   ],
   "source": [
    "# Maximum number inside a list using recursion\n",
    "l=[4,6,4845,54,1,654]\n",
    "max(l)\n"
   ]
  },
  {
   "cell_type": "code",
   "execution_count": 42,
   "id": "79cf089b-6215-45fa-ae65-e6c909d2525d",
   "metadata": {},
   "outputs": [],
   "source": [
    "def max_find(l):\n",
    "    if len(l) == 1:\n",
    "        return l[0]\n",
    "    else:\n",
    "        return max(l[0],max_find(l[1:]))"
   ]
  },
  {
   "cell_type": "code",
   "execution_count": 43,
   "id": "f971fc12-2a28-415e-9209-0af931c671db",
   "metadata": {},
   "outputs": [],
   "source": [
    "l1=[45,2,455,7,5,412,852]"
   ]
  },
  {
   "cell_type": "code",
   "execution_count": 44,
   "id": "71ae750f-502b-434d-a74e-7c84e439220b",
   "metadata": {},
   "outputs": [
    {
     "data": {
      "text/plain": [
       "852"
      ]
     },
     "execution_count": 44,
     "metadata": {},
     "output_type": "execute_result"
    }
   ],
   "source": [
    "max_find(l1)"
   ]
  },
  {
   "cell_type": "code",
   "execution_count": 28,
   "id": "c37c45bd-dc27-406d-9ad9-b784d6a1c4c1",
   "metadata": {},
   "outputs": [],
   "source": [
    "l=[1100,3,5,3,5,75,450]"
   ]
  },
  {
   "cell_type": "code",
   "execution_count": 35,
   "id": "e13cd6c1-a95e-4991-b129-ef102dfa5552",
   "metadata": {},
   "outputs": [
    {
     "data": {
      "text/plain": [
       "[3, 5, 3, 5, 75, 450]"
      ]
     },
     "execution_count": 35,
     "metadata": {},
     "output_type": "execute_result"
    }
   ],
   "source": [
    "l[1:]"
   ]
  },
  {
   "cell_type": "code",
   "execution_count": 1,
   "id": "62b5717a-7db3-4e17-bc16-acc4a2c54aad",
   "metadata": {},
   "outputs": [
    {
     "data": {
      "text/plain": [
       "3125"
      ]
     },
     "execution_count": 1,
     "metadata": {},
     "output_type": "execute_result"
    }
   ],
   "source": [
    "5**5"
   ]
  },
  {
   "cell_type": "code",
   "execution_count": 3,
   "id": "29c3da84-640e-48fe-b9c8-a99663da986d",
   "metadata": {},
   "outputs": [
    {
     "data": {
      "text/plain": [
       "3125"
      ]
     },
     "execution_count": 3,
     "metadata": {},
     "output_type": "execute_result"
    }
   ],
   "source": [
    "pow(5,5)"
   ]
  },
  {
   "cell_type": "code",
   "execution_count": 6,
   "id": "34ea4f05-75f0-42bf-b691-2b9eca57df20",
   "metadata": {},
   "outputs": [],
   "source": [
    "def power_fun(n,k):\n",
    "    if k==0:\n",
    "        return 1\n",
    "    else:\n",
    "        return n*power_fun(n,k-1)"
   ]
  },
  {
   "cell_type": "code",
   "execution_count": 7,
   "id": "07202a67-c8fc-4b5b-82d2-f36b268d692b",
   "metadata": {},
   "outputs": [
    {
     "data": {
      "text/plain": [
       "8"
      ]
     },
     "execution_count": 7,
     "metadata": {},
     "output_type": "execute_result"
    }
   ],
   "source": [
    "power_fun(2,3)"
   ]
  },
  {
   "cell_type": "code",
   "execution_count": null,
   "id": "f243e01f-ef9e-4a96-91a3-800246b6ceab",
   "metadata": {},
   "outputs": [],
   "source": []
  }
 ],
 "metadata": {
  "kernelspec": {
   "display_name": "Python 3 (ipykernel)",
   "language": "python",
   "name": "python3"
  },
  "language_info": {
   "codemirror_mode": {
    "name": "ipython",
    "version": 3
   },
   "file_extension": ".py",
   "mimetype": "text/x-python",
   "name": "python",
   "nbconvert_exporter": "python",
   "pygments_lexer": "ipython3",
   "version": "3.10.8"
  }
 },
 "nbformat": 4,
 "nbformat_minor": 5
}
