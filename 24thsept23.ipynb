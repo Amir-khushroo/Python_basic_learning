{
 "cells": [
  {
   "cell_type": "code",
   "execution_count": 1,
   "id": "84691e1a-e3b9-4fa6-b16d-ac77ecd9e776",
   "metadata": {},
   "outputs": [],
   "source": [
    "# calculate the length of a string using recursion"
   ]
  },
  {
   "cell_type": "code",
   "execution_count": 2,
   "id": "abdbab8d-7948-4952-aa8e-7f9fb76ae4ea",
   "metadata": {},
   "outputs": [],
   "source": [
    "def find_len(s):\n",
    "    if s==\"\":\n",
    "        return 0\n",
    "    else:\n",
    "        return 1 + find_len(s[1:])"
   ]
  },
  {
   "cell_type": "code",
   "execution_count": 3,
   "id": "fd8bf09f-21ec-4af2-8b63-de49a203e962",
   "metadata": {},
   "outputs": [
    {
     "data": {
      "text/plain": [
       "8"
      ]
     },
     "execution_count": 3,
     "metadata": {},
     "output_type": "execute_result"
    }
   ],
   "source": [
    "find_len(\"pwskills\")"
   ]
  },
  {
   "cell_type": "code",
   "execution_count": 4,
   "id": "619c9fa3-261f-4ed7-bb3d-9aac10ce46cf",
   "metadata": {},
   "outputs": [],
   "source": [
    "# Reversing a string using recursion"
   ]
  },
  {
   "cell_type": "code",
   "execution_count": 6,
   "id": "fe60d511-53a7-4f49-91c8-dd7e856c4225",
   "metadata": {},
   "outputs": [],
   "source": [
    "s='amir'"
   ]
  },
  {
   "cell_type": "code",
   "execution_count": 7,
   "id": "f037c21f-164a-4a33-993c-1c11ba14cfb4",
   "metadata": {},
   "outputs": [
    {
     "data": {
      "text/plain": [
       "'rima'"
      ]
     },
     "execution_count": 7,
     "metadata": {},
     "output_type": "execute_result"
    }
   ],
   "source": [
    "s[::-1]"
   ]
  },
  {
   "cell_type": "code",
   "execution_count": 8,
   "id": "52761f19-849a-4312-9393-1589a466addf",
   "metadata": {},
   "outputs": [],
   "source": [
    "def find_reverse(s):\n",
    "    if s==\"\":\n",
    "        return \"\"\n",
    "    else:\n",
    "        return find_reverse(s[1:]) + s[0]"
   ]
  },
  {
   "cell_type": "code",
   "execution_count": 9,
   "id": "a89f7aa7-b8b8-4e77-9588-90a821ad0ac8",
   "metadata": {},
   "outputs": [
    {
     "data": {
      "text/plain": [
       "'rima'"
      ]
     },
     "execution_count": 9,
     "metadata": {},
     "output_type": "execute_result"
    }
   ],
   "source": [
    "find_reverse('amir')"
   ]
  },
  {
   "cell_type": "code",
   "execution_count": 10,
   "id": "42d55dcc-6232-4c55-adf8-db7986e60029",
   "metadata": {},
   "outputs": [],
   "source": [
    "# find the number of particular character appearing in a string"
   ]
  },
  {
   "cell_type": "code",
   "execution_count": 1,
   "id": "bc272ab1-0cf5-493e-adf1-dac55553aeed",
   "metadata": {},
   "outputs": [],
   "source": [
    "def find_char_count(s,c):\n",
    "    if s==\"\":\n",
    "        return 0\n",
    "    elif s[0]== c:\n",
    "        return 1 + find_char_count(s[1:],c)\n",
    "    else:\n",
    "        return find_char_count(s[1:],c)\n",
    "        "
   ]
  },
  {
   "cell_type": "code",
   "execution_count": 2,
   "id": "7e0d1419-e46d-4c0e-9e32-23a0149d9b51",
   "metadata": {},
   "outputs": [],
   "source": [
    "s='khushroo'"
   ]
  },
  {
   "cell_type": "code",
   "execution_count": 3,
   "id": "cf97b746-3b17-47f9-8068-61f623f84265",
   "metadata": {},
   "outputs": [
    {
     "data": {
      "text/plain": [
       "2"
      ]
     },
     "execution_count": 3,
     "metadata": {},
     "output_type": "execute_result"
    }
   ],
   "source": [
    "find_char_count(s,'o')"
   ]
  },
  {
   "cell_type": "code",
   "execution_count": 4,
   "id": "0cd491f5-0e49-45dc-ab7b-d6cc808cc069",
   "metadata": {},
   "outputs": [
    {
     "data": {
      "text/plain": [
       "2"
      ]
     },
     "execution_count": 4,
     "metadata": {},
     "output_type": "execute_result"
    }
   ],
   "source": [
    "find_char_count(s,'h')"
   ]
  },
  {
   "cell_type": "code",
   "execution_count": 5,
   "id": "7f9cd058-1dee-4aaa-a393-1b4ab61b8297",
   "metadata": {},
   "outputs": [
    {
     "data": {
      "text/plain": [
       "0"
      ]
     },
     "execution_count": 5,
     "metadata": {},
     "output_type": "execute_result"
    }
   ],
   "source": [
    "find_char_count(s,'z')"
   ]
  },
  {
   "cell_type": "code",
   "execution_count": 6,
   "id": "98441bbe-95b9-4237-8351-c4f084982228",
   "metadata": {},
   "outputs": [],
   "source": [
    "# check whether a list is sorted or not"
   ]
  },
  {
   "cell_type": "code",
   "execution_count": 19,
   "id": "84a3a2e3-39fc-4717-b521-d28000018e82",
   "metadata": {},
   "outputs": [],
   "source": [
    "l=[4,5,6,3]"
   ]
  },
  {
   "cell_type": "code",
   "execution_count": 20,
   "id": "2dc0a43f-6383-407b-8b23-127d5bba6e08",
   "metadata": {},
   "outputs": [],
   "source": [
    "def check_sort_list(l):\n",
    "    if len(l)<=1:\n",
    "        return True\n",
    "    elif l[0] > l[1]:\n",
    "        return False\n",
    "    else:\n",
    "        return check_sort_list(l[1:])"
   ]
  },
  {
   "cell_type": "code",
   "execution_count": 21,
   "id": "481464df-3681-40d1-86fd-4ac84e0773ec",
   "metadata": {},
   "outputs": [
    {
     "data": {
      "text/plain": [
       "False"
      ]
     },
     "execution_count": 21,
     "metadata": {},
     "output_type": "execute_result"
    }
   ],
   "source": [
    "check_sort_list(l)"
   ]
  },
  {
   "cell_type": "code",
   "execution_count": 22,
   "id": "4590d8c2-7f31-42b9-99a3-f8ffddbbf432",
   "metadata": {},
   "outputs": [],
   "source": [
    "l1=[4,5,6,7,8]"
   ]
  },
  {
   "cell_type": "code",
   "execution_count": 23,
   "id": "3a8f1b3b-61ae-45e1-8dd7-f931f91a813a",
   "metadata": {},
   "outputs": [
    {
     "data": {
      "text/plain": [
       "True"
      ]
     },
     "execution_count": 23,
     "metadata": {},
     "output_type": "execute_result"
    }
   ],
   "source": [
    "check_sort_list(l1)"
   ]
  },
  {
   "cell_type": "code",
   "execution_count": 24,
   "id": "80dd4409-be15-448d-a31b-9b2f2cfc74e9",
   "metadata": {},
   "outputs": [],
   "source": [
    "l2=[6,5,6]"
   ]
  },
  {
   "cell_type": "code",
   "execution_count": 26,
   "id": "0cd992b0-0a2a-4e5e-87ec-a2716e828566",
   "metadata": {},
   "outputs": [
    {
     "data": {
      "text/plain": [
       "False"
      ]
     },
     "execution_count": 26,
     "metadata": {},
     "output_type": "execute_result"
    }
   ],
   "source": [
    "check_sort_list(l2)"
   ]
  },
  {
   "cell_type": "code",
   "execution_count": 27,
   "id": "2d110c6c-6116-4e7c-8ee7-c231116c9351",
   "metadata": {},
   "outputs": [],
   "source": [
    "# check whether a number is perfect square or not"
   ]
  },
  {
   "cell_type": "code",
   "execution_count": 30,
   "id": "e57d38e6-341e-4974-a270-15dcccf7cd27",
   "metadata": {},
   "outputs": [],
   "source": [
    "def check_perfect_square(n,start=1):\n",
    "    if n == start**2:\n",
    "        return True\n",
    "    elif n < start**2:\n",
    "        return False\n",
    "    else:\n",
    "        return check_perfect_square(n,start+1)"
   ]
  },
  {
   "cell_type": "code",
   "execution_count": 31,
   "id": "f80c3086-5380-4d67-8b48-9f43b417ec2e",
   "metadata": {},
   "outputs": [
    {
     "data": {
      "text/plain": [
       "True"
      ]
     },
     "execution_count": 31,
     "metadata": {},
     "output_type": "execute_result"
    }
   ],
   "source": [
    "check_perfect_square(64)"
   ]
  },
  {
   "cell_type": "code",
   "execution_count": 32,
   "id": "06dbeed6-e439-4ab9-b53e-db77ea34a1f3",
   "metadata": {},
   "outputs": [
    {
     "data": {
      "text/plain": [
       "False"
      ]
     },
     "execution_count": 32,
     "metadata": {},
     "output_type": "execute_result"
    }
   ],
   "source": [
    "check_perfect_square(63)"
   ]
  },
  {
   "cell_type": "code",
   "execution_count": 1,
   "id": "9ea2cfff-a463-447b-b8bc-18925a46efcc",
   "metadata": {},
   "outputs": [],
   "source": [
    "# Iterator & Iterables"
   ]
  },
  {
   "cell_type": "code",
   "execution_count": 2,
   "id": "67781fe5-4a8e-450e-8180-f62218768856",
   "metadata": {},
   "outputs": [
    {
     "ename": "TypeError",
     "evalue": "'int' object is not iterable",
     "output_type": "error",
     "traceback": [
      "\u001b[0;31m---------------------------------------------------------------------------\u001b[0m",
      "\u001b[0;31mTypeError\u001b[0m                                 Traceback (most recent call last)",
      "Cell \u001b[0;32mIn[2], line 2\u001b[0m\n\u001b[1;32m      1\u001b[0m a\u001b[38;5;241m=\u001b[39m\u001b[38;5;241m10\u001b[39m\n\u001b[0;32m----> 2\u001b[0m \u001b[38;5;28;01mfor\u001b[39;00m i \u001b[38;5;129;01min\u001b[39;00m a :\n\u001b[1;32m      3\u001b[0m     \u001b[38;5;28mprint\u001b[39m(a)\n",
      "\u001b[0;31mTypeError\u001b[0m: 'int' object is not iterable"
     ]
    }
   ],
   "source": [
    "a=10\n",
    "for i in a :\n",
    "    print(a)"
   ]
  },
  {
   "cell_type": "code",
   "execution_count": 3,
   "id": "d7860d57-2b4d-475c-903e-aa73aa28bae1",
   "metadata": {},
   "outputs": [
    {
     "ename": "TypeError",
     "evalue": "'int' object is not iterable",
     "output_type": "error",
     "traceback": [
      "\u001b[0;31m---------------------------------------------------------------------------\u001b[0m",
      "\u001b[0;31mTypeError\u001b[0m                                 Traceback (most recent call last)",
      "Cell \u001b[0;32mIn[3], line 1\u001b[0m\n\u001b[0;32m----> 1\u001b[0m \u001b[38;5;28;43miter\u001b[39;49m\u001b[43m(\u001b[49m\u001b[43ma\u001b[49m\u001b[43m)\u001b[49m\n",
      "\u001b[0;31mTypeError\u001b[0m: 'int' object is not iterable"
     ]
    }
   ],
   "source": [
    "iter(a)"
   ]
  },
  {
   "cell_type": "code",
   "execution_count": 4,
   "id": "dd569b21-ea96-4623-bfb0-e8a9f92d796b",
   "metadata": {},
   "outputs": [
    {
     "data": {
      "text/plain": [
       "<str_iterator at 0x7f2cec3a9420>"
      ]
     },
     "execution_count": 4,
     "metadata": {},
     "output_type": "execute_result"
    }
   ],
   "source": [
    "iter(\"sudh\")"
   ]
  },
  {
   "cell_type": "code",
   "execution_count": 5,
   "id": "705bd44e-b25d-4e52-bb31-44adf856640b",
   "metadata": {},
   "outputs": [],
   "source": [
    "s1=iter(\"sudh\")"
   ]
  },
  {
   "cell_type": "code",
   "execution_count": 6,
   "id": "2c5effed-6b27-44b3-91c5-ad956424aca6",
   "metadata": {},
   "outputs": [
    {
     "data": {
      "text/plain": [
       "<str_iterator at 0x7f2cec24efb0>"
      ]
     },
     "execution_count": 6,
     "metadata": {},
     "output_type": "execute_result"
    }
   ],
   "source": [
    "s1"
   ]
  },
  {
   "cell_type": "code",
   "execution_count": 7,
   "id": "19500087-f631-4039-a289-12289b9bc27e",
   "metadata": {},
   "outputs": [
    {
     "data": {
      "text/plain": [
       "'s'"
      ]
     },
     "execution_count": 7,
     "metadata": {},
     "output_type": "execute_result"
    }
   ],
   "source": [
    "next(s1)"
   ]
  },
  {
   "cell_type": "code",
   "execution_count": 8,
   "id": "519cbabf-e00e-4506-8bf9-753dbb11bae2",
   "metadata": {},
   "outputs": [
    {
     "data": {
      "text/plain": [
       "'u'"
      ]
     },
     "execution_count": 8,
     "metadata": {},
     "output_type": "execute_result"
    }
   ],
   "source": [
    "next(s1)"
   ]
  },
  {
   "cell_type": "code",
   "execution_count": 9,
   "id": "64a27e66-dae7-4340-b414-a6ee23e39dda",
   "metadata": {},
   "outputs": [
    {
     "data": {
      "text/plain": [
       "'d'"
      ]
     },
     "execution_count": 9,
     "metadata": {},
     "output_type": "execute_result"
    }
   ],
   "source": [
    "next(s1)"
   ]
  },
  {
   "cell_type": "code",
   "execution_count": 10,
   "id": "ba29ccf0-3e0b-41bf-b048-36b03652f48c",
   "metadata": {},
   "outputs": [
    {
     "data": {
      "text/plain": [
       "'h'"
      ]
     },
     "execution_count": 10,
     "metadata": {},
     "output_type": "execute_result"
    }
   ],
   "source": [
    "next(s1)"
   ]
  },
  {
   "cell_type": "code",
   "execution_count": 11,
   "id": "4dad45a1-0658-447d-a589-bb92c1a2e48c",
   "metadata": {},
   "outputs": [
    {
     "ename": "StopIteration",
     "evalue": "",
     "output_type": "error",
     "traceback": [
      "\u001b[0;31m---------------------------------------------------------------------------\u001b[0m",
      "\u001b[0;31mStopIteration\u001b[0m                             Traceback (most recent call last)",
      "Cell \u001b[0;32mIn[11], line 1\u001b[0m\n\u001b[0;32m----> 1\u001b[0m \u001b[38;5;28;43mnext\u001b[39;49m\u001b[43m(\u001b[49m\u001b[43ms1\u001b[49m\u001b[43m)\u001b[49m\n",
      "\u001b[0;31mStopIteration\u001b[0m: "
     ]
    }
   ],
   "source": [
    "next(s1)"
   ]
  },
  {
   "cell_type": "code",
   "execution_count": 12,
   "id": "a7e20c78-67c3-440d-b1fb-2beec6228766",
   "metadata": {},
   "outputs": [],
   "source": [
    "s2=\"pwskills\""
   ]
  },
  {
   "cell_type": "code",
   "execution_count": 13,
   "id": "aab9810c-dfb5-4ef1-b30a-b5c5a6205936",
   "metadata": {},
   "outputs": [
    {
     "ename": "TypeError",
     "evalue": "'str' object is not an iterator",
     "output_type": "error",
     "traceback": [
      "\u001b[0;31m---------------------------------------------------------------------------\u001b[0m",
      "\u001b[0;31mTypeError\u001b[0m                                 Traceback (most recent call last)",
      "Cell \u001b[0;32mIn[13], line 1\u001b[0m\n\u001b[0;32m----> 1\u001b[0m \u001b[38;5;28;43mnext\u001b[39;49m\u001b[43m(\u001b[49m\u001b[43ms2\u001b[49m\u001b[43m)\u001b[49m\n",
      "\u001b[0;31mTypeError\u001b[0m: 'str' object is not an iterator"
     ]
    }
   ],
   "source": [
    "next(s2)"
   ]
  },
  {
   "cell_type": "code",
   "execution_count": 14,
   "id": "0cf73c0c-13e3-4100-8cdb-42072840a711",
   "metadata": {},
   "outputs": [
    {
     "name": "stdout",
     "output_type": "stream",
     "text": [
      "p\n",
      "w\n",
      "s\n",
      "k\n",
      "i\n",
      "l\n",
      "l\n",
      "s\n"
     ]
    }
   ],
   "source": [
    "for i in s2:\n",
    "    print(i)"
   ]
  },
  {
   "cell_type": "code",
   "execution_count": 15,
   "id": "a4ebafcf-b091-46a0-b99e-34f550700108",
   "metadata": {},
   "outputs": [
    {
     "ename": "TypeError",
     "evalue": "'int' object is not iterable",
     "output_type": "error",
     "traceback": [
      "\u001b[0;31m---------------------------------------------------------------------------\u001b[0m",
      "\u001b[0;31mTypeError\u001b[0m                                 Traceback (most recent call last)",
      "Cell \u001b[0;32mIn[15], line 1\u001b[0m\n\u001b[0;32m----> 1\u001b[0m \u001b[38;5;28;43miter\u001b[39;49m\u001b[43m(\u001b[49m\u001b[38;5;241;43m20\u001b[39;49m\u001b[43m)\u001b[49m\n",
      "\u001b[0;31mTypeError\u001b[0m: 'int' object is not iterable"
     ]
    }
   ],
   "source": [
    "iter(20)"
   ]
  },
  {
   "cell_type": "code",
   "execution_count": 16,
   "id": "4b710f9a-966b-4614-b97c-4e3e5cb3ca6d",
   "metadata": {},
   "outputs": [
    {
     "name": "stdout",
     "output_type": "stream",
     "text": [
      "2\n",
      "3\n",
      "4\n",
      "5\n"
     ]
    }
   ],
   "source": [
    "for i in [2,3,4,5]:\n",
    "    print(i)"
   ]
  },
  {
   "cell_type": "code",
   "execution_count": 17,
   "id": "acb8e805-8793-4080-a80a-6a8d1df6b958",
   "metadata": {},
   "outputs": [],
   "source": [
    "l=iter([2,3,4,5])"
   ]
  },
  {
   "cell_type": "code",
   "execution_count": 18,
   "id": "8b581df0-4733-4124-80c1-797fe51b7c67",
   "metadata": {},
   "outputs": [
    {
     "data": {
      "text/plain": [
       "<list_iterator at 0x7f2cec468e50>"
      ]
     },
     "execution_count": 18,
     "metadata": {},
     "output_type": "execute_result"
    }
   ],
   "source": [
    "l"
   ]
  },
  {
   "cell_type": "code",
   "execution_count": 19,
   "id": "5d552f6a-b798-471d-9125-a1c0c0a768ed",
   "metadata": {},
   "outputs": [
    {
     "data": {
      "text/plain": [
       "2"
      ]
     },
     "execution_count": 19,
     "metadata": {},
     "output_type": "execute_result"
    }
   ],
   "source": [
    "next(l)"
   ]
  },
  {
   "cell_type": "code",
   "execution_count": 20,
   "id": "076230ab-ac4d-40e8-8790-dd751369dab2",
   "metadata": {},
   "outputs": [
    {
     "data": {
      "text/plain": [
       "3"
      ]
     },
     "execution_count": 20,
     "metadata": {},
     "output_type": "execute_result"
    }
   ],
   "source": [
    "next(l)"
   ]
  },
  {
   "cell_type": "code",
   "execution_count": 21,
   "id": "470f18ae-36c6-459c-b8bc-cafd2fac1ed0",
   "metadata": {},
   "outputs": [
    {
     "data": {
      "text/plain": [
       "4"
      ]
     },
     "execution_count": 21,
     "metadata": {},
     "output_type": "execute_result"
    }
   ],
   "source": [
    "next(l)"
   ]
  },
  {
   "cell_type": "code",
   "execution_count": 22,
   "id": "a5171b68-d633-413d-9446-0a47d5731182",
   "metadata": {},
   "outputs": [
    {
     "data": {
      "text/plain": [
       "5"
      ]
     },
     "execution_count": 22,
     "metadata": {},
     "output_type": "execute_result"
    }
   ],
   "source": [
    "next(l)"
   ]
  },
  {
   "cell_type": "code",
   "execution_count": 23,
   "id": "7fd23d48-9580-4b70-a436-ae8e059fc77f",
   "metadata": {},
   "outputs": [
    {
     "ename": "StopIteration",
     "evalue": "",
     "output_type": "error",
     "traceback": [
      "\u001b[0;31m---------------------------------------------------------------------------\u001b[0m",
      "\u001b[0;31mStopIteration\u001b[0m                             Traceback (most recent call last)",
      "Cell \u001b[0;32mIn[23], line 1\u001b[0m\n\u001b[0;32m----> 1\u001b[0m \u001b[38;5;28;43mnext\u001b[39;49m\u001b[43m(\u001b[49m\u001b[43ml\u001b[49m\u001b[43m)\u001b[49m\n",
      "\u001b[0;31mStopIteration\u001b[0m: "
     ]
    }
   ],
   "source": [
    "next(l)"
   ]
  },
  {
   "cell_type": "code",
   "execution_count": 24,
   "id": "0d8e8ab3-a4a8-4074-8aab-50c3a372658e",
   "metadata": {},
   "outputs": [
    {
     "name": "stdout",
     "output_type": "stream",
     "text": [
      "2\n",
      "3\n",
      "4\n",
      "5\n",
      "6\n"
     ]
    }
   ],
   "source": [
    "for i in {2,3,4,5,6}:\n",
    "    print(i)"
   ]
  },
  {
   "cell_type": "code",
   "execution_count": 25,
   "id": "db340850-7538-454e-a62e-cbcc6549a81c",
   "metadata": {},
   "outputs": [
    {
     "data": {
      "text/plain": [
       "<set_iterator at 0x7f2cec1cd840>"
      ]
     },
     "execution_count": 25,
     "metadata": {},
     "output_type": "execute_result"
    }
   ],
   "source": [
    "iter({2,3,4,5,6})"
   ]
  },
  {
   "cell_type": "code",
   "execution_count": 26,
   "id": "e274d077-47ba-4a68-af6b-8de1e2da620c",
   "metadata": {},
   "outputs": [
    {
     "name": "stdout",
     "output_type": "stream",
     "text": [
      "1\n",
      "2\n",
      "3\n",
      "4\n",
      "5\n"
     ]
    }
   ],
   "source": [
    "for i in (1,2,3,4,5):\n",
    "    print(i)"
   ]
  },
  {
   "cell_type": "code",
   "execution_count": 27,
   "id": "653199ab-ca3a-4acf-b1a7-539b9f8cd14a",
   "metadata": {},
   "outputs": [
    {
     "data": {
      "text/plain": [
       "<tuple_iterator at 0x7f2ced6fada0>"
      ]
     },
     "execution_count": 27,
     "metadata": {},
     "output_type": "execute_result"
    }
   ],
   "source": [
    "iter((1,2,3,4,5))"
   ]
  },
  {
   "cell_type": "code",
   "execution_count": 28,
   "id": "90260eba-28c8-4ce8-97fa-5b747a727016",
   "metadata": {},
   "outputs": [
    {
     "ename": "TypeError",
     "evalue": "'bool' object is not iterable",
     "output_type": "error",
     "traceback": [
      "\u001b[0;31m---------------------------------------------------------------------------\u001b[0m",
      "\u001b[0;31mTypeError\u001b[0m                                 Traceback (most recent call last)",
      "Cell \u001b[0;32mIn[28], line 1\u001b[0m\n\u001b[0;32m----> 1\u001b[0m \u001b[38;5;28;43miter\u001b[39;49m\u001b[43m(\u001b[49m\u001b[38;5;28;43;01mTrue\u001b[39;49;00m\u001b[43m)\u001b[49m\n",
      "\u001b[0;31mTypeError\u001b[0m: 'bool' object is not iterable"
     ]
    }
   ],
   "source": [
    "iter(True)"
   ]
  },
  {
   "cell_type": "code",
   "execution_count": 29,
   "id": "509b1005-43c9-4040-b390-58dbb4be3d9f",
   "metadata": {},
   "outputs": [
    {
     "data": {
      "text/plain": [
       "<dict_keyiterator at 0x7f2cec00ea20>"
      ]
     },
     "execution_count": 29,
     "metadata": {},
     "output_type": "execute_result"
    }
   ],
   "source": [
    "iter({'key':'value'})"
   ]
  },
  {
   "cell_type": "code",
   "execution_count": 30,
   "id": "e32f8f10-f93d-45f2-857c-2371ce851cdf",
   "metadata": {},
   "outputs": [],
   "source": [
    "d=iter({'key':'value'})"
   ]
  },
  {
   "cell_type": "code",
   "execution_count": 31,
   "id": "217df702-50af-4356-b7cf-ad69687037e2",
   "metadata": {},
   "outputs": [
    {
     "data": {
      "text/plain": [
       "'key'"
      ]
     },
     "execution_count": 31,
     "metadata": {},
     "output_type": "execute_result"
    }
   ],
   "source": [
    "next(d)"
   ]
  },
  {
   "cell_type": "code",
   "execution_count": 32,
   "id": "309e33b7-ab6a-401e-9fa7-fd289150391f",
   "metadata": {},
   "outputs": [
    {
     "data": {
      "text/plain": [
       "range(0, 5)"
      ]
     },
     "execution_count": 32,
     "metadata": {},
     "output_type": "execute_result"
    }
   ],
   "source": [
    "range(0,5)"
   ]
  },
  {
   "cell_type": "code",
   "execution_count": 33,
   "id": "31201bcc-e591-49c9-887e-132d8f12489e",
   "metadata": {},
   "outputs": [
    {
     "data": {
      "text/plain": [
       "[0, 1, 2, 3, 4]"
      ]
     },
     "execution_count": 33,
     "metadata": {},
     "output_type": "execute_result"
    }
   ],
   "source": [
    "list(range(0,5))"
   ]
  },
  {
   "cell_type": "code",
   "execution_count": 35,
   "id": "84219c34-94c3-454d-b99f-e6ac51b08c71",
   "metadata": {},
   "outputs": [
    {
     "name": "stdout",
     "output_type": "stream",
     "text": [
      "0\n",
      "1\n",
      "2\n",
      "3\n",
      "4\n"
     ]
    }
   ],
   "source": [
    "for i in range(0,5):\n",
    "    print(i)"
   ]
  },
  {
   "cell_type": "code",
   "execution_count": 38,
   "id": "0aa2bf45-1777-44e9-9015-060e5e791832",
   "metadata": {},
   "outputs": [],
   "source": [
    "i=iter(range(0,5))"
   ]
  },
  {
   "cell_type": "code",
   "execution_count": 39,
   "id": "862ebb0b-bf76-430c-861a-7bf95d337cac",
   "metadata": {},
   "outputs": [
    {
     "data": {
      "text/plain": [
       "0"
      ]
     },
     "execution_count": 39,
     "metadata": {},
     "output_type": "execute_result"
    }
   ],
   "source": [
    "next(i)"
   ]
  },
  {
   "cell_type": "code",
   "execution_count": 40,
   "id": "a635b600-732c-4d7b-9c42-1faca875d1ec",
   "metadata": {},
   "outputs": [
    {
     "data": {
      "text/plain": [
       "1"
      ]
     },
     "execution_count": 40,
     "metadata": {},
     "output_type": "execute_result"
    }
   ],
   "source": [
    "next(i)"
   ]
  },
  {
   "cell_type": "code",
   "execution_count": 41,
   "id": "1479233d-3e40-4352-96ec-1a9efc060677",
   "metadata": {},
   "outputs": [
    {
     "data": {
      "text/plain": [
       "2"
      ]
     },
     "execution_count": 41,
     "metadata": {},
     "output_type": "execute_result"
    }
   ],
   "source": [
    "next(i)"
   ]
  },
  {
   "cell_type": "code",
   "execution_count": 42,
   "id": "5a42c1f1-f743-4651-a42b-07af6dda5c57",
   "metadata": {},
   "outputs": [
    {
     "data": {
      "text/plain": [
       "3"
      ]
     },
     "execution_count": 42,
     "metadata": {},
     "output_type": "execute_result"
    }
   ],
   "source": [
    "next(i)"
   ]
  },
  {
   "cell_type": "code",
   "execution_count": 43,
   "id": "5063cc79-179b-4a8d-8e7b-c6f4c1f8f552",
   "metadata": {},
   "outputs": [
    {
     "data": {
      "text/plain": [
       "4"
      ]
     },
     "execution_count": 43,
     "metadata": {},
     "output_type": "execute_result"
    }
   ],
   "source": [
    "next(i)"
   ]
  },
  {
   "cell_type": "code",
   "execution_count": 44,
   "id": "6307efb7-6af4-44ef-998f-d0cf884486ac",
   "metadata": {},
   "outputs": [
    {
     "ename": "StopIteration",
     "evalue": "",
     "output_type": "error",
     "traceback": [
      "\u001b[0;31m---------------------------------------------------------------------------\u001b[0m",
      "\u001b[0;31mStopIteration\u001b[0m                             Traceback (most recent call last)",
      "Cell \u001b[0;32mIn[44], line 1\u001b[0m\n\u001b[0;32m----> 1\u001b[0m \u001b[38;5;28;43mnext\u001b[39;49m\u001b[43m(\u001b[49m\u001b[43mi\u001b[49m\u001b[43m)\u001b[49m\n",
      "\u001b[0;31mStopIteration\u001b[0m: "
     ]
    }
   ],
   "source": [
    "next(i)"
   ]
  },
  {
   "cell_type": "code",
   "execution_count": 45,
   "id": "f2426744-7ad2-4913-a05d-42dca324f651",
   "metadata": {},
   "outputs": [
    {
     "data": {
      "text/plain": [
       "range(0, 5)"
      ]
     },
     "execution_count": 45,
     "metadata": {},
     "output_type": "execute_result"
    }
   ],
   "source": [
    "range(0,5)"
   ]
  },
  {
   "cell_type": "code",
   "execution_count": 46,
   "id": "d418b57a-d853-4ecf-b208-dae3d6dc9953",
   "metadata": {},
   "outputs": [
    {
     "data": {
      "text/plain": [
       "4"
      ]
     },
     "execution_count": 46,
     "metadata": {},
     "output_type": "execute_result"
    }
   ],
   "source": [
    "len('amir')"
   ]
  },
  {
   "cell_type": "code",
   "execution_count": 63,
   "id": "e7b558c0-a0d4-446b-92cd-2fc4a20c8b50",
   "metadata": {},
   "outputs": [],
   "source": [
    "def count_fun(n):\n",
    "    i=1\n",
    "    while i<=n:\n",
    "        yield i  # yield means producing some sort of result\n",
    "        i = i+1"
   ]
  },
  {
   "cell_type": "code",
   "execution_count": 64,
   "id": "53ae6c2c-e531-4bdd-9d53-35c901ebd065",
   "metadata": {},
   "outputs": [
    {
     "data": {
      "text/plain": [
       "<generator object count_fun at 0x7f2cec14a650>"
      ]
     },
     "execution_count": 64,
     "metadata": {},
     "output_type": "execute_result"
    }
   ],
   "source": [
    "count_fun(9)"
   ]
  },
  {
   "cell_type": "code",
   "execution_count": 65,
   "id": "a7d9a34c-940d-4caf-a3d0-3f234e42edb0",
   "metadata": {},
   "outputs": [
    {
     "name": "stdout",
     "output_type": "stream",
     "text": [
      "1\n",
      "2\n",
      "3\n",
      "4\n",
      "5\n",
      "6\n",
      "7\n",
      "8\n",
      "9\n"
     ]
    }
   ],
   "source": [
    "for i in count_fun(9):\n",
    "    print(i)"
   ]
  },
  {
   "cell_type": "code",
   "execution_count": 51,
   "id": "5bd40125-b1a6-4f1b-90a4-ac7fb6c639e7",
   "metadata": {},
   "outputs": [],
   "source": [
    "j = iter(count_fun(9))"
   ]
  },
  {
   "cell_type": "code",
   "execution_count": 52,
   "id": "e443b03d-a536-4c72-afa9-d4e98e10fd3e",
   "metadata": {},
   "outputs": [
    {
     "data": {
      "text/plain": [
       "<generator object count_fun at 0x7f2cec149d90>"
      ]
     },
     "execution_count": 52,
     "metadata": {},
     "output_type": "execute_result"
    }
   ],
   "source": [
    "j"
   ]
  },
  {
   "cell_type": "code",
   "execution_count": 53,
   "id": "11294359-0e20-476f-be14-ffff357f4e45",
   "metadata": {},
   "outputs": [
    {
     "data": {
      "text/plain": [
       "1"
      ]
     },
     "execution_count": 53,
     "metadata": {},
     "output_type": "execute_result"
    }
   ],
   "source": [
    "next(j)"
   ]
  },
  {
   "cell_type": "code",
   "execution_count": 54,
   "id": "69244d38-7b16-4de1-b747-22fa32105cb5",
   "metadata": {},
   "outputs": [],
   "source": [
    "def count_fun(n):\n",
    "    i=1\n",
    "    while i<=n:\n",
    "        return i  # yield means producing some sort of result\n",
    "        i = i+1"
   ]
  },
  {
   "cell_type": "code",
   "execution_count": 55,
   "id": "73bcfda5-88ea-40ff-904f-982e99eac39b",
   "metadata": {},
   "outputs": [
    {
     "data": {
      "text/plain": [
       "1"
      ]
     },
     "execution_count": 55,
     "metadata": {},
     "output_type": "execute_result"
    }
   ],
   "source": [
    "count_fun(5)"
   ]
  },
  {
   "cell_type": "code",
   "execution_count": 56,
   "id": "8c7bdc79-ba58-4c28-9cf9-90c8b2b68bb7",
   "metadata": {},
   "outputs": [],
   "source": [
    "def count_fun(n):\n",
    "    i=1\n",
    "    l=[]\n",
    "    while i<=n:\n",
    "        l.append(i)\n",
    "        i = i+1             # yield means producing some sort of result\n",
    "    return l   "
   ]
  },
  {
   "cell_type": "code",
   "execution_count": 57,
   "id": "32e89eab-2e3e-4b4e-b286-6978fae1dfce",
   "metadata": {},
   "outputs": [
    {
     "data": {
      "text/plain": [
       "[1, 2, 3, 4, 5]"
      ]
     },
     "execution_count": 57,
     "metadata": {},
     "output_type": "execute_result"
    }
   ],
   "source": [
    "count_fun(5)"
   ]
  },
  {
   "cell_type": "code",
   "execution_count": 66,
   "id": "c18c8395-bd24-4a0e-9487-9f7a561c972d",
   "metadata": {},
   "outputs": [],
   "source": [
    "def count_fun(n):\n",
    "    i=1\n",
    "    while i<=n:\n",
    "        yield i  # yield means producing some sort of result\n",
    "        i = i+1"
   ]
  },
  {
   "cell_type": "code",
   "execution_count": 69,
   "id": "46285944-7e08-4e60-b70e-96336f5dada0",
   "metadata": {},
   "outputs": [
    {
     "name": "stdout",
     "output_type": "stream",
     "text": [
      "1\n",
      "2\n",
      "3\n",
      "4\n",
      "5\n",
      "6\n",
      "7\n",
      "8\n",
      "9\n",
      "10\n",
      "11\n",
      "12\n",
      "13\n",
      "14\n",
      "15\n",
      "16\n",
      "17\n",
      "18\n",
      "19\n",
      "20\n",
      "21\n",
      "22\n",
      "23\n",
      "24\n",
      "25\n",
      "26\n",
      "27\n",
      "28\n",
      "29\n",
      "30\n",
      "31\n",
      "32\n",
      "33\n",
      "34\n",
      "35\n",
      "36\n",
      "37\n",
      "38\n",
      "39\n",
      "40\n",
      "41\n",
      "42\n",
      "43\n",
      "44\n",
      "45\n",
      "46\n",
      "47\n",
      "48\n",
      "49\n",
      "50\n"
     ]
    }
   ],
   "source": [
    "for i in count_fun(50): # yield is producing the data and eliminate it once it is displayed on the other hand return is consuming memory in the ram\n",
    "    print(i)"
   ]
  },
  {
   "cell_type": "code",
   "execution_count": 70,
   "id": "00ac16a6-19ac-458f-b7a7-8dc6c64d1736",
   "metadata": {},
   "outputs": [],
   "source": [
    "def fib(n):\n",
    "    a,b=0,1\n",
    "    for i in range(n):\n",
    "        yield a\n",
    "        a,b = b,a+b\n",
    "    "
   ]
  },
  {
   "cell_type": "code",
   "execution_count": 71,
   "id": "43e76986-0a87-4d0d-8c13-59816778a956",
   "metadata": {},
   "outputs": [
    {
     "name": "stdout",
     "output_type": "stream",
     "text": [
      "0\n",
      "1\n",
      "1\n",
      "2\n",
      "3\n",
      "5\n",
      "8\n",
      "13\n",
      "21\n"
     ]
    }
   ],
   "source": [
    "for i in fib(9):\n",
    "    print(i)"
   ]
  },
  {
   "cell_type": "code",
   "execution_count": 82,
   "id": "c8966988-d3ca-4f78-8168-f03074643831",
   "metadata": {},
   "outputs": [],
   "source": [
    "def fib(n):# fibonacci series\n",
    "    a,b=0,1\n",
    "    for i in range(n):\n",
    "        print(a)\n",
    "        a,b = b,a+b\n",
    "        "
   ]
  },
  {
   "cell_type": "code",
   "execution_count": 83,
   "id": "590730c6-1993-4765-af21-a5a878ca5f21",
   "metadata": {},
   "outputs": [
    {
     "name": "stdout",
     "output_type": "stream",
     "text": [
      "0\n",
      "1\n",
      "1\n",
      "2\n",
      "3\n",
      "5\n",
      "8\n",
      "13\n",
      "21\n"
     ]
    }
   ],
   "source": [
    "fib(9)"
   ]
  },
  {
   "cell_type": "code",
   "execution_count": 84,
   "id": "48fcea3f-2724-43c6-a5e5-be28f26c1140",
   "metadata": {},
   "outputs": [
    {
     "name": "stdout",
     "output_type": "stream",
     "text": [
      "02sep23.ipynb  24thsept23.ipynb              sample-code.ipynb\n",
      "03Sep23.ipynb  python_basic_datatypes.ipynb  testfile.txt\n",
      "16sep23.ipynb  README.md\n"
     ]
    }
   ],
   "source": [
    "ls"
   ]
  },
  {
   "cell_type": "code",
   "execution_count": 1,
   "id": "88556cff-66b5-4704-8c00-59e77c23ba29",
   "metadata": {},
   "outputs": [
    {
     "name": "stdout",
     "output_type": "stream",
     "text": [
      "02sep23.ipynb  24thsept23.ipynb              sample-code.ipynb\n",
      "03Sep23.ipynb  python_basic_datatypes.ipynb  testfile.txt\n",
      "16sep23.ipynb  README.md                     test.txt\n"
     ]
    }
   ],
   "source": [
    "ls"
   ]
  },
  {
   "cell_type": "code",
   "execution_count": 2,
   "id": "0f1729d8-3bc6-4f63-b30e-e2443bcfe903",
   "metadata": {},
   "outputs": [
    {
     "data": {
      "text/plain": [
       "'/home/jovyan/work'"
      ]
     },
     "execution_count": 2,
     "metadata": {},
     "output_type": "execute_result"
    }
   ],
   "source": [
    "pwd"
   ]
  },
  {
   "cell_type": "code",
   "execution_count": 3,
   "id": "491d9a58-b172-434a-abfe-ca67ddf51cb8",
   "metadata": {},
   "outputs": [
    {
     "data": {
      "text/plain": [
       "<_io.TextIOWrapper name='test.txt' mode='r' encoding='UTF-8'>"
      ]
     },
     "execution_count": 3,
     "metadata": {},
     "output_type": "execute_result"
    }
   ],
   "source": [
    "open('test.txt')"
   ]
  },
  {
   "cell_type": "code",
   "execution_count": 5,
   "id": "e71d01c8-c3c2-4165-b3f4-22170ed7b66f",
   "metadata": {},
   "outputs": [
    {
     "name": "stdout",
     "output_type": "stream",
     "text": [
      "Google LLC (/ˈɡuːɡəl/ ⓘ) is an American multinational technology company focusing on artificial intelligence,[9] online advertising, search engine technology, cloud computing, computer software, quantum computing, e-commerce, and consumer electronics. It has been referred to as \"the most powerful company in the world\"[10] and as one of the world's most valuable brands due to its market dominance, data collection, and technological advantages in the field of artificial intelligence.[11][12][13] Alongside Amazon, Apple Inc., Meta, and Microsoft, Google's parent company Alphabet Inc. is one of the five Big Tech companies.\n",
      "\n",
      "\n",
      "\n",
      "Google was founded on September 4, 1998, by American computer scientists Larry Page and Sergey Brin while they were PhD students at Stanford University in California. Together they own about 14% of its publicly listed shares and control 56% of its stockholder voting power through super-voting stock. The company went public via an initial public offering (IPO) in 2004. In 2015, Google was reorganized as a wholly owned subsidiary of Alphabet Inc. Google is Alphabet's largest subsidiary and is a holding company for Alphabet's internet properties and interests. Sundar Pichai was appointed CEO of Google on October 24, 2015, replacing Larry Page, who became the CEO of Alphabet. On December 3, 2019, Pichai also became the CEO of Alphabet.[14]\n",
      "\n",
      "\n",
      "\n",
      "The company has since rapidly grown to offer a multitude of products and services beyond Google Search, many of which hold dominant market positions. These products address a wide range of use cases, including email (Gmail), navigation (Waze & Maps), cloud computing (Cloud), web browsing (Chrome), video sharing (YouTube), productivity (Workspace), operating systems (Android), cloud storage (Drive), language translation (Translate), photo storage (Photos), video calling (Meet), smart home (Nest), smartphones (Pixel), wearable technology (Pixel Watch & Fitbit), music streaming (YouTube Music), video on demand (YouTube TV), artificial intelligence (Google Assistant & Bard), machine learning APIs (TensorFlow), AI chips (TPU), and more. Discontinued Google products include gaming (Stadia), Glass, Google+, Reader, Play Music, Nexus, Hangouts, and Inbox by Gmail.[15][16]\n",
      "\n",
      "\n",
      "\n",
      "Google's other ventures outside of Internet services and consumer electronics include quantum computing (Sycamore), self-driving cars (Waymo, formerly the Google Self-Driving Car Project), smart cities (Sidewalk Labs), and transformer models (Google Deepmind).[17]\n",
      "\n",
      "\n",
      "\n",
      "Google and YouTube are the two most visited websites worldwide followed by Facebook and X (formerly known as Twitter). Google is also the largest search engine, mapping and navigation application, email provider, office suite, video sharing platform, photo and cloud storage provider, mobile operating system, web browser, ML framework, and AI virtual assistant provider in the world as measured by market share. On the list of most valuable brands, Google is ranked second by Forbes[18] and fourth by Interbrand.[19] It has received significant criticism involving issues such as privacy concerns, tax avoidance, censorship, search neutrality, antitrust and abuse of its monopoly position.\n",
      "\n",
      "\n",
      "\n",
      "History\n"
     ]
    }
   ],
   "source": [
    "for i in open('test.txt'):\n",
    "    print(i)"
   ]
  },
  {
   "cell_type": "code",
   "execution_count": 6,
   "id": "6c247b7c-4690-4e7b-a3f3-58ab1b03c75b",
   "metadata": {},
   "outputs": [],
   "source": [
    "def read_file(file_name):\n",
    "    with open(file_name) as file:\n",
    "        for i in file:\n",
    "            yield i\n",
    "            "
   ]
  },
  {
   "cell_type": "code",
   "execution_count": 7,
   "id": "81774282-86ce-49a9-a3e6-3298a2200832",
   "metadata": {},
   "outputs": [
    {
     "data": {
      "text/plain": [
       "<generator object read_file at 0x7fdf4066b4c0>"
      ]
     },
     "execution_count": 7,
     "metadata": {},
     "output_type": "execute_result"
    }
   ],
   "source": [
    "read_file('test.txt')"
   ]
  },
  {
   "cell_type": "code",
   "execution_count": 8,
   "id": "15ed1f06-d82d-4a2b-b42b-8b3a29d5104e",
   "metadata": {},
   "outputs": [
    {
     "name": "stdout",
     "output_type": "stream",
     "text": [
      "Google LLC (/ˈɡuːɡəl/ ⓘ) is an American multinational technology company focusing on artificial intelligence,[9] online advertising, search engine technology, cloud computing, computer software, quantum computing, e-commerce, and consumer electronics. It has been referred to as \"the most powerful company in the world\"[10] and as one of the world's most valuable brands due to its market dominance, data collection, and technological advantages in the field of artificial intelligence.[11][12][13] Alongside Amazon, Apple Inc., Meta, and Microsoft, Google's parent company Alphabet Inc. is one of the five Big Tech companies.\n",
      "\n",
      "\n",
      "\n",
      "Google was founded on September 4, 1998, by American computer scientists Larry Page and Sergey Brin while they were PhD students at Stanford University in California. Together they own about 14% of its publicly listed shares and control 56% of its stockholder voting power through super-voting stock. The company went public via an initial public offering (IPO) in 2004. In 2015, Google was reorganized as a wholly owned subsidiary of Alphabet Inc. Google is Alphabet's largest subsidiary and is a holding company for Alphabet's internet properties and interests. Sundar Pichai was appointed CEO of Google on October 24, 2015, replacing Larry Page, who became the CEO of Alphabet. On December 3, 2019, Pichai also became the CEO of Alphabet.[14]\n",
      "\n",
      "\n",
      "\n",
      "The company has since rapidly grown to offer a multitude of products and services beyond Google Search, many of which hold dominant market positions. These products address a wide range of use cases, including email (Gmail), navigation (Waze & Maps), cloud computing (Cloud), web browsing (Chrome), video sharing (YouTube), productivity (Workspace), operating systems (Android), cloud storage (Drive), language translation (Translate), photo storage (Photos), video calling (Meet), smart home (Nest), smartphones (Pixel), wearable technology (Pixel Watch & Fitbit), music streaming (YouTube Music), video on demand (YouTube TV), artificial intelligence (Google Assistant & Bard), machine learning APIs (TensorFlow), AI chips (TPU), and more. Discontinued Google products include gaming (Stadia), Glass, Google+, Reader, Play Music, Nexus, Hangouts, and Inbox by Gmail.[15][16]\n",
      "\n",
      "\n",
      "\n",
      "Google's other ventures outside of Internet services and consumer electronics include quantum computing (Sycamore), self-driving cars (Waymo, formerly the Google Self-Driving Car Project), smart cities (Sidewalk Labs), and transformer models (Google Deepmind).[17]\n",
      "\n",
      "\n",
      "\n",
      "Google and YouTube are the two most visited websites worldwide followed by Facebook and X (formerly known as Twitter). Google is also the largest search engine, mapping and navigation application, email provider, office suite, video sharing platform, photo and cloud storage provider, mobile operating system, web browser, ML framework, and AI virtual assistant provider in the world as measured by market share. On the list of most valuable brands, Google is ranked second by Forbes[18] and fourth by Interbrand.[19] It has received significant criticism involving issues such as privacy concerns, tax avoidance, censorship, search neutrality, antitrust and abuse of its monopoly position.\n",
      "\n",
      "\n",
      "\n",
      "History\n"
     ]
    }
   ],
   "source": [
    "for i in read_file('test.txt'):\n",
    "    print(i)"
   ]
  },
  {
   "cell_type": "code",
   "execution_count": null,
   "id": "81ffedc7-5f67-4eb9-93b2-41e7fc9c2f57",
   "metadata": {},
   "outputs": [],
   "source": []
  }
 ],
 "metadata": {
  "kernelspec": {
   "display_name": "Python 3 (ipykernel)",
   "language": "python",
   "name": "python3"
  },
  "language_info": {
   "codemirror_mode": {
    "name": "ipython",
    "version": 3
   },
   "file_extension": ".py",
   "mimetype": "text/x-python",
   "name": "python",
   "nbconvert_exporter": "python",
   "pygments_lexer": "ipython3",
   "version": "3.10.8"
  }
 },
 "nbformat": 4,
 "nbformat_minor": 5
}
