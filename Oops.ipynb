{
 "cells": [
  {
   "cell_type": "code",
   "execution_count": 1,
   "id": "42da2c5b-abcb-435e-ad05-3605305e350f",
   "metadata": {},
   "outputs": [],
   "source": [
    "class bankaccount :\n",
    "    \n",
    "    def openaccount(self,name,email_id) :\n",
    "        print('open an account by taking name and email_id')\n",
    "        return name + email_id\n",
    "    \n",
    "    def deposit(self,amount) :\n",
    "        print('I am trying to deposit an amount in my amount')\n",
    "    \n",
    "    def withdraw(self,amount) :\n",
    "        print('withdraw the amount')\n",
    "    \n",
    "    def update_details(self,name_update,email_update) :\n",
    "        print('this function will update my name and email_id for account')"
   ]
  },
  {
   "cell_type": "code",
   "execution_count": 2,
   "id": "23fc3d22-41ac-4833-9490-c8695bc22005",
   "metadata": {},
   "outputs": [],
   "source": [
    "amir = bankaccount()"
   ]
  },
  {
   "cell_type": "code",
   "execution_count": 4,
   "id": "ae9d7132-62f1-4e4f-8e3a-7ec2371417b8",
   "metadata": {},
   "outputs": [
    {
     "name": "stdout",
     "output_type": "stream",
     "text": [
      "open an account by taking name and email_id\n"
     ]
    },
    {
     "data": {
      "text/plain": [
       "'amirkh786@gmail.com'"
      ]
     },
     "execution_count": 4,
     "metadata": {},
     "output_type": "execute_result"
    }
   ],
   "source": [
    "amir.openaccount(\"amir\",\"kh786@gmail.com\")"
   ]
  },
  {
   "cell_type": "code",
   "execution_count": 42,
   "id": "f4153944-e9f6-4de7-970b-2ef98e38855a",
   "metadata": {},
   "outputs": [],
   "source": [
    "class list_oprs:\n",
    "    \n",
    "    # a = 10\n",
    "    # l = [1,2,3,4,5,6,7,8,9,0]\n",
    "    \n",
    "    def __init__(amir,l):               # dunder function(inbuilt fn)\n",
    "        amir.l1 = l           #l1 is the class variable which we are going to bind with the help of pointer(amir) \n",
    "        amir.l2 = 40\n",
    "        amir.l3 = 'amir'\n",
    "        amir.l4 = (4,5,6,6,7,8)\n",
    "        amir.l5 = {'key':'values'}\n",
    "        \n",
    "    def extractfromindex(self,l,index):\n",
    "        return l[index]\n",
    "    \n",
    "    def extractrangedata(self,l,start,end):\n",
    "        return l[start:end]\n",
    "    \n",
    "    def extracteven(self,l):\n",
    "        l1=[]\n",
    "        for i in l:\n",
    "            if i%2==0:\n",
    "                l1.append(i)\n",
    "        return l1\n",
    "    \n",
    "    \n",
    "                "
   ]
  },
  {
   "cell_type": "code",
   "execution_count": 27,
   "id": "3c3a2d7e-dce0-46f7-82e6-c247276af8fe",
   "metadata": {},
   "outputs": [
    {
     "data": {
      "text/plain": [
       "5"
      ]
     },
     "execution_count": 27,
     "metadata": {},
     "output_type": "execute_result"
    }
   ],
   "source": [
    "first_obj = list_oprs()\n",
    "first_obj.extractfromindex(first_obj.l,4)"
   ]
  },
  {
   "cell_type": "code",
   "execution_count": 28,
   "id": "8a1c7205-3788-434f-b8c6-ea7ee2e8a833",
   "metadata": {},
   "outputs": [
    {
     "data": {
      "text/plain": [
       "[1, 2, 3, 4]"
      ]
     },
     "execution_count": 28,
     "metadata": {},
     "output_type": "execute_result"
    }
   ],
   "source": [
    "first_obj.extractrangedata(first_obj.l,0,4)"
   ]
  },
  {
   "cell_type": "code",
   "execution_count": 23,
   "id": "a0b151ea-1279-4399-b290-58bc2a860b80",
   "metadata": {},
   "outputs": [
    {
     "data": {
      "text/plain": [
       "[4, 6, 8, 0]"
      ]
     },
     "execution_count": 23,
     "metadata": {},
     "output_type": "execute_result"
    }
   ],
   "source": [
    "first_obj.extracteven([4,5,6,7,8,9,0])"
   ]
  },
  {
   "cell_type": "code",
   "execution_count": 24,
   "id": "d86560a7-e6f3-4967-990a-a458f3815c30",
   "metadata": {},
   "outputs": [
    {
     "data": {
      "text/plain": [
       "10"
      ]
     },
     "execution_count": 24,
     "metadata": {},
     "output_type": "execute_result"
    }
   ],
   "source": [
    "first_obj.a"
   ]
  },
  {
   "cell_type": "code",
   "execution_count": 25,
   "id": "99450335-ebbc-441f-9301-54546bba6630",
   "metadata": {},
   "outputs": [
    {
     "data": {
      "text/plain": [
       "10"
      ]
     },
     "execution_count": 25,
     "metadata": {},
     "output_type": "execute_result"
    }
   ],
   "source": [
    "first_obj.a"
   ]
  },
  {
   "cell_type": "code",
   "execution_count": 26,
   "id": "135e763f-0ccb-4335-85ee-7e7854b44585",
   "metadata": {},
   "outputs": [
    {
     "data": {
      "text/plain": [
       "[1, 2, 3, 4, 5, 6, 7, 8, 9, 0]"
      ]
     },
     "execution_count": 26,
     "metadata": {},
     "output_type": "execute_result"
    }
   ],
   "source": [
    "first_obj.l"
   ]
  },
  {
   "cell_type": "code",
   "execution_count": 29,
   "id": "bb6d0d7f-6373-45bc-9482-3c1acbf9d498",
   "metadata": {},
   "outputs": [
    {
     "data": {
      "text/plain": [
       "[1, 2, 3, 4, 5, 6, 7, 8, 9, 0]"
      ]
     },
     "execution_count": 29,
     "metadata": {},
     "output_type": "execute_result"
    }
   ],
   "source": [
    "second_obj = list_oprs()\n",
    "second_obj.l"
   ]
  },
  {
   "cell_type": "code",
   "execution_count": 34,
   "id": "cb864fdc-a396-402a-aea1-a7c406e84fb1",
   "metadata": {},
   "outputs": [
    {
     "ename": "TypeError",
     "evalue": "list_oprs.__init__() missing 1 required positional argument: 'l'",
     "output_type": "error",
     "traceback": [
      "\u001b[0;31m---------------------------------------------------------------------------\u001b[0m",
      "\u001b[0;31mTypeError\u001b[0m                                 Traceback (most recent call last)",
      "Cell \u001b[0;32mIn[34], line 1\u001b[0m\n\u001b[0;32m----> 1\u001b[0m third_obj \u001b[38;5;241m=\u001b[39m \u001b[43mlist_oprs\u001b[49m\u001b[43m(\u001b[49m\u001b[43m)\u001b[49m\n",
      "\u001b[0;31mTypeError\u001b[0m: list_oprs.__init__() missing 1 required positional argument: 'l'"
     ]
    }
   ],
   "source": [
    "third_obj = list_oprs()\n"
   ]
  },
  {
   "cell_type": "code",
   "execution_count": 44,
   "id": "abe8c87a-c07f-4c1a-b3b2-d8c01c7a5c34",
   "metadata": {},
   "outputs": [
    {
     "data": {
      "text/plain": [
       "[3, 4, 5, 6, 7, 8]"
      ]
     },
     "execution_count": 44,
     "metadata": {},
     "output_type": "execute_result"
    }
   ],
   "source": [
    "third_obj = list_oprs([3,4,5,6,7,8])\n",
    "third_obj.l1"
   ]
  },
  {
   "cell_type": "code",
   "execution_count": 45,
   "id": "a36ccf72-aae2-465f-b929-3cf3af292499",
   "metadata": {},
   "outputs": [
    {
     "data": {
      "text/plain": [
       "40"
      ]
     },
     "execution_count": 45,
     "metadata": {},
     "output_type": "execute_result"
    }
   ],
   "source": [
    "third_obj.l2"
   ]
  },
  {
   "cell_type": "code",
   "execution_count": 48,
   "id": "b6878701-0b1b-4842-b18d-33e06859b578",
   "metadata": {},
   "outputs": [],
   "source": [
    "class book:\n",
    "    \n",
    "    def __init__(self,name,title,pageno):\n",
    "        self.name_of_book = name\n",
    "        self.title_of_book = title\n",
    "        self.page_no = pageno\n",
    "        \n",
    "    def extract_details(self):\n",
    "        print(self.name_of_book, self.title_of_book)\n",
    "        \n",
    "    def print_page_no(self):\n",
    "        print(self.page_no)\n",
    "        "
   ]
  },
  {
   "cell_type": "code",
   "execution_count": 49,
   "id": "36f9010b-8df7-41f9-a28d-e728ef1377c4",
   "metadata": {},
   "outputs": [],
   "source": [
    "amir = book('dsa','practical dsa',450)\n",
    "ronik = book('data science','implementation of data science',320)\n",
    "wasim = book('big data','invention with big data',434)"
   ]
  },
  {
   "cell_type": "code",
   "execution_count": 50,
   "id": "f0caa5f9-dd3f-49a0-a12d-a88313717743",
   "metadata": {},
   "outputs": [
    {
     "name": "stdout",
     "output_type": "stream",
     "text": [
      "dsa practical dsa\n"
     ]
    }
   ],
   "source": [
    "amir.extract_details()"
   ]
  },
  {
   "cell_type": "code",
   "execution_count": 51,
   "id": "39e178b6-e24c-44aa-8277-847c821aab66",
   "metadata": {},
   "outputs": [
    {
     "name": "stdout",
     "output_type": "stream",
     "text": [
      "data science implementation of data science\n"
     ]
    }
   ],
   "source": [
    "ronik.extract_details()"
   ]
  },
  {
   "cell_type": "code",
   "execution_count": 52,
   "id": "7918759c-39d5-4e24-980c-9a9529ab467d",
   "metadata": {},
   "outputs": [
    {
     "name": "stdout",
     "output_type": "stream",
     "text": [
      "big data invention with big data\n"
     ]
    }
   ],
   "source": [
    "wasim.extract_details()"
   ]
  },
  {
   "cell_type": "code",
   "execution_count": 53,
   "id": "ebd25c1f-f864-4d4d-9d4d-2aac08d9b86f",
   "metadata": {},
   "outputs": [
    {
     "data": {
      "text/plain": [
       "'dsa'"
      ]
     },
     "execution_count": 53,
     "metadata": {},
     "output_type": "execute_result"
    }
   ],
   "source": [
    "amir.name_of_book"
   ]
  },
  {
   "cell_type": "code",
   "execution_count": 54,
   "id": "ee9d167d-edc7-498d-9a58-d02a8aa2e333",
   "metadata": {},
   "outputs": [],
   "source": [
    "a=10"
   ]
  },
  {
   "cell_type": "code",
   "execution_count": 55,
   "id": "3e76e0b9-2c29-4eff-914e-f774c2565022",
   "metadata": {},
   "outputs": [
    {
     "data": {
      "text/plain": [
       "10"
      ]
     },
     "execution_count": 55,
     "metadata": {},
     "output_type": "execute_result"
    }
   ],
   "source": [
    "a"
   ]
  },
  {
   "cell_type": "code",
   "execution_count": 56,
   "id": "163d2977-9aea-440a-ac49-4bdada91263c",
   "metadata": {},
   "outputs": [],
   "source": [
    "class book:\n",
    "    \n",
    "    def __init__(self):\n",
    "        self.name_of_book = 'dsa'\n",
    "        self.title_of_book = 'dsa advanced'\n",
    "        self.page_no = 453\n",
    "        \n",
    "    def extract_details(self):\n",
    "        print(self.name_of_book, self.title_of_book)\n",
    "        \n",
    "    def print_page_no(self):\n",
    "        print(self.page_no)"
   ]
  },
  {
   "cell_type": "code",
   "execution_count": 57,
   "id": "1f76d54f-bf70-4d57-8760-db7a77f1cd1f",
   "metadata": {},
   "outputs": [
    {
     "data": {
      "text/plain": [
       "'dsa'"
      ]
     },
     "execution_count": 57,
     "metadata": {},
     "output_type": "execute_result"
    }
   ],
   "source": [
    "stud1 = book()\n",
    "stud1.name_of_book"
   ]
  },
  {
   "cell_type": "code",
   "execution_count": 58,
   "id": "8203f18b-04cc-49a6-a01d-5cdae2c7920a",
   "metadata": {},
   "outputs": [
    {
     "data": {
      "text/plain": [
       "'dsa'"
      ]
     },
     "execution_count": 58,
     "metadata": {},
     "output_type": "execute_result"
    }
   ],
   "source": [
    "stud2 = book()\n",
    "stud2.name_of_book"
   ]
  },
  {
   "cell_type": "code",
   "execution_count": 61,
   "id": "4d8d36b5-5014-44b1-afc7-ed05f1e1c245",
   "metadata": {},
   "outputs": [],
   "source": [
    "class gmail_ops:\n",
    "    def __init__(self,userid,password):\n",
    "        self.userid = userid\n",
    "        self.password = password\n",
    "        self.url = \"https://mail.google.com/mail/u/1/#inbox\"\n",
    "        \n",
    "    def login(self):\n",
    "        print(\"take userid \" + self.userid + ' take password ' + self.password + ' hit url ' + self.url)\n",
    "        print('login')\n",
    "        \n",
    "    def read_mail(self):\n",
    "        print(\"read mail for \" + self.userid + \"  \" + self.password )\n",
    "        \n",
    "    def reply_mail(self):\n",
    "        print(\"reply mail for \" + self.userid + \"  \" + self.password )"
   ]
  },
  {
   "cell_type": "code",
   "execution_count": 62,
   "id": "32e4789d-470f-47a9-81ec-e326da37027a",
   "metadata": {},
   "outputs": [
    {
     "name": "stdout",
     "output_type": "stream",
     "text": [
      "take userid user1 take password user1pass hit url https://mail.google.com/mail/u/1/#inbox\n",
      "login\n"
     ]
    }
   ],
   "source": [
    "user1 = gmail_ops('user1','user1pass')\n",
    "user1.login()"
   ]
  },
  {
   "cell_type": "code",
   "execution_count": 63,
   "id": "1ecb4d43-750f-4423-9f73-1283baa76fce",
   "metadata": {},
   "outputs": [
    {
     "name": "stdout",
     "output_type": "stream",
     "text": [
      "take userid user2 take password user2pass hit url https://mail.google.com/mail/u/1/#inbox\n",
      "login\n"
     ]
    }
   ],
   "source": [
    "user2 = gmail_ops('user2','user2pass')\n",
    "user2.login()"
   ]
  },
  {
   "cell_type": "code",
   "execution_count": 69,
   "id": "6d63c337-5e32-45d3-898a-26b22a6d79d9",
   "metadata": {},
   "outputs": [],
   "source": [
    "from functools import reduce\n",
    "class calculator:\n",
    "    \n",
    "    def __init__(self,username):\n",
    "        self.username = username\n",
    "    \n",
    "    def add(self,*args):\n",
    "        return self.username, sum(args)\n",
    "    \n",
    "    def subtraction(self,*args):\n",
    "        return self.username, reduce(lambda a,b : a-b, args)\n",
    "    \n",
    "    def mult(self,*args):\n",
    "        return self.username, reduce(lambda a,b : a*b, args)\n",
    "    \n",
    "    def div(self,*args):\n",
    "        return self.username, reduce(lambda a,b : a/b, args)"
   ]
  },
  {
   "cell_type": "code",
   "execution_count": 71,
   "id": "e7b65dce-c74a-46fa-b763-0dc68d317da5",
   "metadata": {},
   "outputs": [
    {
     "data": {
      "text/plain": [
       "('amir', 45)"
      ]
     },
     "execution_count": 71,
     "metadata": {},
     "output_type": "execute_result"
    }
   ],
   "source": [
    "user1 = calculator('amir')\n",
    "user1.add(1,2,3,4,5,6,7,8,9)"
   ]
  },
  {
   "cell_type": "code",
   "execution_count": 72,
   "id": "5bc1ca17-88ca-40af-97cf-9207eb36af77",
   "metadata": {},
   "outputs": [
    {
     "data": {
      "text/plain": [
       "('amir', 160)"
      ]
     },
     "execution_count": 72,
     "metadata": {},
     "output_type": "execute_result"
    }
   ],
   "source": [
    "user1.mult(1,5,8,4)"
   ]
  },
  {
   "cell_type": "code",
   "execution_count": 73,
   "id": "f1cff51a-2ade-48ad-b630-e238593c50a3",
   "metadata": {},
   "outputs": [
    {
     "data": {
      "text/plain": [
       "('amir', 0.5)"
      ]
     },
     "execution_count": 73,
     "metadata": {},
     "output_type": "execute_result"
    }
   ],
   "source": [
    "user1.div(5,2,5)"
   ]
  },
  {
   "cell_type": "code",
   "execution_count": 74,
   "id": "6da343f7-4efb-4b42-83e8-43ee1ad14dbc",
   "metadata": {},
   "outputs": [
    {
     "data": {
      "text/plain": [
       "('amir', 17)"
      ]
     },
     "execution_count": 74,
     "metadata": {},
     "output_type": "execute_result"
    }
   ],
   "source": [
    "user1.subtraction(45,8,6,8,2,4)"
   ]
  },
  {
   "cell_type": "code",
   "execution_count": 19,
   "id": "e1626552-5bf3-47b7-879e-bbcfd689b354",
   "metadata": {},
   "outputs": [],
   "source": [
    "# Oops 2nd lecture"
   ]
  },
  {
   "cell_type": "code",
   "execution_count": 20,
   "id": "bbfb5114-035a-4669-bc35-90a9cae82284",
   "metadata": {},
   "outputs": [],
   "source": [
    "class a:\n",
    "    \n",
    "    def test(self):\n",
    "        print('this test method is a part of class a')\n",
    "        \n",
    "    def test1(self):\n",
    "        print('this is test1 from class a')"
   ]
  },
  {
   "cell_type": "code",
   "execution_count": 21,
   "id": "a485e8ef-9a7a-4714-85b7-52d5c7ef7b14",
   "metadata": {},
   "outputs": [],
   "source": [
    "obj_a = a()"
   ]
  },
  {
   "cell_type": "code",
   "execution_count": 22,
   "id": "db89729e-4948-4293-9aa2-800be5a8a1f8",
   "metadata": {},
   "outputs": [
    {
     "name": "stdout",
     "output_type": "stream",
     "text": [
      "this test method is a part of class a\n"
     ]
    }
   ],
   "source": [
    "obj_a.test()"
   ]
  },
  {
   "cell_type": "code",
   "execution_count": 28,
   "id": "83e47848-5918-4fd5-8928-0b54e7892970",
   "metadata": {},
   "outputs": [],
   "source": [
    "class b(a) :\n",
    "    \n",
    "    def test1b(self):\n",
    "        print('this is part of class b')"
   ]
  },
  {
   "cell_type": "code",
   "execution_count": 29,
   "id": "2f957e69-d763-48ea-a28e-78d69fd42362",
   "metadata": {},
   "outputs": [],
   "source": [
    "obj_b = b()"
   ]
  },
  {
   "cell_type": "code",
   "execution_count": 30,
   "id": "034de0c4-693a-47b6-9692-ead68242c121",
   "metadata": {},
   "outputs": [
    {
     "name": "stdout",
     "output_type": "stream",
     "text": [
      "this test method is a part of class a\n"
     ]
    }
   ],
   "source": [
    "obj_b.test()"
   ]
  },
  {
   "cell_type": "code",
   "execution_count": 31,
   "id": "0b13ece2-e17e-42b0-98d0-7467743e4465",
   "metadata": {},
   "outputs": [
    {
     "name": "stdout",
     "output_type": "stream",
     "text": [
      "this is test1 from class a\n"
     ]
    }
   ],
   "source": [
    "obj_b.test1()"
   ]
  },
  {
   "cell_type": "code",
   "execution_count": 32,
   "id": "6bf378fa-b9a4-499b-8351-8d5d855bc468",
   "metadata": {},
   "outputs": [
    {
     "name": "stdout",
     "output_type": "stream",
     "text": [
      "this is part of class b\n"
     ]
    }
   ],
   "source": [
    "obj_b.test1b()"
   ]
  },
  {
   "cell_type": "code",
   "execution_count": 37,
   "id": "612bcc43-7167-4f7b-a289-132572ae55e3",
   "metadata": {},
   "outputs": [],
   "source": [
    "class lecture:\n",
    "    \n",
    "    def topic(self):\n",
    "        print(\"today's class we are discussing about inheritence\")\n",
    "    \n",
    "    def timing(self):\n",
    "        print(\"timing for today's class is 9 AM IST\")\n",
    "    \n",
    "    def end_time(self):\n",
    "        print(\"today i will try to end class bit early\")"
   ]
  },
  {
   "cell_type": "code",
   "execution_count": 38,
   "id": "25fc2efa-df4a-4eb9-add6-5f8ad318e7cd",
   "metadata": {},
   "outputs": [],
   "source": [
    "class student(lecture):\n",
    "    \n",
    "    def student_details(self):\n",
    "        print(\"this class will give you student's details\")\n",
    "        \n",
    "    "
   ]
  },
  {
   "cell_type": "code",
   "execution_count": 39,
   "id": "3d7763ad-e80b-4631-b639-933655ce37ab",
   "metadata": {},
   "outputs": [],
   "source": [
    "naval = student()"
   ]
  },
  {
   "cell_type": "code",
   "execution_count": 40,
   "id": "fe95688b-968d-4f5c-8d43-4be441a14293",
   "metadata": {},
   "outputs": [
    {
     "name": "stdout",
     "output_type": "stream",
     "text": [
      "today's class we are discussing about inheritence\n"
     ]
    }
   ],
   "source": [
    "naval.topic()"
   ]
  },
  {
   "cell_type": "code",
   "execution_count": 41,
   "id": "a5a6861d-84e1-4e0f-a495-0b190b379b22",
   "metadata": {},
   "outputs": [],
   "source": [
    "satish = student()"
   ]
  },
  {
   "cell_type": "code",
   "execution_count": 42,
   "id": "30ff6dde-5264-45c1-b5d6-7e78647a46c8",
   "metadata": {},
   "outputs": [
    {
     "name": "stdout",
     "output_type": "stream",
     "text": [
      "timing for today's class is 9 AM IST\n"
     ]
    }
   ],
   "source": [
    "satish.timing()"
   ]
  },
  {
   "cell_type": "code",
   "execution_count": 44,
   "id": "db98a349-3c10-4570-a211-8de0b750cf54",
   "metadata": {},
   "outputs": [],
   "source": [
    "class teacher(student):  # multi-level inheritence\n",
    "    \n",
    "    def details(self):\n",
    "        print(\"this will give you details about teacher\")"
   ]
  },
  {
   "cell_type": "code",
   "execution_count": 45,
   "id": "d3aa00ce-27a8-45eb-a84d-9a168ec04be6",
   "metadata": {},
   "outputs": [],
   "source": [
    "sudh = teacher()"
   ]
  },
  {
   "cell_type": "code",
   "execution_count": 46,
   "id": "7dc759bd-2842-4424-89fd-b01ec2c21651",
   "metadata": {},
   "outputs": [
    {
     "name": "stdout",
     "output_type": "stream",
     "text": [
      "today's class we are discussing about inheritence\n"
     ]
    }
   ],
   "source": [
    "sudh.topic() "
   ]
  },
  {
   "cell_type": "code",
   "execution_count": 48,
   "id": "565b2f35-e135-493a-91b1-3bbff4c6225c",
   "metadata": {},
   "outputs": [
    {
     "name": "stdout",
     "output_type": "stream",
     "text": [
      "this class will give you student's details\n"
     ]
    }
   ],
   "source": [
    "sudh.student_details()"
   ]
  },
  {
   "cell_type": "code",
   "execution_count": 49,
   "id": "8254078d-1e66-497d-b78a-9be5e14ac562",
   "metadata": {},
   "outputs": [
    {
     "name": "stdout",
     "output_type": "stream",
     "text": [
      "this will give you details about teacher\n"
     ]
    }
   ],
   "source": [
    "sudh.details()"
   ]
  },
  {
   "cell_type": "code",
   "execution_count": 95,
   "id": "d0ad72c2-6606-4dc0-9fc8-2f58932e5d0b",
   "metadata": {},
   "outputs": [],
   "source": [
    "class lecture:\n",
    "    \n",
    "    def topic(self):\n",
    "        print(\"today's class we are discussing about inheritence\")\n",
    "    \n",
    "    def timing(self):\n",
    "        print(\"timing for today's class is 9 AM IST\")\n",
    "    \n",
    "    def end_time(self):\n",
    "        print(\"today i will try to end class bit early\")"
   ]
  },
  {
   "cell_type": "code",
   "execution_count": 96,
   "id": "178d0d9f-57f4-4ebf-b15b-996e6ea9da10",
   "metadata": {},
   "outputs": [],
   "source": [
    "class student:\n",
    "    \n",
    "    def student_details(self):\n",
    "        print(\"this class will give you student's details\")\n",
    "        \n",
    "    def timing(self):\n",
    "        print(\"timing is timing function from student's class\")"
   ]
  },
  {
   "cell_type": "code",
   "execution_count": 97,
   "id": "a95e6b1f-4728-48a2-937e-ef31e0d5a57d",
   "metadata": {},
   "outputs": [],
   "source": [
    "class teacher(student,lecture):  # multi-inheritence\n",
    "    \n",
    "    def details(self):\n",
    "        print(\"this will give you details about teacher\")"
   ]
  },
  {
   "cell_type": "code",
   "execution_count": 98,
   "id": "a9adbdfb-0881-4e10-99eb-a8180309f40f",
   "metadata": {},
   "outputs": [],
   "source": [
    "# try to inherit lecture class, and student class in teacher class"
   ]
  },
  {
   "cell_type": "code",
   "execution_count": 99,
   "id": "abeb51fc-252f-47a6-8b9d-65e6f5fa8b0e",
   "metadata": {},
   "outputs": [],
   "source": [
    "krish = teacher()"
   ]
  },
  {
   "cell_type": "code",
   "execution_count": 100,
   "id": "ed0e7406-f9be-47ca-88c6-541f0dbb46f7",
   "metadata": {},
   "outputs": [
    {
     "name": "stdout",
     "output_type": "stream",
     "text": [
      "today's class we are discussing about inheritence\n"
     ]
    }
   ],
   "source": [
    "krish.topic()"
   ]
  },
  {
   "cell_type": "code",
   "execution_count": 101,
   "id": "9628d927-5bb7-4fc8-a20c-f5ec8d0c9d97",
   "metadata": {},
   "outputs": [
    {
     "name": "stdout",
     "output_type": "stream",
     "text": [
      "this class will give you student's details\n"
     ]
    }
   ],
   "source": [
    "krish.student_details()"
   ]
  },
  {
   "cell_type": "code",
   "execution_count": 102,
   "id": "c75e4347-98bb-4b73-a0b6-cee4e0382b85",
   "metadata": {},
   "outputs": [
    {
     "name": "stdout",
     "output_type": "stream",
     "text": [
      "this will give you details about teacher\n"
     ]
    }
   ],
   "source": [
    "krish.details()"
   ]
  },
  {
   "cell_type": "code",
   "execution_count": 103,
   "id": "4128629a-c992-46ad-835f-f322b54d4b52",
   "metadata": {},
   "outputs": [
    {
     "name": "stdout",
     "output_type": "stream",
     "text": [
      "timing is timing function from student's class\n"
     ]
    }
   ],
   "source": [
    "krish.timing()"
   ]
  },
  {
   "cell_type": "code",
   "execution_count": 104,
   "id": "881cc76d-2734-47be-99a2-8eb5b4a06cb2",
   "metadata": {},
   "outputs": [],
   "source": [
    "class lecture:\n",
    "    \n",
    "    def topic(self):\n",
    "        print(\"today's class we are discussing about inheritence\")\n",
    "    \n",
    "    def timing(self):\n",
    "        print(\"timing for today's class is 9 AM IST\")\n",
    "    \n",
    "    def end_time(self):\n",
    "        print(\"today i will try to end class bit early\")"
   ]
  },
  {
   "cell_type": "code",
   "execution_count": 105,
   "id": "92c40741-4cb6-4118-97f4-17073f429b7c",
   "metadata": {},
   "outputs": [],
   "source": [
    "class student:\n",
    "    \n",
    "    def student_details(self):\n",
    "        print(\"this class will give you student's details\")\n",
    "        \n",
    "    def timing(self):\n",
    "        print(\"timing is timing function from student's class\")"
   ]
  },
  {
   "cell_type": "code",
   "execution_count": 106,
   "id": "2547dd62-abd3-4e1f-895a-5bbdbfc428d8",
   "metadata": {},
   "outputs": [],
   "source": [
    "class teacher(lecture,student):  # multi-inheritence\n",
    "    \n",
    "    def details(self):\n",
    "        print(\"this will give you details about teacher\")"
   ]
  },
  {
   "cell_type": "code",
   "execution_count": 108,
   "id": "4736a871-4dab-4d7a-afa8-52a4054853fc",
   "metadata": {},
   "outputs": [],
   "source": [
    "krish = teacher()"
   ]
  },
  {
   "cell_type": "code",
   "execution_count": 109,
   "id": "a2fb68d7-146f-48d6-a341-01c36b2a30a6",
   "metadata": {},
   "outputs": [
    {
     "name": "stdout",
     "output_type": "stream",
     "text": [
      "timing for today's class is 9 AM IST\n"
     ]
    }
   ],
   "source": [
    "krish.timing() # if functions are common btw the inheritence class it will always \n",
    "               # try to reolve the conflict by going after an order and it will\n",
    "               # always give the priority to the class which comes first in the order"
   ]
  },
  {
   "cell_type": "code",
   "execution_count": 3,
   "id": "defd59f9-3e09-47e5-a7fc-81cd5f1726d3",
   "metadata": {},
   "outputs": [],
   "source": [
    "class pwskills:\n",
    "    \n",
    "    def __init__(self,mentor):\n",
    "        self.mentor = mentor\n",
    "        \n",
    "    def mentor_name(self):\n",
    "        print(self.mentor)\n",
    "    \n",
    "class datascience(pwskills):\n",
    "    \n",
    "    def __init__(self,mentor,mentor_mail_id):\n",
    "        self.mentor = mentor\n",
    "        self.mentor_mail_id = mentor_mail_id\n",
    "    \n",
    "    def show_info(self):\n",
    "        print(self.mentor,self.mentor_mail_id)"
   ]
  },
  {
   "cell_type": "code",
   "execution_count": 4,
   "id": "94a9f2d5-f62e-402f-959a-71649fa1070e",
   "metadata": {},
   "outputs": [],
   "source": [
    "python_basic = datascience('sudh','sudhfsds@gmail.com')"
   ]
  },
  {
   "cell_type": "code",
   "execution_count": 5,
   "id": "99a20331-fa4d-4a0b-b42f-722f98ebba18",
   "metadata": {},
   "outputs": [
    {
     "name": "stdout",
     "output_type": "stream",
     "text": [
      "sudh sudhfsds@gmail.com\n"
     ]
    }
   ],
   "source": [
    "python_basic.show_info()"
   ]
  },
  {
   "cell_type": "code",
   "execution_count": 6,
   "id": "11ffc2ac-fb04-4c6e-865d-1772b9610313",
   "metadata": {},
   "outputs": [
    {
     "name": "stdout",
     "output_type": "stream",
     "text": [
      "sudh\n"
     ]
    }
   ],
   "source": [
    "python_basic.mentor_name()"
   ]
  },
  {
   "cell_type": "code",
   "execution_count": 13,
   "id": "3fd5b711-c00f-4112-bf81-6989c45e987b",
   "metadata": {},
   "outputs": [],
   "source": [
    "class pwskills:\n",
    "    \n",
    "    def __init__(self,mentor):\n",
    "        self.mentor = mentor\n",
    "        \n",
    "    def mentor_name(self):\n",
    "        print(self.mentor)\n",
    "    \n",
    "class datascience(pwskills):\n",
    "    \n",
    "    def __init__(self,mentor,mentor_mail_id):\n",
    "        #self.mentor = mentor\n",
    "        super().__init__(mentor)\n",
    "        self.mentor_mail_id = mentor_mail_id\n",
    "    \n",
    "    def show_info(self):\n",
    "        super().mentor_name()\n",
    "        print(self.mentor,self.mentor_mail_id)"
   ]
  },
  {
   "cell_type": "code",
   "execution_count": 14,
   "id": "ca0d87ee-08cf-4997-92d1-32dc33cc1d6c",
   "metadata": {},
   "outputs": [],
   "source": [
    "python_basic = datascience('sudh','sudhfsds@gmail.com')"
   ]
  },
  {
   "cell_type": "code",
   "execution_count": 15,
   "id": "99b03334-4ce7-42d5-95d4-98993c1b7b07",
   "metadata": {},
   "outputs": [
    {
     "name": "stdout",
     "output_type": "stream",
     "text": [
      "sudh\n",
      "sudh sudhfsds@gmail.com\n"
     ]
    }
   ],
   "source": [
    "python_basic.show_info()"
   ]
  },
  {
   "cell_type": "code",
   "execution_count": 16,
   "id": "fd81d772-d7c2-4020-a1e4-2cab0191d690",
   "metadata": {},
   "outputs": [
    {
     "name": "stdout",
     "output_type": "stream",
     "text": [
      "sudh\n"
     ]
    }
   ],
   "source": [
    "python_basic.mentor_name()"
   ]
  },
  {
   "cell_type": "code",
   "execution_count": 18,
   "id": "7a424ab0-f048-4148-96f5-7cda59b95edf",
   "metadata": {},
   "outputs": [],
   "source": [
    "obj_pwskills = pwskills('amir')"
   ]
  },
  {
   "cell_type": "code",
   "execution_count": 19,
   "id": "a8451bab-3ebb-47ab-906d-74be26d32ea9",
   "metadata": {},
   "outputs": [
    {
     "name": "stdout",
     "output_type": "stream",
     "text": [
      "amir\n"
     ]
    }
   ],
   "source": [
    "obj_pwskills.mentor_name()"
   ]
  },
  {
   "cell_type": "code",
   "execution_count": 21,
   "id": "deece238-dea4-42a8-9c3d-536a5137120f",
   "metadata": {},
   "outputs": [
    {
     "data": {
      "text/plain": [
       "'amir'"
      ]
     },
     "execution_count": 21,
     "metadata": {},
     "output_type": "execute_result"
    }
   ],
   "source": [
    "obj_pwskills.mentor"
   ]
  },
  {
   "cell_type": "code",
   "execution_count": 26,
   "id": "050a5da8-32e2-45da-aae8-925766ef2c74",
   "metadata": {},
   "outputs": [],
   "source": [
    "class human():\n",
    "    \n",
    "    def __init__(self):\n",
    "        pass\n",
    "    \n",
    "    def eat(self):\n",
    "        print('print the eat method from human class')"
   ]
  },
  {
   "cell_type": "code",
   "execution_count": 30,
   "id": "804b21ae-95b4-472a-998b-d8de1cafa293",
   "metadata": {},
   "outputs": [],
   "source": [
    "class male(human):\n",
    "    \n",
    "    def __init__(self,name):\n",
    "        self.name = name\n",
    "        \n",
    "    def eat(self):\n",
    "        super().eat()\n",
    "        print(self.name)"
   ]
  },
  {
   "cell_type": "code",
   "execution_count": 31,
   "id": "f7d02a9f-4792-419c-968d-e250a9d8f2a5",
   "metadata": {},
   "outputs": [],
   "source": [
    "sudh = male('sudhanshu')"
   ]
  },
  {
   "cell_type": "code",
   "execution_count": 32,
   "id": "b3da3a46-bbf4-4481-a1f0-7fab37d9ab5a",
   "metadata": {},
   "outputs": [
    {
     "name": "stdout",
     "output_type": "stream",
     "text": [
      "print the eat method from human class\n",
      "sudhanshu\n"
     ]
    }
   ],
   "source": [
    "sudh.eat()"
   ]
  },
  {
   "cell_type": "code",
   "execution_count": 1,
   "id": "03d8e496-8b4d-403b-acf2-4c177d380634",
   "metadata": {},
   "outputs": [],
   "source": [
    "class fileopener:\n",
    "    \n",
    "    def __init__(self,filename):\n",
    "        self.filename = filename\n",
    "        \n",
    "    def open_file(self):\n",
    "        print('this will open the file',self.filename)\n",
    "        \n",
    "    def __del__(self):     #destructor\n",
    "        print('close my file')\n",
    "        "
   ]
  },
  {
   "cell_type": "code",
   "execution_count": 2,
   "id": "24e71363-fce4-45ed-ad2b-42f4f7557300",
   "metadata": {},
   "outputs": [],
   "source": [
    "f1 = fileopener('f1.txt')"
   ]
  },
  {
   "cell_type": "code",
   "execution_count": 3,
   "id": "03fe84fe-8a6b-4242-ac95-a95a217f86a1",
   "metadata": {},
   "outputs": [
    {
     "name": "stdout",
     "output_type": "stream",
     "text": [
      "this will open the file f1.txt\n"
     ]
    }
   ],
   "source": [
    "f1.open_file()"
   ]
  },
  {
   "cell_type": "code",
   "execution_count": 8,
   "id": "0d47825a-26ae-4de0-801d-0b84776fef84",
   "metadata": {},
   "outputs": [],
   "source": [
    "import time\n",
    "class timer:\n",
    "    \n",
    "    def __init__(self):\n",
    "        self.start_time = time.time()\n",
    "        \n",
    "    def task(self):\n",
    "        time_spent = time.time() - self.start_time\n",
    "        print(time_spent)\n",
    "        \n",
    "    def __del__(self): # calls automatically\n",
    "        print(\"\")\n",
    "        \n",
    "    def __str__(self):  # it will be called whenever you want to print an object\n",
    "        return 'this is my timer class'\n",
    "    "
   ]
  },
  {
   "cell_type": "code",
   "execution_count": 9,
   "id": "a74772d3-cc10-418a-805b-f0daadc0e30d",
   "metadata": {},
   "outputs": [
    {
     "name": "stdout",
     "output_type": "stream",
     "text": [
      "\n"
     ]
    }
   ],
   "source": [
    "t1 = timer()"
   ]
  },
  {
   "cell_type": "code",
   "execution_count": 10,
   "id": "59a2867d-dbba-4081-8b20-fd05af2193cd",
   "metadata": {},
   "outputs": [
    {
     "name": "stdout",
     "output_type": "stream",
     "text": [
      "0.8567986488342285\n"
     ]
    }
   ],
   "source": [
    "t1.task()"
   ]
  },
  {
   "cell_type": "code",
   "execution_count": 11,
   "id": "1614a44e-1a9d-412f-86f4-62d3714c9b20",
   "metadata": {},
   "outputs": [
    {
     "name": "stdout",
     "output_type": "stream",
     "text": [
      "this is my timer class\n"
     ]
    }
   ],
   "source": [
    "print(t1)"
   ]
  },
  {
   "cell_type": "code",
   "execution_count": 12,
   "id": "8fca4153-9869-4d86-a9e9-852e5aa422ff",
   "metadata": {},
   "outputs": [],
   "source": [
    "# decorator"
   ]
  },
  {
   "cell_type": "code",
   "execution_count": 1,
   "id": "e3c6a5e5-e67e-4770-a04d-5f3fa6f664ae",
   "metadata": {},
   "outputs": [],
   "source": [
    "def test(func):\n",
    "    def inner_test():\n",
    "        print('this is the start of my inner test')\n",
    "        func()\n",
    "        print('this is the end of my inner test')\n",
    "    \n",
    "    return inner_test\n",
    "\n",
    "@test               # test(test1)\n",
    "def test1():\n",
    "    print('this is my test1')"
   ]
  },
  {
   "cell_type": "code",
   "execution_count": 2,
   "id": "e853db12-3a47-44d9-8333-28ff167eb3e5",
   "metadata": {},
   "outputs": [
    {
     "name": "stdout",
     "output_type": "stream",
     "text": [
      "this is the start of my inner test\n",
      "this is my test1\n",
      "this is the end of my inner test\n"
     ]
    }
   ],
   "source": [
    "test1()"
   ]
  },
  {
   "cell_type": "code",
   "execution_count": 6,
   "id": "1b5326f1-1f9e-40da-a913-8dac7eaaa998",
   "metadata": {},
   "outputs": [],
   "source": [
    "import time\n",
    "def print_list(l):\n",
    "    start_time = time.time()\n",
    "    for i in l:\n",
    "        print(i)\n",
    "    end_time = time.time()\n",
    "    total_time = end_time - start_time\n",
    "    print(total_time)"
   ]
  },
  {
   "cell_type": "code",
   "execution_count": 7,
   "id": "801adf28-082d-4a0f-8fa7-e696955c2b82",
   "metadata": {},
   "outputs": [],
   "source": [
    "def print_key(d):\n",
    "    start_time = time.time()\n",
    "    print(d.keys())\n",
    "    end_time = time.time()\n",
    "    total_time = end_time - start_time\n",
    "    print(total_time)"
   ]
  },
  {
   "cell_type": "code",
   "execution_count": 21,
   "id": "13df2a23-b5e3-487c-84e5-91f09d636e0c",
   "metadata": {},
   "outputs": [],
   "source": [
    "def find_time(func):\n",
    "    def cal_time(*args):\n",
    "        start_time = time.time()\n",
    "        func(*args)\n",
    "        end_time = time.time()\n",
    "        total_time = end_time - start_time\n",
    "        print(total_time)\n",
    "        \n",
    "    return cal_time\n",
    "            \n",
    "\n",
    "        "
   ]
  },
  {
   "cell_type": "code",
   "execution_count": 22,
   "id": "dc30267d-50c6-407c-964b-836d31a74446",
   "metadata": {},
   "outputs": [],
   "source": [
    "@find_time\n",
    "def print_key(d):\n",
    "    print(d.keys())"
   ]
  },
  {
   "cell_type": "code",
   "execution_count": 23,
   "id": "97c97e2d-53fd-4123-9c15-caddd3ff1170",
   "metadata": {},
   "outputs": [
    {
     "name": "stdout",
     "output_type": "stream",
     "text": [
      "dict_keys(['key', 'name'])\n",
      "8.7738037109375e-05\n"
     ]
    }
   ],
   "source": [
    "print_key({'key':'value','name':'sudh'})"
   ]
  },
  {
   "cell_type": "code",
   "execution_count": 24,
   "id": "3ac6b5dd-d916-4c2d-93c6-966a33b923a4",
   "metadata": {},
   "outputs": [],
   "source": [
    "@find_time\n",
    "def print_list(l):\n",
    "    for i in l:\n",
    "        print(i)"
   ]
  },
  {
   "cell_type": "code",
   "execution_count": 26,
   "id": "72879ad4-21bc-4229-b23c-5a89831db6c8",
   "metadata": {},
   "outputs": [
    {
     "name": "stdout",
     "output_type": "stream",
     "text": [
      "2\n",
      "5\n",
      "2\n",
      "8\n",
      "5\n",
      "6\n",
      "8\n",
      "5\n",
      "8\n",
      "5\n",
      "9.775161743164062e-05\n"
     ]
    }
   ],
   "source": [
    "print_list([2,5,2,8,5,6,8,5,8,5])"
   ]
  },
  {
   "cell_type": "code",
   "execution_count": 27,
   "id": "41c80ce8-1f7d-43b0-9171-8a9f516418aa",
   "metadata": {},
   "outputs": [],
   "source": [
    "import logging\n",
    "def log_fun(func):\n",
    "    def log_inner(*args):\n",
    "        logging.basicConfig(filename = 'test.log',level=logging.INFO)\n",
    "        logging.info('this is a stsrt of my function')\n",
    "        func(*args)\n",
    "        logging.info('this is the end of my function')\n",
    "    return log_inner"
   ]
  },
  {
   "cell_type": "code",
   "execution_count": 30,
   "id": "5c6cb513-1692-4e72-98d2-2fe59abfa851",
   "metadata": {},
   "outputs": [],
   "source": [
    "@find_time #decorator chaining\n",
    "@log_fun\n",
    "def print_list(l):\n",
    "    for i in l:\n",
    "        print(i)"
   ]
  },
  {
   "cell_type": "code",
   "execution_count": 31,
   "id": "fc15e00f-ed48-4a0a-923a-72a79df1c53f",
   "metadata": {},
   "outputs": [
    {
     "name": "stdout",
     "output_type": "stream",
     "text": [
      "2\n",
      "5\n",
      "2\n",
      "8\n",
      "5\n",
      "6\n",
      "8\n",
      "5\n",
      "8\n",
      "5\n",
      "0.0006623268127441406\n"
     ]
    }
   ],
   "source": [
    "print_list([2,5,2,8,5,6,8,5,8,5])"
   ]
  },
  {
   "cell_type": "code",
   "execution_count": 10,
   "id": "130f5ba4-0e9a-4d38-bb96-a79b405866a6",
   "metadata": {},
   "outputs": [],
   "source": [
    "class sudh:\n",
    "    def __init__(self,subject):\n",
    "        self.__subject = subject  # _ -->protected variable, __ --> private variable\n",
    "                                # no underscore --> public variable"
   ]
  },
  {
   "cell_type": "code",
   "execution_count": 11,
   "id": "989a3d5e-7f79-4659-b549-885ae2f496ec",
   "metadata": {},
   "outputs": [],
   "source": [
    "s1 = sudh(\"data science\")"
   ]
  },
  {
   "cell_type": "code",
   "execution_count": 12,
   "id": "aefb320d-a69a-4581-a13f-05fb16e65405",
   "metadata": {},
   "outputs": [],
   "source": [
    "s1._sudh__subject = 'Big data'"
   ]
  },
  {
   "cell_type": "code",
   "execution_count": 13,
   "id": "3d14e4e4-b0f9-4d35-b300-95b481e48ab7",
   "metadata": {},
   "outputs": [
    {
     "data": {
      "text/plain": [
       "'Big data'"
      ]
     },
     "execution_count": 13,
     "metadata": {},
     "output_type": "execute_result"
    }
   ],
   "source": [
    "s1._sudh__subject"
   ]
  },
  {
   "cell_type": "code",
   "execution_count": 6,
   "id": "714eee00-972f-433a-839b-68c209ad6be3",
   "metadata": {},
   "outputs": [],
   "source": [
    "class sudh:\n",
    "    def __init__(self,subject):\n",
    "        self.__subject = subject\n",
    "        \n",
    "    @property\n",
    "    def subject(self):\n",
    "        return self.__subject\n",
    "    \n",
    "    @subject.setter\n",
    "    def subject(self,subject):\n",
    "        self.__subject = subject\n",
    "        \n",
    "    @subject.getter\n",
    "    def subject(self):\n",
    "        return self.__subject"
   ]
  },
  {
   "cell_type": "code",
   "execution_count": 7,
   "id": "04d78ef7-b2b3-48bb-b8ee-49f08df15bbc",
   "metadata": {},
   "outputs": [],
   "source": [
    "s2 = sudh('data analytics')"
   ]
  },
  {
   "cell_type": "code",
   "execution_count": 8,
   "id": "0cfb99ee-11d0-4371-8d1e-41af102027eb",
   "metadata": {},
   "outputs": [
    {
     "data": {
      "text/plain": [
       "'data analytics'"
      ]
     },
     "execution_count": 8,
     "metadata": {},
     "output_type": "execute_result"
    }
   ],
   "source": [
    "s2.subject"
   ]
  },
  {
   "cell_type": "code",
   "execution_count": 10,
   "id": "78131586-37f7-4887-99c8-0fdb9a0b98f8",
   "metadata": {},
   "outputs": [],
   "source": [
    "class sudh:\n",
    "    def __init__(self,subject):\n",
    "        self.__subject = subject\n",
    "        \n",
    "    @property\n",
    "    def subject1(self):\n",
    "        return self.__subject\n",
    "    \n",
    "    @subject1.setter\n",
    "    def subject1(self,subject):\n",
    "        self.__subject = subject\n",
    "        \n",
    "    @subject1.getter\n",
    "    def subject1(self):\n",
    "        return self.__subject"
   ]
  },
  {
   "cell_type": "code",
   "execution_count": 11,
   "id": "a5023d07-7b1f-41b2-b102-59e3582072bb",
   "metadata": {},
   "outputs": [],
   "source": [
    "s2.subject1 = 'blockchain'"
   ]
  },
  {
   "cell_type": "code",
   "execution_count": 12,
   "id": "07c45702-0447-407c-a811-4e891eba4971",
   "metadata": {},
   "outputs": [
    {
     "data": {
      "text/plain": [
       "'blockchain'"
      ]
     },
     "execution_count": 12,
     "metadata": {},
     "output_type": "execute_result"
    }
   ],
   "source": [
    "s2.subject1"
   ]
  },
  {
   "cell_type": "code",
   "execution_count": 3,
   "id": "142f2057-b980-4e53-9316-9aa8e1aed310",
   "metadata": {},
   "outputs": [],
   "source": [
    "#Polymorphism,  poly --> many, Morphism -->different states or types"
   ]
  },
  {
   "cell_type": "code",
   "execution_count": 4,
   "id": "3b69f008-3a88-4721-92f7-abea66b072a7",
   "metadata": {},
   "outputs": [],
   "source": [
    "def test(a,b):\n",
    "    return a+b"
   ]
  },
  {
   "cell_type": "code",
   "execution_count": 5,
   "id": "299d28f7-4738-4f9e-a7e1-47411534258d",
   "metadata": {},
   "outputs": [
    {
     "data": {
      "text/plain": [
       "7"
      ]
     },
     "execution_count": 5,
     "metadata": {},
     "output_type": "execute_result"
    }
   ],
   "source": [
    "test(3,4)"
   ]
  },
  {
   "cell_type": "code",
   "execution_count": 6,
   "id": "09196a1e-e77d-4786-b7f6-633da7148850",
   "metadata": {},
   "outputs": [
    {
     "data": {
      "text/plain": [
       "'sudhkumar'"
      ]
     },
     "execution_count": 6,
     "metadata": {},
     "output_type": "execute_result"
    }
   ],
   "source": [
    "test('sudh','kumar')"
   ]
  },
  {
   "cell_type": "code",
   "execution_count": 9,
   "id": "c33ed0a1-dae7-43e5-8325-f33950e0d71b",
   "metadata": {},
   "outputs": [
    {
     "name": "stdout",
     "output_type": "stream",
     "text": [
      "this will give me a details about data science students\n",
      "this will give me a details about bigdata students\n"
     ]
    }
   ],
   "source": [
    "class pwskills:\n",
    "    def student(self):\n",
    "        pass\n",
    "    \n",
    "class datascience(pwskills):\n",
    "    def student(self):\n",
    "        print('this will give me a details about data science students')\n",
    "\n",
    "class bigdata(pwskills):\n",
    "    def student(self):\n",
    "        print('this will give me a details about bigdata students')\n",
    "\n",
    "yash = datascience()\n",
    "farhana = bigdata()\n",
    "yash.student()\n",
    "farhana.student()"
   ]
  },
  {
   "cell_type": "code",
   "execution_count": 10,
   "id": "964a5f70-c7f2-4bb8-b280-055549214885",
   "metadata": {},
   "outputs": [],
   "source": [
    "pw = pwskills()\n",
    "pw.student()"
   ]
  },
  {
   "cell_type": "code",
   "execution_count": 14,
   "id": "5a87a1f2-7d11-4284-ac9d-0cc91df54295",
   "metadata": {},
   "outputs": [
    {
     "name": "stdout",
     "output_type": "stream",
     "text": [
      "3 22\n"
     ]
    }
   ],
   "source": [
    "class bigdata:\n",
    "    def __init__(self,number_of_class,number_of_student):\n",
    "        self.number_of_class = number_of_class\n",
    "        self.number_of_student = number_of_student\n",
    "    \n",
    "    def __add__(self,other):\n",
    "        return bigdata(self.number_of_class + other.number_of_class, self.number_of_student + other.number_of_student)\n",
    "\n",
    "c1 = bigdata(1,10)\n",
    "c2 = bigdata(2,12)\n",
    "# bigdata(3,22)\n",
    "c2 = bigdata(2,12)\n",
    "result = c1+c2\n",
    "print(result.number_of_class, result.number_of_student)"
   ]
  },
  {
   "cell_type": "code",
   "execution_count": 15,
   "id": "ab2b6708-8ffa-4e48-ad9d-26810fab62dd",
   "metadata": {},
   "outputs": [
    {
     "name": "stdout",
     "output_type": "stream",
     "text": [
      "<__main__.bigdata object at 0x7f902427baf0>\n"
     ]
    }
   ],
   "source": [
    "print(c1)"
   ]
  },
  {
   "cell_type": "code",
   "execution_count": 16,
   "id": "3bd6a3b9-d498-4321-b1b3-8e82e81aa28a",
   "metadata": {},
   "outputs": [
    {
     "name": "stdout",
     "output_type": "stream",
     "text": [
      "<__main__.bigdata object at 0x7f902427a230>\n"
     ]
    }
   ],
   "source": [
    "print(c2)"
   ]
  },
  {
   "cell_type": "code",
   "execution_count": 18,
   "id": "a336145b-cbb3-4a86-8b96-dc865c36fe13",
   "metadata": {},
   "outputs": [
    {
     "name": "stdout",
     "output_type": "stream",
     "text": [
      "<__main__.bigdata object at 0x7f9024123d90>\n"
     ]
    }
   ],
   "source": [
    "print(result)"
   ]
  },
  {
   "cell_type": "code",
   "execution_count": 13,
   "id": "5b43d461-22b7-4c4b-b1e4-c20abc87002d",
   "metadata": {},
   "outputs": [],
   "source": [
    "class datascience:\n",
    "    def student(self):\n",
    "        print(\"this will give me a details about data science student\")\n",
    "        "
   ]
  },
  {
   "cell_type": "code",
   "execution_count": 14,
   "id": "9ac0d94e-0054-447d-8411-cfa7f8654db3",
   "metadata": {},
   "outputs": [
    {
     "ename": "TypeError",
     "evalue": "unsupported operand type(s) for +: 'datascience' and 'datascience'",
     "output_type": "error",
     "traceback": [
      "\u001b[0;31m---------------------------------------------------------------------------\u001b[0m",
      "\u001b[0;31mTypeError\u001b[0m                                 Traceback (most recent call last)",
      "Cell \u001b[0;32mIn[14], line 4\u001b[0m\n\u001b[1;32m      2\u001b[0m o2 \u001b[38;5;241m=\u001b[39m datascience()\n\u001b[1;32m      3\u001b[0m o3 \u001b[38;5;241m=\u001b[39m datascience()\n\u001b[0;32m----> 4\u001b[0m r \u001b[38;5;241m=\u001b[39m \u001b[43mo1\u001b[49m\u001b[38;5;241;43m+\u001b[39;49m\u001b[43mo2\u001b[49m\u001b[38;5;241m+\u001b[39mo3\n",
      "\u001b[0;31mTypeError\u001b[0m: unsupported operand type(s) for +: 'datascience' and 'datascience'"
     ]
    }
   ],
   "source": [
    "o1 = datascience()\n",
    "o2 = datascience()\n",
    "o3 = datascience()\n",
    "r = o1+o2+o3"
   ]
  },
  {
   "cell_type": "code",
   "execution_count": 15,
   "id": "84136a9b-8860-4fc4-bb88-89c87f4ce078",
   "metadata": {},
   "outputs": [],
   "source": [
    "class datascience():\n",
    "    def student(self):\n",
    "        print('this will give me a details about data science students')\n",
    "\n",
    "class bigdata():\n",
    "    def student(self):\n",
    "        print('this will give me a details about bigdata students')\n",
    "\n",
    "def output_class(class_obj):\n",
    "    return class_obj.student()\n",
    "#this phenomena is called duck tupying (polymorphism based on duck tupying)"
   ]
  },
  {
   "cell_type": "code",
   "execution_count": 16,
   "id": "5c3ca9cb-0ef1-48e6-884b-03da09da4a8c",
   "metadata": {},
   "outputs": [],
   "source": [
    "sesha = datascience()\n",
    "sashi = bigdata()"
   ]
  },
  {
   "cell_type": "code",
   "execution_count": 17,
   "id": "d4976f77-5b6a-444b-85a7-c0bab85edc61",
   "metadata": {},
   "outputs": [
    {
     "name": "stdout",
     "output_type": "stream",
     "text": [
      "this will give me a details about data science students\n"
     ]
    }
   ],
   "source": [
    "output_class(sesha)"
   ]
  },
  {
   "cell_type": "code",
   "execution_count": 18,
   "id": "a822d6f5-6f52-46b9-aa57-c0726c291386",
   "metadata": {},
   "outputs": [
    {
     "name": "stdout",
     "output_type": "stream",
     "text": [
      "this will give me a details about bigdata students\n"
     ]
    }
   ],
   "source": [
    "output_class(sashi)"
   ]
  },
  {
   "cell_type": "code",
   "execution_count": 19,
   "id": "c75bd867-d331-40f4-ae6e-6642000873e8",
   "metadata": {},
   "outputs": [],
   "source": [
    "#this phenomena is called duck tupying "
   ]
  },
  {
   "cell_type": "code",
   "execution_count": 20,
   "id": "7bba6670-b4ae-4211-a3e7-9b52dafe616a",
   "metadata": {},
   "outputs": [],
   "source": [
    "class pwskills:\n",
    "    def student(self):\n",
    "        return 'this is a pwskills student'\n",
    "    \n",
    "class datascience(pwskills):\n",
    "    def student(self):\n",
    "        print('this will give me a details about data science students')\n",
    "# polymorphism using method overriding"
   ]
  },
  {
   "cell_type": "code",
   "execution_count": 21,
   "id": "ae9ded64-19e8-47b3-aff6-d5f62fd8c588",
   "metadata": {},
   "outputs": [
    {
     "name": "stdout",
     "output_type": "stream",
     "text": [
      "this will give me a details about data science students\n"
     ]
    }
   ],
   "source": [
    "ujwal = datascience()\n",
    "ujwal.student()"
   ]
  },
  {
   "cell_type": "code",
   "execution_count": 22,
   "id": "dcd8436b-195d-4a4c-a866-10229096f177",
   "metadata": {},
   "outputs": [
    {
     "data": {
      "text/plain": [
       "4"
      ]
     },
     "execution_count": 22,
     "metadata": {},
     "output_type": "execute_result"
    }
   ],
   "source": [
    "len('sudh')"
   ]
  },
  {
   "cell_type": "code",
   "execution_count": 23,
   "id": "85ddc538-e3f9-4a75-abf3-caca44f68de2",
   "metadata": {},
   "outputs": [
    {
     "data": {
      "text/plain": [
       "7"
      ]
     },
     "execution_count": 23,
     "metadata": {},
     "output_type": "execute_result"
    }
   ],
   "source": [
    "len([5,2,8,4,2,6,5])"
   ]
  },
  {
   "cell_type": "code",
   "execution_count": 25,
   "id": "b41ab618-dc17-4959-b060-eddf25e13a86",
   "metadata": {},
   "outputs": [],
   "source": [
    "# Encapsulation--> hiding a detail"
   ]
  },
  {
   "cell_type": "code",
   "execution_count": 72,
   "id": "ed3ce965-8ccc-4c04-af60-26fcf71d096b",
   "metadata": {},
   "outputs": [],
   "source": [
    "class test :\n",
    "    \n",
    "    def __init__(self):\n",
    "        self.__x = 'sudh'  # private variable\n",
    "     \n",
    "    def __test_meth(self): # private method\n",
    "        return 'this is just a test method'\n",
    "    \n",
    "    def access_var(self):\n",
    "        return self.__x\n",
    "    \n",
    "    def update_var(self,data):\n",
    "        self.__x = data"
   ]
  },
  {
   "cell_type": "code",
   "execution_count": 73,
   "id": "27d2c512-abc7-437c-b01c-997f899cda0b",
   "metadata": {},
   "outputs": [],
   "source": [
    "t1 = test()"
   ]
  },
  {
   "cell_type": "code",
   "execution_count": null,
   "id": "8de7c1cd-08f8-4fba-a2bd-9bcdc7d98215",
   "metadata": {},
   "outputs": [],
   "source": []
  },
  {
   "cell_type": "code",
   "execution_count": 74,
   "id": "79040ae7-6b11-4544-8658-2ede87d2d41f",
   "metadata": {},
   "outputs": [
    {
     "data": {
      "text/plain": [
       "'sudh'"
      ]
     },
     "execution_count": 74,
     "metadata": {},
     "output_type": "execute_result"
    }
   ],
   "source": [
    "t1._test__x"
   ]
  },
  {
   "cell_type": "code",
   "execution_count": 75,
   "id": "3dfb7547-671d-4259-83f5-f3061cdbfaf7",
   "metadata": {},
   "outputs": [],
   "source": [
    "a=10"
   ]
  },
  {
   "cell_type": "code",
   "execution_count": 76,
   "id": "a2630cd7-a83d-4bb8-8e48-adb50ed32b7c",
   "metadata": {},
   "outputs": [
    {
     "data": {
      "text/plain": [
       "10"
      ]
     },
     "execution_count": 76,
     "metadata": {},
     "output_type": "execute_result"
    }
   ],
   "source": [
    "a"
   ]
  },
  {
   "cell_type": "code",
   "execution_count": 77,
   "id": "357ff3b7-e2f4-4de6-bc30-6cf1954e4ab3",
   "metadata": {},
   "outputs": [
    {
     "data": {
      "text/plain": [
       "'this is just a test method'"
      ]
     },
     "execution_count": 77,
     "metadata": {},
     "output_type": "execute_result"
    }
   ],
   "source": [
    "t1._test__test_meth()"
   ]
  },
  {
   "cell_type": "code",
   "execution_count": 78,
   "id": "d58816df-ba7b-4960-a589-5c3bd6b5be62",
   "metadata": {},
   "outputs": [
    {
     "data": {
      "text/plain": [
       "'sudh'"
      ]
     },
     "execution_count": 78,
     "metadata": {},
     "output_type": "execute_result"
    }
   ],
   "source": [
    "t1.access_var()"
   ]
  },
  {
   "cell_type": "code",
   "execution_count": 67,
   "id": "c79c2c01-bd4e-4dac-b2ba-6ea20f6d8301",
   "metadata": {},
   "outputs": [],
   "source": []
  },
  {
   "cell_type": "code",
   "execution_count": 79,
   "id": "cc60c018-9dff-4703-8c78-74512b49fa53",
   "metadata": {},
   "outputs": [],
   "source": [
    "t1.update_var(5648)"
   ]
  },
  {
   "cell_type": "code",
   "execution_count": 80,
   "id": "3a386424-ca48-4699-8dd7-49a81032438d",
   "metadata": {},
   "outputs": [
    {
     "data": {
      "text/plain": [
       "5648"
      ]
     },
     "execution_count": 80,
     "metadata": {},
     "output_type": "execute_result"
    }
   ],
   "source": [
    "t1.access_var()"
   ]
  },
  {
   "cell_type": "code",
   "execution_count": 81,
   "id": "9ec96e19-e945-4304-a744-9e80d6f07b92",
   "metadata": {},
   "outputs": [
    {
     "data": {
      "text/plain": [
       "35405"
      ]
     },
     "execution_count": 81,
     "metadata": {},
     "output_type": "execute_result"
    }
   ],
   "source": [
    "class bank:\n",
    "    def __init__(self,account_no,balance):\n",
    "        self._account_no = account_no\n",
    "        self.__balance = balance\n",
    "        \n",
    "    def check_balance(self,password):\n",
    "        if password == 'mysecurepass':\n",
    "            return self.__balance\n",
    "        else:\n",
    "            return 'incorrect password'\n",
    "    \n",
    "    \n",
    "sudh = bank(2384000400078945,35405)\n",
    "sudh.check_balance('mysecurepass')"
   ]
  },
  {
   "cell_type": "code",
   "execution_count": 90,
   "id": "7aab1143-9cb1-4dee-ac0f-556f33fa7b30",
   "metadata": {},
   "outputs": [],
   "source": [
    "class queue:\n",
    "    def __init__(self):\n",
    "        self._queue = []\n",
    "        \n",
    "    def enqueue(self,data):\n",
    "        self._queue.append(data)\n",
    "        \n",
    "    def dequeue(self):\n",
    "        if self._queue:\n",
    "            return self._queue.pop(0)\n",
    "        else:\n",
    "            print('its empty')\n",
    "            \n",
    "    def showdata(self):\n",
    "        return self._queue"
   ]
  },
  {
   "cell_type": "code",
   "execution_count": 91,
   "id": "65281c60-234a-46df-8b1f-7b333e5287b3",
   "metadata": {},
   "outputs": [],
   "source": [
    "q = queue()"
   ]
  },
  {
   "cell_type": "code",
   "execution_count": 92,
   "id": "06ead538-bb90-4041-b48a-8febc9d2b618",
   "metadata": {},
   "outputs": [
    {
     "name": "stdout",
     "output_type": "stream",
     "text": [
      "its empty\n"
     ]
    }
   ],
   "source": [
    "q.dequeue()"
   ]
  },
  {
   "cell_type": "code",
   "execution_count": 93,
   "id": "6c7d30c6-295c-4ab6-92ae-2c6319a1fc55",
   "metadata": {},
   "outputs": [],
   "source": [
    "q.enqueue(40)"
   ]
  },
  {
   "cell_type": "code",
   "execution_count": 94,
   "id": "db3651d3-b6f9-4ea4-be1c-83c046e338d3",
   "metadata": {},
   "outputs": [
    {
     "data": {
      "text/plain": [
       "[40]"
      ]
     },
     "execution_count": 94,
     "metadata": {},
     "output_type": "execute_result"
    }
   ],
   "source": [
    "q.showdata()"
   ]
  },
  {
   "cell_type": "code",
   "execution_count": 96,
   "id": "b3054616-c213-44f4-b64d-4d971cb32343",
   "metadata": {},
   "outputs": [
    {
     "data": {
      "text/plain": [
       "[40]"
      ]
     },
     "execution_count": 96,
     "metadata": {},
     "output_type": "execute_result"
    }
   ],
   "source": [
    "q._queue # we are not aware of this variable because it is protected variable"
   ]
  },
  {
   "cell_type": "code",
   "execution_count": 97,
   "id": "d9976be4-3bb9-45a9-b773-4d5374745314",
   "metadata": {},
   "outputs": [],
   "source": [
    "# abstraction --> creation of outline or skeleton "
   ]
  },
  {
   "cell_type": "code",
   "execution_count": 98,
   "id": "1a6de7e7-b65a-4caf-a973-ae0580b89d93",
   "metadata": {},
   "outputs": [],
   "source": [
    "class pwskills:\n",
    "    def student_details(self):\n",
    "        return 'this will give you a student details'"
   ]
  },
  {
   "cell_type": "code",
   "execution_count": 105,
   "id": "2c5c1093-b8aa-4ba8-af3d-724b38bd4693",
   "metadata": {},
   "outputs": [],
   "source": [
    "from abc import ABC , abstractmethod\n",
    "class pwskills(ABC):\n",
    "    \n",
    "    @abstractmethod\n",
    "    def databaseconnect(self):\n",
    "        pass\n",
    "    \n",
    "    @abstractmethod\n",
    "    def checkuserenrollment(self,user_mailid):\n",
    "        pass\n",
    "    \n",
    "    @abstractmethod\n",
    "    def check_completed_lecture(self,user_id, class_id):\n",
    "        pass\n",
    "    \n",
    "    @abstractmethod\n",
    "    def check_lab_usage(self,user_id):\n",
    "        pass\n",
    "    \n",
    "    @abstractmethod\n",
    "    def check_internship(self,user_id):\n",
    "        pass"
   ]
  },
  {
   "cell_type": "code",
   "execution_count": 108,
   "id": "e352a7c2-d3ad-4f28-9be5-991891526fcb",
   "metadata": {},
   "outputs": [],
   "source": [
    "class databaseconnect(pwskills):\n",
    "    def databaseconnect(self):\n",
    "        print('this is an implementation of database connect')\n",
    "        \n",
    "    def checkuserenrollment(self,user_mailid):\n",
    "        return 'test'\n",
    "    \n",
    "    def check_completed_lecture(self,user_id, class_id):\n",
    "        return 'test'\n",
    "\n",
    "    def check_lab_usage(self,user_id):\n",
    "        return 'test'\n",
    "    \n",
    "    def check_internship(self,user_id):\n",
    "        return 'test'"
   ]
  },
  {
   "cell_type": "code",
   "execution_count": 109,
   "id": "0579a33b-9bd0-4196-8b19-7d661ef28b2b",
   "metadata": {},
   "outputs": [],
   "source": [
    "db1 = databaseconnect()"
   ]
  },
  {
   "cell_type": "code",
   "execution_count": 111,
   "id": "e58d47fd-1f2e-415c-8878-260a7345ab9a",
   "metadata": {},
   "outputs": [
    {
     "name": "stdout",
     "output_type": "stream",
     "text": [
      "this is an implementation of database connect\n"
     ]
    }
   ],
   "source": [
    "db1.databaseconnect()"
   ]
  },
  {
   "cell_type": "code",
   "execution_count": 112,
   "id": "654ea838-3417-4305-aa53-83e9eeaefb36",
   "metadata": {},
   "outputs": [],
   "source": [
    "class calculation:\n",
    "    def add(x,y):\n",
    "        return x+y\n",
    "    \n",
    "    def sub(x,y):\n",
    "        return x-y\n",
    "    \n",
    "    def div(self,x,y):\n",
    "        return x/y"
   ]
  },
  {
   "cell_type": "code",
   "execution_count": 113,
   "id": "74a02315-b405-424a-8360-24b22f8a01c1",
   "metadata": {},
   "outputs": [
    {
     "ename": "TypeError",
     "evalue": "calculation.add() takes 2 positional arguments but 3 were given",
     "output_type": "error",
     "traceback": [
      "\u001b[0;31m---------------------------------------------------------------------------\u001b[0m",
      "\u001b[0;31mTypeError\u001b[0m                                 Traceback (most recent call last)",
      "Cell \u001b[0;32mIn[113], line 2\u001b[0m\n\u001b[1;32m      1\u001b[0m a \u001b[38;5;241m=\u001b[39m calculation()\n\u001b[0;32m----> 2\u001b[0m \u001b[43ma\u001b[49m\u001b[38;5;241;43m.\u001b[39;49m\u001b[43madd\u001b[49m\u001b[43m(\u001b[49m\u001b[38;5;241;43m3\u001b[39;49m\u001b[43m,\u001b[49m\u001b[38;5;241;43m5\u001b[39;49m\u001b[43m)\u001b[49m\n",
      "\u001b[0;31mTypeError\u001b[0m: calculation.add() takes 2 positional arguments but 3 were given"
     ]
    }
   ],
   "source": [
    "a = calculation()\n",
    "a.add(3,5)"
   ]
  },
  {
   "cell_type": "code",
   "execution_count": 114,
   "id": "09e20742-41f3-491f-97dc-eb830a1806f6",
   "metadata": {},
   "outputs": [
    {
     "data": {
      "text/plain": [
       "2.5"
      ]
     },
     "execution_count": 114,
     "metadata": {},
     "output_type": "execute_result"
    }
   ],
   "source": [
    "a.div(5,2)"
   ]
  },
  {
   "cell_type": "code",
   "execution_count": 116,
   "id": "5c473329-33fb-4cf0-95e0-6b8e2a6db855",
   "metadata": {},
   "outputs": [
    {
     "data": {
      "text/plain": [
       "0.8333333333333334"
      ]
     },
     "execution_count": 116,
     "metadata": {},
     "output_type": "execute_result"
    }
   ],
   "source": [
    "b=calculation()\n",
    "b.div(5,6)"
   ]
  },
  {
   "cell_type": "code",
   "execution_count": 117,
   "id": "63563369-ff1f-4951-bee3-3a767c751783",
   "metadata": {},
   "outputs": [
    {
     "data": {
      "text/plain": [
       "8"
      ]
     },
     "execution_count": 117,
     "metadata": {},
     "output_type": "execute_result"
    }
   ],
   "source": [
    "calculation.add(3,5)"
   ]
  },
  {
   "cell_type": "code",
   "execution_count": 120,
   "id": "c4efb56b-d420-4616-bdec-7cfdb838e918",
   "metadata": {},
   "outputs": [
    {
     "ename": "TypeError",
     "evalue": "calculation.div() missing 1 required positional argument: 'y'",
     "output_type": "error",
     "traceback": [
      "\u001b[0;31m---------------------------------------------------------------------------\u001b[0m",
      "\u001b[0;31mTypeError\u001b[0m                                 Traceback (most recent call last)",
      "Cell \u001b[0;32mIn[120], line 1\u001b[0m\n\u001b[0;32m----> 1\u001b[0m \u001b[43mcalculation\u001b[49m\u001b[38;5;241;43m.\u001b[39;49m\u001b[43mdiv\u001b[49m\u001b[43m(\u001b[49m\u001b[38;5;241;43m5\u001b[39;49m\u001b[43m,\u001b[49m\u001b[38;5;241;43m2\u001b[39;49m\u001b[43m)\u001b[49m\n",
      "\u001b[0;31mTypeError\u001b[0m: calculation.div() missing 1 required positional argument: 'y'"
     ]
    }
   ],
   "source": [
    "calculation.div(5,2)"
   ]
  },
  {
   "cell_type": "code",
   "execution_count": 121,
   "id": "dfe5fea8-1d07-48a1-bef0-8599103db4e5",
   "metadata": {},
   "outputs": [
    {
     "data": {
      "text/plain": [
       "2.5"
      ]
     },
     "execution_count": 121,
     "metadata": {},
     "output_type": "execute_result"
    }
   ],
   "source": [
    "calculation.div(5,5,2)"
   ]
  },
  {
   "cell_type": "code",
   "execution_count": 122,
   "id": "35127c25-772a-4ed2-ab56-f293f88be59d",
   "metadata": {},
   "outputs": [],
   "source": [
    "class calculation:\n",
    "    \n",
    "    @staticmethod\n",
    "    def add(x,y):\n",
    "        return x+y\n",
    "    \n",
    "    @staticmethod\n",
    "    def sub(x,y):\n",
    "        return x-y\n",
    "    \n",
    "    def div(self,x,y):\n",
    "        return x/y"
   ]
  },
  {
   "cell_type": "code",
   "execution_count": 123,
   "id": "04c0afbc-4587-42d5-9376-f1ff64eec70d",
   "metadata": {},
   "outputs": [
    {
     "data": {
      "text/plain": [
       "8"
      ]
     },
     "execution_count": 123,
     "metadata": {},
     "output_type": "execute_result"
    }
   ],
   "source": [
    "a1 = calculation()\n",
    "a1.add(3,5)"
   ]
  },
  {
   "cell_type": "code",
   "execution_count": 124,
   "id": "f0d2ae58-6d80-4827-be75-2d22b138f041",
   "metadata": {},
   "outputs": [],
   "source": [
    "class cal(calculation):\n",
    "    pass\n"
   ]
  },
  {
   "cell_type": "code",
   "execution_count": 125,
   "id": "87e594b8-f9fa-434e-91de-48f5dabe9fae",
   "metadata": {},
   "outputs": [],
   "source": [
    "c1  = cal()"
   ]
  },
  {
   "cell_type": "code",
   "execution_count": 126,
   "id": "c9f372a6-980c-42e0-b96f-420ce20675f6",
   "metadata": {},
   "outputs": [
    {
     "data": {
      "text/plain": [
       "8"
      ]
     },
     "execution_count": 126,
     "metadata": {},
     "output_type": "execute_result"
    }
   ],
   "source": [
    "c1.add(3,5)"
   ]
  },
  {
   "cell_type": "code",
   "execution_count": 127,
   "id": "e0b7faea-6885-44b4-b173-9eacfffdb47a",
   "metadata": {},
   "outputs": [
    {
     "data": {
      "text/plain": [
       "8"
      ]
     },
     "execution_count": 127,
     "metadata": {},
     "output_type": "execute_result"
    }
   ],
   "source": [
    "cal.add(3,5)"
   ]
  },
  {
   "cell_type": "code",
   "execution_count": 128,
   "id": "b837bf0f-ebbf-485a-83cc-e34996dc57f4",
   "metadata": {},
   "outputs": [],
   "source": [
    "class cal(calculation):\n",
    "    def add(x,y): # self is required\n",
    "        return x+y\n",
    "    "
   ]
  },
  {
   "cell_type": "code",
   "execution_count": 129,
   "id": "8ff0ed0d-28d8-489a-ab11-3d55103463f7",
   "metadata": {},
   "outputs": [
    {
     "ename": "TypeError",
     "evalue": "cal.add() takes 2 positional arguments but 3 were given",
     "output_type": "error",
     "traceback": [
      "\u001b[0;31m---------------------------------------------------------------------------\u001b[0m",
      "\u001b[0;31mTypeError\u001b[0m                                 Traceback (most recent call last)",
      "Cell \u001b[0;32mIn[129], line 2\u001b[0m\n\u001b[1;32m      1\u001b[0m c2 \u001b[38;5;241m=\u001b[39m cal()\n\u001b[0;32m----> 2\u001b[0m \u001b[43mc2\u001b[49m\u001b[38;5;241;43m.\u001b[39;49m\u001b[43madd\u001b[49m\u001b[43m(\u001b[49m\u001b[38;5;241;43m4\u001b[39;49m\u001b[43m,\u001b[49m\u001b[38;5;241;43m5\u001b[39;49m\u001b[43m)\u001b[49m\n",
      "\u001b[0;31mTypeError\u001b[0m: cal.add() takes 2 positional arguments but 3 were given"
     ]
    }
   ],
   "source": [
    "c2 = cal()\n",
    "c2.add(4,5)"
   ]
  },
  {
   "cell_type": "code",
   "execution_count": 1,
   "id": "7bf560a4-9559-4c68-8dfd-6275606f21f0",
   "metadata": {},
   "outputs": [],
   "source": [
    "class file_ops:\n",
    "    def __init__(self,filename):\n",
    "        self.filename = filename\n",
    "        \n",
    "    def read_file(self):\n",
    "        with open(self.filename, 'r') as file:\n",
    "            return file.read()\n",
    "    \n",
    "    def write_file(self,data):\n",
    "        with open(self.filename,'w') as file:\n",
    "            file.write(data)\n",
    "        \n",
    "# this is an example of abstraction with encapsulation \n",
    "            "
   ]
  },
  {
   "cell_type": "code",
   "execution_count": 2,
   "id": "890b0265-fee8-4e36-8f05-91f6a194c20e",
   "metadata": {},
   "outputs": [],
   "source": [
    "sudh_op_file = file_ops('sudhfile.txt')\n",
    "sudh_op_file.write_file('this is sudhanshu file')"
   ]
  },
  {
   "cell_type": "code",
   "execution_count": 3,
   "id": "02afaf6e-d6b7-43c6-b3a6-7bf194be3841",
   "metadata": {},
   "outputs": [],
   "source": [
    "kapil = file_ops('kapil.txt')\n",
    "kapil.write_file('this is kapil file')"
   ]
  },
  {
   "cell_type": "code",
   "execution_count": 4,
   "id": "e854c7cb-da98-4e59-b6ae-2dec7f8fa0ee",
   "metadata": {},
   "outputs": [],
   "source": [
    "#composition -->"
   ]
  },
  {
   "cell_type": "code",
   "execution_count": 5,
   "id": "f9cd54fd-7ec8-47b5-8f36-3bc5e28b3ebc",
   "metadata": {},
   "outputs": [],
   "source": [
    "class pwskills:\n",
    "    def student(self):\n",
    "        return 'student details'\n",
    "    \n",
    "class datascience:\n",
    "    def __init__(self):\n",
    "        self.student = pwskills()"
   ]
  },
  {
   "cell_type": "code",
   "execution_count": 6,
   "id": "d2ed336a-959a-403e-bb2a-cff15e9bb9c6",
   "metadata": {},
   "outputs": [],
   "source": [
    "ds  = datascience()"
   ]
  },
  {
   "cell_type": "code",
   "execution_count": 7,
   "id": "4f11fb7f-b677-4a8e-a973-82981d52e9ba",
   "metadata": {},
   "outputs": [
    {
     "data": {
      "text/plain": [
       "<__main__.pwskills at 0x7f8086699e10>"
      ]
     },
     "execution_count": 7,
     "metadata": {},
     "output_type": "execute_result"
    }
   ],
   "source": [
    "ds.student"
   ]
  },
  {
   "cell_type": "code",
   "execution_count": 8,
   "id": "605be895-688a-467b-87d7-ba5ca3eddd8c",
   "metadata": {},
   "outputs": [
    {
     "data": {
      "text/plain": [
       "'student details'"
      ]
     },
     "execution_count": 8,
     "metadata": {},
     "output_type": "execute_result"
    }
   ],
   "source": [
    "ds.student.student()"
   ]
  },
  {
   "cell_type": "code",
   "execution_count": 9,
   "id": "1033829c-1d1f-4d82-9379-215f9b5c85c4",
   "metadata": {},
   "outputs": [],
   "source": [
    "class data:\n",
    "    def __init__(self,mentor_name):\n",
    "        self.mentor_name= mentor_name\n",
    "        \n",
    "class webdev:\n",
    "    def __init__(self,mentor,lecture_name):\n",
    "        self.mentor = mentor\n",
    "        self.lecture_name = lecture_name\n",
    "    \n",
    "    "
   ]
  },
  {
   "cell_type": "code",
   "execution_count": 14,
   "id": "2a8668f1-7b52-4a37-a459-1773e06a3993",
   "metadata": {},
   "outputs": [],
   "source": [
    "d = data('sudh')\n",
    "w = webdev(d,'css')"
   ]
  },
  {
   "cell_type": "code",
   "execution_count": 15,
   "id": "cd4e5e29-6214-4cde-9942-6e33877448d0",
   "metadata": {},
   "outputs": [
    {
     "data": {
      "text/plain": [
       "'sudh'"
      ]
     },
     "execution_count": 15,
     "metadata": {},
     "output_type": "execute_result"
    }
   ],
   "source": [
    "d.mentor_name"
   ]
  },
  {
   "cell_type": "code",
   "execution_count": 16,
   "id": "b346ba62-6735-4f3f-b9b2-767e686566e5",
   "metadata": {},
   "outputs": [
    {
     "data": {
      "text/plain": [
       "<__main__.data at 0x7f80864fbd60>"
      ]
     },
     "execution_count": 16,
     "metadata": {},
     "output_type": "execute_result"
    }
   ],
   "source": [
    "w.mentor"
   ]
  },
  {
   "cell_type": "code",
   "execution_count": 17,
   "id": "63d6ebc2-7527-4689-914d-bc06d4b5dc2b",
   "metadata": {},
   "outputs": [
    {
     "data": {
      "text/plain": [
       "'sudh'"
      ]
     },
     "execution_count": 17,
     "metadata": {},
     "output_type": "execute_result"
    }
   ],
   "source": [
    "w.mentor.mentor_name"
   ]
  },
  {
   "cell_type": "code",
   "execution_count": 19,
   "id": "d32a2392-622a-478f-b5cc-3874ae443eb7",
   "metadata": {},
   "outputs": [],
   "source": [
    "#zip"
   ]
  },
  {
   "cell_type": "code",
   "execution_count": 24,
   "id": "0da6d88c-e69b-4086-8414-aa5e98713c8a",
   "metadata": {},
   "outputs": [],
   "source": [
    "l = (6,7,5,8,9)\n",
    "l1 = [4,6,8,5,8,5]\n",
    "l3 = ['sudh','kumar','pwskills','krish']"
   ]
  },
  {
   "cell_type": "code",
   "execution_count": 25,
   "id": "4ace9a7b-57ae-4495-8607-7218dbbcaed7",
   "metadata": {},
   "outputs": [
    {
     "data": {
      "text/plain": [
       "[(6, 4), (7, 6), (5, 8), (8, 5), (9, 8)]"
      ]
     },
     "execution_count": 25,
     "metadata": {},
     "output_type": "execute_result"
    }
   ],
   "source": [
    "list(zip(l,l1))"
   ]
  },
  {
   "cell_type": "code",
   "execution_count": 26,
   "id": "1d88747e-c83a-4607-8c90-3e38e71b4881",
   "metadata": {},
   "outputs": [
    {
     "data": {
      "text/plain": [
       "[(6, 4, 'sudh'), (7, 6, 'kumar'), (5, 8, 'pwskills'), (8, 5, 'krish')]"
      ]
     },
     "execution_count": 26,
     "metadata": {},
     "output_type": "execute_result"
    }
   ],
   "source": [
    "list(zip(l,l1,l3))"
   ]
  },
  {
   "cell_type": "code",
   "execution_count": 27,
   "id": "2c1b78ba-acea-493f-9fa8-2da223e7e5a9",
   "metadata": {},
   "outputs": [],
   "source": [
    "#Enumeration"
   ]
  },
  {
   "cell_type": "code",
   "execution_count": 29,
   "id": "575fb3a0-94a5-4b4b-aada-5839dcf2945f",
   "metadata": {},
   "outputs": [
    {
     "data": {
      "text/plain": [
       "['sudh', 'kumar', 'pwskills', 'krish']"
      ]
     },
     "execution_count": 29,
     "metadata": {},
     "output_type": "execute_result"
    }
   ],
   "source": [
    "l3"
   ]
  },
  {
   "cell_type": "code",
   "execution_count": 30,
   "id": "0efbfe63-12f9-49c2-9510-ffad7473a46b",
   "metadata": {},
   "outputs": [
    {
     "name": "stdout",
     "output_type": "stream",
     "text": [
      "0   sudh\n",
      "1   kumar\n",
      "2   pwskills\n",
      "3   krish\n"
     ]
    }
   ],
   "source": [
    "for index,data in enumerate(l3):\n",
    "    print(index, ' ' , data)"
   ]
  },
  {
   "cell_type": "code",
   "execution_count": null,
   "id": "240bfa0c-880e-46ce-af76-949a7db5786f",
   "metadata": {},
   "outputs": [],
   "source": []
  },
  {
   "cell_type": "code",
   "execution_count": null,
   "id": "20e3889e-2f2b-4fe3-9f95-f1528d8cb220",
   "metadata": {},
   "outputs": [],
   "source": []
  },
  {
   "cell_type": "code",
   "execution_count": null,
   "id": "e1509cae-3c8a-4f27-86ad-60124f69f4aa",
   "metadata": {},
   "outputs": [],
   "source": []
  },
  {
   "cell_type": "code",
   "execution_count": 18,
   "id": "fbcfce6a-e1fa-4aae-8c84-7dec06414086",
   "metadata": {},
   "outputs": [],
   "source": [
    "#-------End Of Oops--------"
   ]
  },
  {
   "cell_type": "code",
   "execution_count": null,
   "id": "97b65945-b588-4972-995a-056594887fec",
   "metadata": {},
   "outputs": [],
   "source": []
  }
 ],
 "metadata": {
  "kernelspec": {
   "display_name": "Python 3 (ipykernel)",
   "language": "python",
   "name": "python3"
  },
  "language_info": {
   "codemirror_mode": {
    "name": "ipython",
    "version": 3
   },
   "file_extension": ".py",
   "mimetype": "text/x-python",
   "name": "python",
   "nbconvert_exporter": "python",
   "pygments_lexer": "ipython3",
   "version": "3.10.8"
  }
 },
 "nbformat": 4,
 "nbformat_minor": 5
}
