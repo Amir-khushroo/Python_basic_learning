{
 "cells": [
  {
   "cell_type": "code",
   "execution_count": 1,
   "id": "d071b1ce-34ba-4d94-818a-a5ecfb21beb8",
   "metadata": {},
   "outputs": [],
   "source": [
    "l = []"
   ]
  },
  {
   "cell_type": "code",
   "execution_count": 2,
   "id": "3b1b58ab-1fb7-464a-8471-cad0de861471",
   "metadata": {},
   "outputs": [
    {
     "data": {
      "text/plain": [
       "list"
      ]
     },
     "execution_count": 2,
     "metadata": {},
     "output_type": "execute_result"
    }
   ],
   "source": [
    "type(l)"
   ]
  },
  {
   "cell_type": "code",
   "execution_count": 3,
   "id": "2ec39b23-d3f2-4258-bb8d-c4a9c5eabc45",
   "metadata": {},
   "outputs": [],
   "source": [
    "l1 = [1,2,3,4,5,\"Amir\", \"Khushroo\",3+6j,345.46,True,[3,4,5,6]]"
   ]
  },
  {
   "cell_type": "code",
   "execution_count": 4,
   "id": "78377957-a274-49da-80ff-da33e88d6b9f",
   "metadata": {},
   "outputs": [
    {
     "data": {
      "text/plain": [
       "[1, 2, 3, 4, 5, 'Amir', 'Khushroo', (3+6j), 345.46, True, [3, 4, 5, 6]]"
      ]
     },
     "execution_count": 4,
     "metadata": {},
     "output_type": "execute_result"
    }
   ],
   "source": [
    "l1"
   ]
  },
  {
   "cell_type": "code",
   "execution_count": 5,
   "id": "a44e8ddd-3a0c-4b57-91ee-2653193e5e99",
   "metadata": {},
   "outputs": [],
   "source": [
    "s='sdljhskb244+131@#$*&^'"
   ]
  },
  {
   "cell_type": "code",
   "execution_count": 6,
   "id": "797606a5-6fb9-4422-9080-6dd56d4a1b6c",
   "metadata": {},
   "outputs": [
    {
     "data": {
      "text/plain": [
       "'sdljhskb244+131@#$*&^'"
      ]
     },
     "execution_count": 6,
     "metadata": {},
     "output_type": "execute_result"
    }
   ],
   "source": [
    "s"
   ]
  },
  {
   "cell_type": "code",
   "execution_count": 7,
   "id": "dc4708d7-ccdb-49a5-a87d-abe38cd89b7b",
   "metadata": {},
   "outputs": [
    {
     "data": {
      "text/plain": [
       "'Amir'"
      ]
     },
     "execution_count": 7,
     "metadata": {},
     "output_type": "execute_result"
    }
   ],
   "source": [
    "l1[5]"
   ]
  },
  {
   "cell_type": "code",
   "execution_count": 8,
   "id": "762afd77-a0c6-4a88-ac2d-d8abd4d463dc",
   "metadata": {},
   "outputs": [
    {
     "data": {
      "text/plain": [
       "6"
      ]
     },
     "execution_count": 8,
     "metadata": {},
     "output_type": "execute_result"
    }
   ],
   "source": [
    "l1[-1][-1]"
   ]
  },
  {
   "cell_type": "code",
   "execution_count": 9,
   "id": "2b1d50ee-0532-440d-ac92-61e2a15f1012",
   "metadata": {},
   "outputs": [
    {
     "data": {
      "text/plain": [
       "[1, 2, 3, 4, 5]"
      ]
     },
     "execution_count": 9,
     "metadata": {},
     "output_type": "execute_result"
    }
   ],
   "source": [
    "l1[0:5]"
   ]
  },
  {
   "cell_type": "code",
   "execution_count": 10,
   "id": "70a219fb-31c7-4292-9dbf-343cb428bcf6",
   "metadata": {},
   "outputs": [],
   "source": [
    "l2=[3,4,5,\"pwskills\",\"Amir\"]"
   ]
  },
  {
   "cell_type": "code",
   "execution_count": 11,
   "id": "21ee2fdd-8a07-49d5-b4d4-8fc56d92c743",
   "metadata": {},
   "outputs": [
    {
     "data": {
      "text/plain": [
       "[1,\n",
       " 2,\n",
       " 3,\n",
       " 4,\n",
       " 5,\n",
       " 'Amir',\n",
       " 'Khushroo',\n",
       " (3+6j),\n",
       " 345.46,\n",
       " True,\n",
       " [3, 4, 5, 6],\n",
       " 3,\n",
       " 4,\n",
       " 5,\n",
       " 'pwskills',\n",
       " 'Amir']"
      ]
     },
     "execution_count": 11,
     "metadata": {},
     "output_type": "execute_result"
    }
   ],
   "source": [
    "l1+l2"
   ]
  },
  {
   "cell_type": "code",
   "execution_count": 12,
   "id": "f3edc702-e30e-4a84-b5a3-0dcc614921ac",
   "metadata": {},
   "outputs": [
    {
     "data": {
      "text/plain": [
       "['a', 'm', 'i', 'r']"
      ]
     },
     "execution_count": 12,
     "metadata": {},
     "output_type": "execute_result"
    }
   ],
   "source": [
    "list(\"amir\")"
   ]
  },
  {
   "cell_type": "code",
   "execution_count": 13,
   "id": "42615648-f42f-4869-9232-f7da8a66f780",
   "metadata": {},
   "outputs": [
    {
     "ename": "TypeError",
     "evalue": "'int' object is not iterable",
     "output_type": "error",
     "traceback": [
      "\u001b[0;31m---------------------------------------------------------------------------\u001b[0m",
      "\u001b[0;31mTypeError\u001b[0m                                 Traceback (most recent call last)",
      "Cell \u001b[0;32mIn[13], line 1\u001b[0m\n\u001b[0;32m----> 1\u001b[0m \u001b[38;5;28;43mlist\u001b[39;49m\u001b[43m(\u001b[49m\u001b[38;5;241;43m345\u001b[39;49m\u001b[43m)\u001b[49m\n",
      "\u001b[0;31mTypeError\u001b[0m: 'int' object is not iterable"
     ]
    }
   ],
   "source": [
    "list(345)"
   ]
  },
  {
   "cell_type": "code",
   "execution_count": 14,
   "id": "30239f3f-3d66-4766-92a4-c268f42fa51f",
   "metadata": {},
   "outputs": [
    {
     "data": {
      "text/plain": [
       "[3, 4, 5, 'pwskills', 'Amir', 3, 4, 5, 'pwskills', 'Amir']"
      ]
     },
     "execution_count": 14,
     "metadata": {},
     "output_type": "execute_result"
    }
   ],
   "source": [
    "l2*2"
   ]
  },
  {
   "cell_type": "code",
   "execution_count": 15,
   "id": "16d8fd2d-b628-46e1-89a0-4209791cd6c7",
   "metadata": {},
   "outputs": [
    {
     "data": {
      "text/plain": [
       "3"
      ]
     },
     "execution_count": 15,
     "metadata": {},
     "output_type": "execute_result"
    }
   ],
   "source": [
    "l2[0]"
   ]
  },
  {
   "cell_type": "code",
   "execution_count": 16,
   "id": "5f839c7e-7fdd-4287-97e2-4ebe1d61fb2d",
   "metadata": {},
   "outputs": [],
   "source": [
    "l2[0]=300 #list is mutable but string is immutable"
   ]
  },
  {
   "cell_type": "code",
   "execution_count": 17,
   "id": "02502b31-94cd-43f5-94d3-7de795a39dc3",
   "metadata": {},
   "outputs": [
    {
     "data": {
      "text/plain": [
       "[300, 4, 5, 'pwskills', 'Amir']"
      ]
     },
     "execution_count": 17,
     "metadata": {},
     "output_type": "execute_result"
    }
   ],
   "source": [
    "l2"
   ]
  },
  {
   "cell_type": "code",
   "execution_count": 18,
   "id": "c0220a61-5f8b-4c85-b4cd-b559814d6526",
   "metadata": {},
   "outputs": [],
   "source": [
    "#Tuples"
   ]
  },
  {
   "cell_type": "code",
   "execution_count": 19,
   "id": "1cdeb52b-7626-432a-a5a5-a02644d7f12c",
   "metadata": {},
   "outputs": [],
   "source": [
    "t=(1,2,3,4,\"amir\",\"pwskills\",4+5j,True)"
   ]
  },
  {
   "cell_type": "code",
   "execution_count": 20,
   "id": "4a143928-5d74-4668-8383-704ece220144",
   "metadata": {},
   "outputs": [
    {
     "data": {
      "text/plain": [
       "(1, 2, 3, 4, 'amir', 'pwskills', (4+5j), True)"
      ]
     },
     "execution_count": 20,
     "metadata": {},
     "output_type": "execute_result"
    }
   ],
   "source": [
    "t"
   ]
  },
  {
   "cell_type": "code",
   "execution_count": 21,
   "id": "f185ff04-f3aa-4a6d-a96b-769a5a029036",
   "metadata": {},
   "outputs": [
    {
     "data": {
      "text/plain": [
       "tuple"
      ]
     },
     "execution_count": 21,
     "metadata": {},
     "output_type": "execute_result"
    }
   ],
   "source": [
    "type(t)"
   ]
  },
  {
   "cell_type": "code",
   "execution_count": 22,
   "id": "3f47dc51-6c51-4590-a258-d80613c20b6c",
   "metadata": {},
   "outputs": [
    {
     "data": {
      "text/plain": [
       "1"
      ]
     },
     "execution_count": 22,
     "metadata": {},
     "output_type": "execute_result"
    }
   ],
   "source": [
    "t[0]"
   ]
  },
  {
   "cell_type": "code",
   "execution_count": 23,
   "id": "9e97143e-d7cb-4504-b072-87aebd13dd6c",
   "metadata": {},
   "outputs": [
    {
     "data": {
      "text/plain": [
       "True"
      ]
     },
     "execution_count": 23,
     "metadata": {},
     "output_type": "execute_result"
    }
   ],
   "source": [
    "t[-1]"
   ]
  },
  {
   "cell_type": "code",
   "execution_count": 24,
   "id": "454015c3-714d-4f03-956b-ff97fa60ef05",
   "metadata": {},
   "outputs": [
    {
     "data": {
      "text/plain": [
       "(True, (4+5j), 'pwskills', 'amir', 4, 3, 2, 1)"
      ]
     },
     "execution_count": 24,
     "metadata": {},
     "output_type": "execute_result"
    }
   ],
   "source": [
    "t[::-1]"
   ]
  },
  {
   "cell_type": "code",
   "execution_count": 25,
   "id": "77ca68c5-0929-4781-af2f-a8277ccbc883",
   "metadata": {},
   "outputs": [
    {
     "ename": "TypeError",
     "evalue": "'tuple' object does not support item assignment",
     "output_type": "error",
     "traceback": [
      "\u001b[0;31m---------------------------------------------------------------------------\u001b[0m",
      "\u001b[0;31mTypeError\u001b[0m                                 Traceback (most recent call last)",
      "Cell \u001b[0;32mIn[25], line 1\u001b[0m\n\u001b[0;32m----> 1\u001b[0m \u001b[43mt\u001b[49m\u001b[43m[\u001b[49m\u001b[38;5;241;43m0\u001b[39;49m\u001b[43m]\u001b[49m\u001b[38;5;241m=\u001b[39m\u001b[38;5;124m\"\u001b[39m\u001b[38;5;124mamir\u001b[39m\u001b[38;5;124m\"\u001b[39m      \u001b[38;5;66;03m# Tuples are immutable entity just like strings...\u001b[39;00m\n",
      "\u001b[0;31mTypeError\u001b[0m: 'tuple' object does not support item assignment"
     ]
    }
   ],
   "source": [
    "t[0]=\"amir\"      # Tuples are immutable entity just like strings..."
   ]
  },
  {
   "cell_type": "code",
   "execution_count": 26,
   "id": "16a997f4-88ef-44c6-85da-37e8c26a0064",
   "metadata": {},
   "outputs": [],
   "source": [
    "t1=(5,6,7,8,9)"
   ]
  },
  {
   "cell_type": "code",
   "execution_count": 27,
   "id": "10938026-fb4e-41ac-b7f8-03153b6d4bec",
   "metadata": {},
   "outputs": [
    {
     "data": {
      "text/plain": [
       "(5, 6, 7, 8, 9)"
      ]
     },
     "execution_count": 27,
     "metadata": {},
     "output_type": "execute_result"
    }
   ],
   "source": [
    "t1"
   ]
  },
  {
   "cell_type": "code",
   "execution_count": 28,
   "id": "81f47ab7-d8d9-4226-b4be-cb693a6da29f",
   "metadata": {},
   "outputs": [
    {
     "data": {
      "text/plain": [
       "(1, 2, 3, 4, 'amir', 'pwskills', (4+5j), True, 5, 6, 7, 8, 9)"
      ]
     },
     "execution_count": 28,
     "metadata": {},
     "output_type": "execute_result"
    }
   ],
   "source": [
    "t+t1   # concatination is possible for tples"
   ]
  },
  {
   "cell_type": "code",
   "execution_count": 29,
   "id": "b549eaf2-0702-4111-a4c1-01fe6dd268d3",
   "metadata": {},
   "outputs": [
    {
     "data": {
      "text/plain": [
       "(1,\n",
       " 2,\n",
       " 3,\n",
       " 4,\n",
       " 'amir',\n",
       " 'pwskills',\n",
       " (4+5j),\n",
       " True,\n",
       " 1,\n",
       " 2,\n",
       " 3,\n",
       " 4,\n",
       " 'amir',\n",
       " 'pwskills',\n",
       " (4+5j),\n",
       " True)"
      ]
     },
     "execution_count": 29,
     "metadata": {},
     "output_type": "execute_result"
    }
   ],
   "source": [
    "t*2"
   ]
  },
  {
   "cell_type": "code",
   "execution_count": 30,
   "id": "3d60275a-881f-4a30-a8f7-59e1354d6f72",
   "metadata": {},
   "outputs": [
    {
     "data": {
      "text/plain": [
       "[1, 2, 3, 4, 'amir', 'pwskills', (4+5j), True]"
      ]
     },
     "execution_count": 30,
     "metadata": {},
     "output_type": "execute_result"
    }
   ],
   "source": [
    "list(t) # we can convert tuples to list"
   ]
  },
  {
   "cell_type": "code",
   "execution_count": 31,
   "id": "46de505e-00e7-4d62-9488-8326ba615ce1",
   "metadata": {},
   "outputs": [
    {
     "data": {
      "text/plain": [
       "[300, 4, 5, 'pwskills', 'Amir']"
      ]
     },
     "execution_count": 31,
     "metadata": {},
     "output_type": "execute_result"
    }
   ],
   "source": [
    "l2"
   ]
  },
  {
   "cell_type": "code",
   "execution_count": 32,
   "id": "09d0cc1a-700e-43b3-9108-b810b0c2f029",
   "metadata": {},
   "outputs": [
    {
     "data": {
      "text/plain": [
       "(300, 4, 5, 'pwskills', 'Amir')"
      ]
     },
     "execution_count": 32,
     "metadata": {},
     "output_type": "execute_result"
    }
   ],
   "source": [
    "tuple(l2)   # we can convert list to tuples"
   ]
  },
  {
   "cell_type": "code",
   "execution_count": 33,
   "id": "123858aa-1262-4426-8bcd-d2d230d7637b",
   "metadata": {},
   "outputs": [
    {
     "data": {
      "text/plain": [
       "8"
      ]
     },
     "execution_count": 33,
     "metadata": {},
     "output_type": "execute_result"
    }
   ],
   "source": [
    "len(t)"
   ]
  },
  {
   "cell_type": "code",
   "execution_count": 34,
   "id": "5a9aacb6-aa83-4897-a4ec-b112bec65e24",
   "metadata": {},
   "outputs": [
    {
     "data": {
      "text/plain": [
       "4"
      ]
     },
     "execution_count": 34,
     "metadata": {},
     "output_type": "execute_result"
    }
   ],
   "source": [
    "len(\"amir\")"
   ]
  },
  {
   "cell_type": "code",
   "execution_count": 35,
   "id": "d4952124-d5bb-4220-ba51-81131e4325c5",
   "metadata": {},
   "outputs": [
    {
     "data": {
      "text/plain": [
       "11"
      ]
     },
     "execution_count": 35,
     "metadata": {},
     "output_type": "execute_result"
    }
   ],
   "source": [
    "len(l1)"
   ]
  },
  {
   "cell_type": "code",
   "execution_count": 36,
   "id": "23d0f4cb-0f69-41d5-8581-edcdcb7b297e",
   "metadata": {},
   "outputs": [
    {
     "data": {
      "text/plain": [
       "[1, 2, 3, 4, 5, 'Amir', 'Khushroo', (3+6j), 345.46, True, [3, 4, 5, 6]]"
      ]
     },
     "execution_count": 36,
     "metadata": {},
     "output_type": "execute_result"
    }
   ],
   "source": [
    "l1"
   ]
  },
  {
   "cell_type": "code",
   "execution_count": 37,
   "id": "8c7cfa0c-0b7b-4d8a-9e51-5f968dc57140",
   "metadata": {},
   "outputs": [],
   "source": [
    "# Dictionary"
   ]
  },
  {
   "cell_type": "code",
   "execution_count": 38,
   "id": "017fcf33-f22e-4e57-ac8b-f7ff2135fcaf",
   "metadata": {},
   "outputs": [],
   "source": [
    "s={}"
   ]
  },
  {
   "cell_type": "code",
   "execution_count": 39,
   "id": "699fcfb7-bb66-4044-9dc0-12705e7a7c95",
   "metadata": {},
   "outputs": [
    {
     "data": {
      "text/plain": [
       "dict"
      ]
     },
     "execution_count": 39,
     "metadata": {},
     "output_type": "execute_result"
    }
   ],
   "source": [
    "type(s)"
   ]
  },
  {
   "cell_type": "code",
   "execution_count": 40,
   "id": "2af45933-c0d7-40f5-b951-8b6e444ac455",
   "metadata": {},
   "outputs": [],
   "source": [
    "s1={1,2,3,4,5,5}"
   ]
  },
  {
   "cell_type": "code",
   "execution_count": 41,
   "id": "2e8db403-ca14-4a8f-a016-33634a89b371",
   "metadata": {},
   "outputs": [
    {
     "data": {
      "text/plain": [
       "set"
      ]
     },
     "execution_count": 41,
     "metadata": {},
     "output_type": "execute_result"
    }
   ],
   "source": [
    "type(s1)"
   ]
  },
  {
   "cell_type": "code",
   "execution_count": 42,
   "id": "0ca1951a-eb11-4185-a04e-24ed6f2d6f68",
   "metadata": {},
   "outputs": [
    {
     "data": {
      "text/plain": [
       "{1, 2, 3, 4, 5}"
      ]
     },
     "execution_count": 42,
     "metadata": {},
     "output_type": "execute_result"
    }
   ],
   "source": [
    "s1 # set always try to remove duplicate and keep only unique value"
   ]
  },
  {
   "cell_type": "code",
   "execution_count": 43,
   "id": "b5bec48a-7316-4f40-a590-e8f8cb22fd78",
   "metadata": {},
   "outputs": [],
   "source": [
    "s2={\"amir\",\"Amir\",\"amir\",1,2,3,4,2,3,4,5,5,6,7,8}"
   ]
  },
  {
   "cell_type": "code",
   "execution_count": 44,
   "id": "3aedc62e-3e3e-4d43-b570-e21c2ebbddb5",
   "metadata": {},
   "outputs": [
    {
     "data": {
      "text/plain": [
       "{1, 2, 3, 4, 5, 6, 7, 8, 'Amir', 'amir'}"
      ]
     },
     "execution_count": 44,
     "metadata": {},
     "output_type": "execute_result"
    }
   ],
   "source": [
    "s2"
   ]
  },
  {
   "cell_type": "code",
   "execution_count": 45,
   "id": "934e32a0-1d1b-4a35-944c-d13985ef5f0f",
   "metadata": {},
   "outputs": [
    {
     "data": {
      "text/plain": [
       "[1, 2, 3, 4, 5, 6, 7, 8, 'amir', 'Amir']"
      ]
     },
     "execution_count": 45,
     "metadata": {},
     "output_type": "execute_result"
    }
   ],
   "source": [
    "list(s2)"
   ]
  },
  {
   "cell_type": "code",
   "execution_count": 46,
   "id": "edb8c756-8609-4d56-9f42-3e8a4b14479a",
   "metadata": {},
   "outputs": [
    {
     "data": {
      "text/plain": [
       "{300, 4, 5, 'Amir', 'pwskills'}"
      ]
     },
     "execution_count": 46,
     "metadata": {},
     "output_type": "execute_result"
    }
   ],
   "source": [
    "set(l2)"
   ]
  },
  {
   "cell_type": "code",
   "execution_count": 47,
   "id": "3949fd98-c962-491d-ab2d-b53f030b5163",
   "metadata": {},
   "outputs": [
    {
     "ename": "TypeError",
     "evalue": "unhashable type: 'list'",
     "output_type": "error",
     "traceback": [
      "\u001b[0;31m---------------------------------------------------------------------------\u001b[0m",
      "\u001b[0;31mTypeError\u001b[0m                                 Traceback (most recent call last)",
      "Cell \u001b[0;32mIn[47], line 1\u001b[0m\n\u001b[0;32m----> 1\u001b[0m \u001b[38;5;28;43mset\u001b[39;49m\u001b[43m(\u001b[49m\u001b[43ml1\u001b[49m\u001b[43m)\u001b[49m \u001b[38;5;66;03m#l1 has nested list, it is not able to do comparison\u001b[39;00m\n",
      "\u001b[0;31mTypeError\u001b[0m: unhashable type: 'list'"
     ]
    }
   ],
   "source": [
    "set(l1) #l1 has nested list, it is not able to do comparison"
   ]
  },
  {
   "cell_type": "code",
   "execution_count": null,
   "id": "8ab2e400-93d8-48d8-95a5-2698bc92374c",
   "metadata": {},
   "outputs": [],
   "source": [
    "l1"
   ]
  },
  {
   "cell_type": "code",
   "execution_count": 48,
   "id": "b5aaf6da-dfee-4ac7-a880-88d4ddf1b0f3",
   "metadata": {},
   "outputs": [
    {
     "data": {
      "text/plain": [
       "(1, 2, 3, 4, 5, 6, 7, 8, 'amir', 'Amir')"
      ]
     },
     "execution_count": 48,
     "metadata": {},
     "output_type": "execute_result"
    }
   ],
   "source": [
    "tuple(s2)"
   ]
  },
  {
   "cell_type": "code",
   "execution_count": 49,
   "id": "03bc9c2f-87be-4428-aecc-7ed7233c44fe",
   "metadata": {},
   "outputs": [
    {
     "data": {
      "text/plain": [
       "{1, 2, 3, 4, 5, 6, 7, 8, 'Amir', 'amir'}"
      ]
     },
     "execution_count": 49,
     "metadata": {},
     "output_type": "execute_result"
    }
   ],
   "source": [
    "s2"
   ]
  },
  {
   "cell_type": "code",
   "execution_count": 50,
   "id": "ca821909-9a42-42cd-86f7-5ca0d260dd77",
   "metadata": {},
   "outputs": [
    {
     "ename": "TypeError",
     "evalue": "'set' object is not subscriptable",
     "output_type": "error",
     "traceback": [
      "\u001b[0;31m---------------------------------------------------------------------------\u001b[0m",
      "\u001b[0;31mTypeError\u001b[0m                                 Traceback (most recent call last)",
      "Cell \u001b[0;32mIn[50], line 1\u001b[0m\n\u001b[0;32m----> 1\u001b[0m \u001b[43ms2\u001b[49m\u001b[43m[\u001b[49m\u001b[38;5;241;43m0\u001b[39;49m\u001b[43m]\u001b[49m \u001b[38;5;66;03m# set never support indexing and slicing for indexing and slicing convert it into tupleor list\u001b[39;00m\n",
      "\u001b[0;31mTypeError\u001b[0m: 'set' object is not subscriptable"
     ]
    }
   ],
   "source": [
    "s2[0] # set never support indexing and slicing for indexing and slicing convert it into tuple or list"
   ]
  },
  {
   "cell_type": "code",
   "execution_count": 51,
   "id": "b1ba57b6-a481-41d9-91b2-64782ebce5d9",
   "metadata": {},
   "outputs": [],
   "source": [
    "#Dictionary"
   ]
  },
  {
   "cell_type": "code",
   "execution_count": 52,
   "id": "6d360a95-d908-4a7f-bdc5-41c198683cbc",
   "metadata": {},
   "outputs": [],
   "source": [
    "d={}"
   ]
  },
  {
   "cell_type": "code",
   "execution_count": 53,
   "id": "b1e1cb79-2fb5-453e-be1f-3da7213a007a",
   "metadata": {},
   "outputs": [
    {
     "data": {
      "text/plain": [
       "dict"
      ]
     },
     "execution_count": 53,
     "metadata": {},
     "output_type": "execute_result"
    }
   ],
   "source": [
    "type(d)"
   ]
  },
  {
   "cell_type": "code",
   "execution_count": 54,
   "id": "6e2b2cc1-6825-41e4-8f39-e9b2a553169c",
   "metadata": {},
   "outputs": [],
   "source": [
    "d1={'name' : \"amir\", 'subject' : [\"data science\",\"big data\",\"data analytics\"], 'number' : 158645865}"
   ]
  },
  {
   "cell_type": "code",
   "execution_count": 55,
   "id": "9c10c224-3b53-4d53-8c75-6b59cb1478b2",
   "metadata": {},
   "outputs": [
    {
     "data": {
      "text/plain": [
       "{'name': 'amir',\n",
       " 'subject': ['data science', 'big data', 'data analytics'],\n",
       " 'number': 158645865}"
      ]
     },
     "execution_count": 55,
     "metadata": {},
     "output_type": "execute_result"
    }
   ],
   "source": [
    "d1"
   ]
  },
  {
   "cell_type": "code",
   "execution_count": 56,
   "id": "75bcac1d-bdd0-467d-b8ef-bee477a2f3b4",
   "metadata": {},
   "outputs": [],
   "source": [
    "d2={\"name\" : \"amir\", 'name' : \"pwskills\"}"
   ]
  },
  {
   "cell_type": "code",
   "execution_count": 57,
   "id": "4c664c09-ca1f-48f6-a012-bd10ddd186c5",
   "metadata": {},
   "outputs": [
    {
     "data": {
      "text/plain": [
       "{'name': 'pwskills'}"
      ]
     },
     "execution_count": 57,
     "metadata": {},
     "output_type": "execute_result"
    }
   ],
   "source": [
    "d2 #if key is not unique it will give the latest value"
   ]
  },
  {
   "cell_type": "code",
   "execution_count": 58,
   "id": "8a0bf6d6-79ec-42f1-ae05-9d933a86f7ef",
   "metadata": {},
   "outputs": [],
   "source": [
    "d3={354335 : \"amir\"}"
   ]
  },
  {
   "cell_type": "code",
   "execution_count": 59,
   "id": "d228b5cd-deb8-4c6f-bbaa-906338ec0d4f",
   "metadata": {},
   "outputs": [
    {
     "ename": "TypeError",
     "evalue": "unhashable type: 'list'",
     "output_type": "error",
     "traceback": [
      "\u001b[0;31m---------------------------------------------------------------------------\u001b[0m",
      "\u001b[0;31mTypeError\u001b[0m                                 Traceback (most recent call last)",
      "Cell \u001b[0;32mIn[59], line 1\u001b[0m\n\u001b[0;32m----> 1\u001b[0m d3\u001b[38;5;241m=\u001b[39m{[\u001b[38;5;241m1\u001b[39m,\u001b[38;5;241m2\u001b[39m,\u001b[38;5;241m3\u001b[39m,\u001b[38;5;241m4\u001b[39m] : \u001b[38;5;124m\"\u001b[39m\u001b[38;5;124mamir\u001b[39m\u001b[38;5;124m\"\u001b[39m}\n",
      "\u001b[0;31mTypeError\u001b[0m: unhashable type: 'list'"
     ]
    }
   ],
   "source": [
    "d3={[1,2,3,4] : \"amir\"}"
   ]
  },
  {
   "cell_type": "code",
   "execution_count": 60,
   "id": "9cab070f-6916-4217-abf7-fb239a7e6f30",
   "metadata": {},
   "outputs": [
    {
     "ename": "TypeError",
     "evalue": "unhashable type: 'set'",
     "output_type": "error",
     "traceback": [
      "\u001b[0;31m---------------------------------------------------------------------------\u001b[0m",
      "\u001b[0;31mTypeError\u001b[0m                                 Traceback (most recent call last)",
      "Cell \u001b[0;32mIn[60], line 1\u001b[0m\n\u001b[0;32m----> 1\u001b[0m d3\u001b[38;5;241m=\u001b[39m{{\u001b[38;5;241m1\u001b[39m,\u001b[38;5;241m2\u001b[39m,\u001b[38;5;241m3\u001b[39m,\u001b[38;5;241m4\u001b[39m} : \u001b[38;5;124m\"\u001b[39m\u001b[38;5;124mamir\u001b[39m\u001b[38;5;124m\"\u001b[39m}\n",
      "\u001b[0;31mTypeError\u001b[0m: unhashable type: 'set'"
     ]
    }
   ],
   "source": [
    "d3={{1,2,3,4} : \"amir\"}"
   ]
  },
  {
   "cell_type": "code",
   "execution_count": 61,
   "id": "5f65b6f1-c81a-4c68-a4ff-2f2e432f5dd1",
   "metadata": {},
   "outputs": [],
   "source": [
    "d3={(1,2,3,4) : \"amir\"} #tuples can behave like a key"
   ]
  },
  {
   "cell_type": "code",
   "execution_count": 62,
   "id": "49846e24-96e7-42ec-88ae-7c2f7192321a",
   "metadata": {},
   "outputs": [
    {
     "ename": "SyntaxError",
     "evalue": "invalid syntax (3594555249.py, line 1)",
     "output_type": "error",
     "traceback": [
      "\u001b[0;36m  Cell \u001b[0;32mIn[62], line 1\u001b[0;36m\u001b[0m\n\u001b[0;31m    d3={%fsf : \"amir\"}\u001b[0m\n\u001b[0m        ^\u001b[0m\n\u001b[0;31mSyntaxError\u001b[0m\u001b[0;31m:\u001b[0m invalid syntax\n"
     ]
    }
   ],
   "source": [
    "d3={%fsf : \"amir\"}"
   ]
  },
  {
   "cell_type": "code",
   "execution_count": 63,
   "id": "b09b0ef4-d597-4bc6-be14-bc95f63074b2",
   "metadata": {},
   "outputs": [],
   "source": [
    "d3={\"%fsf\" : \"amir\"}"
   ]
  },
  {
   "cell_type": "code",
   "execution_count": 64,
   "id": "76948506-922b-46f9-a2db-a7fe23a5f406",
   "metadata": {},
   "outputs": [],
   "source": [
    "d4 = {'course' : ['dsa','java','webdev','blockchain','cloud'], 'mentor' :('sudh','kris','viswa','sourganshu','sunny'),\n",
    "      'price' : {3500,20000,15000,11000,3500}, 'duration' :1, 'access year' :1,'syllabus':{'python':['core python','oops','pandas','numpy','db','mongodb']},\n",
    "                                                                                          'ml' : ['supervised','unsupervised','semisupervised']}"
   ]
  },
  {
   "cell_type": "code",
   "execution_count": 65,
   "id": "3976402a-f0b3-4ddf-b381-6523e00891ba",
   "metadata": {},
   "outputs": [
    {
     "data": {
      "text/plain": [
       "{'course': ['dsa', 'java', 'webdev', 'blockchain', 'cloud'],\n",
       " 'mentor': ('sudh', 'kris', 'viswa', 'sourganshu', 'sunny'),\n",
       " 'price': {3500, 11000, 15000, 20000},\n",
       " 'duration': 1,\n",
       " 'access year': 1,\n",
       " 'syllabus': {'python': ['core python',\n",
       "   'oops',\n",
       "   'pandas',\n",
       "   'numpy',\n",
       "   'db',\n",
       "   'mongodb']},\n",
       " 'ml': ['supervised', 'unsupervised', 'semisupervised']}"
      ]
     },
     "execution_count": 65,
     "metadata": {},
     "output_type": "execute_result"
    }
   ],
   "source": [
    "d4 # key should be unique"
   ]
  },
  {
   "cell_type": "code",
   "execution_count": 66,
   "id": "7f6e08c3-a806-4bce-973a-d60ecb5a4c9d",
   "metadata": {},
   "outputs": [
    {
     "data": {
      "text/plain": [
       "['dsa', 'java', 'webdev', 'blockchain', 'cloud']"
      ]
     },
     "execution_count": 66,
     "metadata": {},
     "output_type": "execute_result"
    }
   ],
   "source": [
    "d4['course']"
   ]
  },
  {
   "cell_type": "code",
   "execution_count": 67,
   "id": "ad24ed2f-a778-4b31-8ffd-b92b751cbcf3",
   "metadata": {},
   "outputs": [
    {
     "data": {
      "text/plain": [
       "('sudh', 'kris', 'viswa', 'sourganshu', 'sunny')"
      ]
     },
     "execution_count": 67,
     "metadata": {},
     "output_type": "execute_result"
    }
   ],
   "source": [
    "d4['mentor']"
   ]
  },
  {
   "cell_type": "code",
   "execution_count": 68,
   "id": "25c3a511-382f-4c5d-b5c0-14b5a6058d30",
   "metadata": {},
   "outputs": [
    {
     "data": {
      "text/plain": [
       "{3500, 11000, 15000, 20000}"
      ]
     },
     "execution_count": 68,
     "metadata": {},
     "output_type": "execute_result"
    }
   ],
   "source": [
    "d4['price']"
   ]
  },
  {
   "cell_type": "code",
   "execution_count": 69,
   "id": "ee312f0f-067e-4fae-a691-4d14327251bc",
   "metadata": {},
   "outputs": [
    {
     "data": {
      "text/plain": [
       "{'course': ['dsa', 'java', 'webdev', 'blockchain', 'cloud'],\n",
       " 'mentor': ('sudh', 'kris', 'viswa', 'sourganshu', 'sunny'),\n",
       " 'price': {3500, 11000, 15000, 20000},\n",
       " 'duration': 1,\n",
       " 'access year': 1,\n",
       " 'syllabus': {'python': ['core python',\n",
       "   'oops',\n",
       "   'pandas',\n",
       "   'numpy',\n",
       "   'db',\n",
       "   'mongodb']},\n",
       " 'ml': ['supervised', 'unsupervised', 'semisupervised']}"
      ]
     },
     "execution_count": 69,
     "metadata": {},
     "output_type": "execute_result"
    }
   ],
   "source": [
    "d4"
   ]
  },
  {
   "cell_type": "code",
   "execution_count": 70,
   "id": "e10a2b70-626b-44c6-a149-43f08941c1d4",
   "metadata": {},
   "outputs": [],
   "source": [
    "d2['phone number'] = 38743168745"
   ]
  },
  {
   "cell_type": "code",
   "execution_count": 71,
   "id": "604ea35f-bac7-4e5e-9a07-75aaaf07ab52",
   "metadata": {},
   "outputs": [
    {
     "data": {
      "text/plain": [
       "{'name': 'pwskills', 'phone number': 38743168745}"
      ]
     },
     "execution_count": 71,
     "metadata": {},
     "output_type": "execute_result"
    }
   ],
   "source": [
    "d2"
   ]
  },
  {
   "cell_type": "code",
   "execution_count": 72,
   "id": "5140f575-5581-40c0-a8ca-7da3e61067ff",
   "metadata": {},
   "outputs": [],
   "source": [
    "d2['name'] = 'Amir Khushroo'"
   ]
  },
  {
   "cell_type": "code",
   "execution_count": 73,
   "id": "aef32c8a-d682-4961-8ee4-c95a290263b2",
   "metadata": {},
   "outputs": [
    {
     "data": {
      "text/plain": [
       "{'name': 'Amir Khushroo', 'phone number': 38743168745}"
      ]
     },
     "execution_count": 73,
     "metadata": {},
     "output_type": "execute_result"
    }
   ],
   "source": [
    "d2 # dictionary is a mutable entity"
   ]
  },
  {
   "cell_type": "code",
   "execution_count": 74,
   "id": "167985dc-cffd-411e-83e7-c139fb15a564",
   "metadata": {},
   "outputs": [
    {
     "ename": "SyntaxError",
     "evalue": "invalid decimal literal (1729482468.py, line 2)",
     "output_type": "error",
     "traceback": [
      "\u001b[0;36m  Cell \u001b[0;32mIn[74], line 2\u001b[0;36m\u001b[0m\n\u001b[0;31m    1.string\u001b[0m\n\u001b[0m     ^\u001b[0m\n\u001b[0;31mSyntaxError\u001b[0m\u001b[0;31m:\u001b[0m invalid decimal literal\n"
     ]
    }
   ],
   "source": [
    "# so far we have discussed\n",
    "1.string\n",
    "2.list\n",
    "3.tuple\n",
    "4.set\n",
    "5.dict"
   ]
  },
  {
   "cell_type": "code",
   "execution_count": 75,
   "id": "3ff2e811-7218-4772-bdd0-8189d045446f",
   "metadata": {},
   "outputs": [],
   "source": [
    "s1=\"Pwskills\" #press s1.tab --> you will get a list of inbuilt string functions"
   ]
  },
  {
   "cell_type": "code",
   "execution_count": 76,
   "id": "b34bf672-abc4-41ed-8e39-d5118b758705",
   "metadata": {},
   "outputs": [
    {
     "data": {
      "text/plain": [
       "2"
      ]
     },
     "execution_count": 76,
     "metadata": {},
     "output_type": "execute_result"
    }
   ],
   "source": [
    "s1.count('l') # to know about the function --> press shift + tab"
   ]
  },
  {
   "cell_type": "code",
   "execution_count": 77,
   "id": "8370fedc-f7ae-483f-9246-f5fcecd6dbb6",
   "metadata": {},
   "outputs": [
    {
     "data": {
      "text/plain": [
       "2"
      ]
     },
     "execution_count": 77,
     "metadata": {},
     "output_type": "execute_result"
    }
   ],
   "source": [
    "s1.find('s')"
   ]
  },
  {
   "cell_type": "code",
   "execution_count": 78,
   "id": "241447be-a45c-474f-b697-f231641d2a6e",
   "metadata": {},
   "outputs": [
    {
     "data": {
      "text/plain": [
       "0"
      ]
     },
     "execution_count": 78,
     "metadata": {},
     "output_type": "execute_result"
    }
   ],
   "source": [
    "s1.index('P')"
   ]
  },
  {
   "cell_type": "code",
   "execution_count": 79,
   "id": "cc679952-a223-4a55-9c7c-61de041de07b",
   "metadata": {},
   "outputs": [
    {
     "data": {
      "text/plain": [
       "2"
      ]
     },
     "execution_count": 79,
     "metadata": {},
     "output_type": "execute_result"
    }
   ],
   "source": [
    "s1.index('s')"
   ]
  },
  {
   "cell_type": "code",
   "execution_count": 80,
   "id": "82cd3e97-0fa9-435a-8ea5-307e52f83c2d",
   "metadata": {},
   "outputs": [
    {
     "data": {
      "text/plain": [
       "-1"
      ]
     },
     "execution_count": 80,
     "metadata": {},
     "output_type": "execute_result"
    }
   ],
   "source": [
    "s1.find('z')"
   ]
  },
  {
   "cell_type": "code",
   "execution_count": 81,
   "id": "b1a0fb82-8614-4d1c-958b-ba78dc13c905",
   "metadata": {},
   "outputs": [
    {
     "ename": "ValueError",
     "evalue": "substring not found",
     "output_type": "error",
     "traceback": [
      "\u001b[0;31m---------------------------------------------------------------------------\u001b[0m",
      "\u001b[0;31mValueError\u001b[0m                                Traceback (most recent call last)",
      "Cell \u001b[0;32mIn[81], line 1\u001b[0m\n\u001b[0;32m----> 1\u001b[0m \u001b[43ms1\u001b[49m\u001b[38;5;241;43m.\u001b[39;49m\u001b[43mindex\u001b[49m\u001b[43m(\u001b[49m\u001b[38;5;124;43m'\u001b[39;49m\u001b[38;5;124;43mz\u001b[39;49m\u001b[38;5;124;43m'\u001b[39;49m\u001b[43m)\u001b[49m\n",
      "\u001b[0;31mValueError\u001b[0m: substring not found"
     ]
    }
   ],
   "source": [
    "s1.index('z')"
   ]
  },
  {
   "cell_type": "code",
   "execution_count": 82,
   "id": "66e44a2a-b9d1-4faa-9aee-a3f42a20936e",
   "metadata": {},
   "outputs": [
    {
     "data": {
      "text/plain": [
       "'PWSKILLS'"
      ]
     },
     "execution_count": 82,
     "metadata": {},
     "output_type": "execute_result"
    }
   ],
   "source": [
    "s1.upper()"
   ]
  },
  {
   "cell_type": "code",
   "execution_count": 83,
   "id": "c86fae4d-f395-4482-80ad-3fadab0ae4ad",
   "metadata": {},
   "outputs": [
    {
     "data": {
      "text/plain": [
       "'pwskills'"
      ]
     },
     "execution_count": 83,
     "metadata": {},
     "output_type": "execute_result"
    }
   ],
   "source": [
    "s1.lower()"
   ]
  },
  {
   "cell_type": "code",
   "execution_count": 84,
   "id": "db82ec2a-1e25-4eca-9261-6fc9de9f274e",
   "metadata": {},
   "outputs": [
    {
     "data": {
      "text/plain": [
       "'Pwskills'"
      ]
     },
     "execution_count": 84,
     "metadata": {},
     "output_type": "execute_result"
    }
   ],
   "source": [
    "s1.title()"
   ]
  },
  {
   "cell_type": "code",
   "execution_count": 85,
   "id": "6eaf846d-6a7d-4488-8c71-098e5f48cb5a",
   "metadata": {},
   "outputs": [],
   "source": [
    "s2=\"My name is amir khushroo\""
   ]
  },
  {
   "cell_type": "code",
   "execution_count": 86,
   "id": "6b36e4db-3979-4058-8eb6-33ca69874ad2",
   "metadata": {},
   "outputs": [
    {
     "data": {
      "text/plain": [
       "'My Name Is Amir Khushroo'"
      ]
     },
     "execution_count": 86,
     "metadata": {},
     "output_type": "execute_result"
    }
   ],
   "source": [
    "s2.title()"
   ]
  },
  {
   "cell_type": "code",
   "execution_count": 87,
   "id": "7d6653de-8d77-4a70-b3a4-fa4858085801",
   "metadata": {},
   "outputs": [
    {
     "data": {
      "text/plain": [
       "'My name is amir khushroo'"
      ]
     },
     "execution_count": 87,
     "metadata": {},
     "output_type": "execute_result"
    }
   ],
   "source": [
    "s2.capitalize()"
   ]
  },
  {
   "cell_type": "code",
   "execution_count": 88,
   "id": "77ce125f-40b5-4294-8e12-22ec222a2753",
   "metadata": {},
   "outputs": [
    {
     "data": {
      "text/plain": [
       "['My', 'name', 'is', 'amir', 'khushroo']"
      ]
     },
     "execution_count": 88,
     "metadata": {},
     "output_type": "execute_result"
    }
   ],
   "source": [
    "s2.split() #by default separator is space"
   ]
  },
  {
   "cell_type": "code",
   "execution_count": 89,
   "id": "6e38e1f8-c7ad-40fe-ac85-0dc26ba6cac7",
   "metadata": {},
   "outputs": [],
   "source": [
    "s3=\"my name,is,amir,khushroo\""
   ]
  },
  {
   "cell_type": "code",
   "execution_count": 90,
   "id": "1deefae8-187e-4f9e-ad38-262f03dcac39",
   "metadata": {},
   "outputs": [
    {
     "data": {
      "text/plain": [
       "['my', 'name,is,amir,khushroo']"
      ]
     },
     "execution_count": 90,
     "metadata": {},
     "output_type": "execute_result"
    }
   ],
   "source": [
    "s3.split()"
   ]
  },
  {
   "cell_type": "code",
   "execution_count": 91,
   "id": "1efa158f-d56d-4807-a190-f4e5515b2cde",
   "metadata": {},
   "outputs": [
    {
     "data": {
      "text/plain": [
       "['my name', 'is', 'amir', 'khushroo']"
      ]
     },
     "execution_count": 91,
     "metadata": {},
     "output_type": "execute_result"
    }
   ],
   "source": [
    "s3.split(',') #it will be splitted whenever it encounter comma"
   ]
  },
  {
   "cell_type": "code",
   "execution_count": 92,
   "id": "0b622614-2119-4999-9c27-fe8cb7273236",
   "metadata": {},
   "outputs": [],
   "source": [
    "s4 = \"this is my fsds pro class . i am attending this class for 4th time\""
   ]
  },
  {
   "cell_type": "code",
   "execution_count": 93,
   "id": "2a995064-6eb1-40b0-87b8-35b32b62d04e",
   "metadata": {},
   "outputs": [
    {
     "data": {
      "text/plain": [
       "['this is my fsds pro class ', ' i am attending this class for 4th time']"
      ]
     },
     "execution_count": 93,
     "metadata": {},
     "output_type": "execute_result"
    }
   ],
   "source": [
    "s4.split('.')"
   ]
  },
  {
   "cell_type": "code",
   "execution_count": 94,
   "id": "0acb2581-daa9-42ca-8ce5-37788759ff9e",
   "metadata": {},
   "outputs": [
    {
     "data": {
      "text/plain": [
       "'this is my fsds pro class '"
      ]
     },
     "execution_count": 94,
     "metadata": {},
     "output_type": "execute_result"
    }
   ],
   "source": [
    "s4.split('.')[0]"
   ]
  },
  {
   "cell_type": "code",
   "execution_count": 95,
   "id": "264a3cbd-6061-4ffc-bb20-952432cd9a64",
   "metadata": {},
   "outputs": [
    {
     "data": {
      "text/plain": [
       "' i am attending this class for 4th time'"
      ]
     },
     "execution_count": 95,
     "metadata": {},
     "output_type": "execute_result"
    }
   ],
   "source": [
    "s4.split('.')[1]"
   ]
  },
  {
   "cell_type": "code",
   "execution_count": 96,
   "id": "d6e47a3f-29b6-4b55-be8e-15df7837b83b",
   "metadata": {},
   "outputs": [
    {
     "data": {
      "text/plain": [
       "'Pwskills'"
      ]
     },
     "execution_count": 96,
     "metadata": {},
     "output_type": "execute_result"
    }
   ],
   "source": [
    "s1"
   ]
  },
  {
   "cell_type": "code",
   "execution_count": 97,
   "id": "c545ac8b-b45c-4f3f-9d2d-946232aa8847",
   "metadata": {},
   "outputs": [
    {
     "data": {
      "text/plain": [
       "'Pwskills'"
      ]
     },
     "execution_count": 97,
     "metadata": {},
     "output_type": "execute_result"
    }
   ],
   "source": [
    "s1.capitalize()"
   ]
  },
  {
   "cell_type": "code",
   "execution_count": 98,
   "id": "d453f6a3-a568-4b44-8642-c6e92899953d",
   "metadata": {},
   "outputs": [
    {
     "data": {
      "text/plain": [
       "'My name is amir khushroo'"
      ]
     },
     "execution_count": 98,
     "metadata": {},
     "output_type": "execute_result"
    }
   ],
   "source": [
    "s2.capitalize()"
   ]
  },
  {
   "cell_type": "code",
   "execution_count": 99,
   "id": "df0ff3ea-0031-414f-aad3-bf6b3a723468",
   "metadata": {},
   "outputs": [
    {
     "data": {
      "text/plain": [
       "'My name ees ameer khushroo'"
      ]
     },
     "execution_count": 99,
     "metadata": {},
     "output_type": "execute_result"
    }
   ],
   "source": [
    "s2.replace('i','ee')"
   ]
  },
  {
   "cell_type": "code",
   "execution_count": 100,
   "id": "d314ccb2-1686-4f25-9627-5d80a321c762",
   "metadata": {},
   "outputs": [
    {
     "data": {
      "text/plain": [
       "'My name is amir khushroo'"
      ]
     },
     "execution_count": 100,
     "metadata": {},
     "output_type": "execute_result"
    }
   ],
   "source": [
    "s2"
   ]
  },
  {
   "cell_type": "code",
   "execution_count": 101,
   "id": "07c06c93-8f7a-4c6d-8bbf-ed7ef8335a05",
   "metadata": {},
   "outputs": [
    {
     "data": {
      "text/plain": [
       "'ffffffffffffffffPwskillsffffffffffffffff'"
      ]
     },
     "execution_count": 101,
     "metadata": {},
     "output_type": "execute_result"
    }
   ],
   "source": [
    "s1.center(40,'f')"
   ]
  },
  {
   "cell_type": "code",
   "execution_count": 102,
   "id": "0ec727a8-a39b-4901-8faf-613fb475ac23",
   "metadata": {},
   "outputs": [
    {
     "data": {
      "text/plain": [
       "'Pwskills'"
      ]
     },
     "execution_count": 102,
     "metadata": {},
     "output_type": "execute_result"
    }
   ],
   "source": [
    "s1.rstrip()"
   ]
  },
  {
   "cell_type": "code",
   "execution_count": 103,
   "id": "409c9a5a-a6db-47d2-b72a-9fbae2a574d1",
   "metadata": {},
   "outputs": [],
   "source": [
    "s5=\"       pwskills     \""
   ]
  },
  {
   "cell_type": "code",
   "execution_count": 104,
   "id": "fcbff6eb-f291-45e8-ab88-243eb05409ad",
   "metadata": {},
   "outputs": [
    {
     "data": {
      "text/plain": [
       "'       pwskills'"
      ]
     },
     "execution_count": 104,
     "metadata": {},
     "output_type": "execute_result"
    }
   ],
   "source": [
    "s5.rstrip()"
   ]
  },
  {
   "cell_type": "code",
   "execution_count": 105,
   "id": "cbe60cb7-5f96-45c8-9a07-09add2548edb",
   "metadata": {},
   "outputs": [
    {
     "data": {
      "text/plain": [
       "'pwskills     '"
      ]
     },
     "execution_count": 105,
     "metadata": {},
     "output_type": "execute_result"
    }
   ],
   "source": [
    "s5.lstrip()"
   ]
  },
  {
   "cell_type": "code",
   "execution_count": 106,
   "id": "c7c95289-8865-435b-8a4e-f9e862b591dc",
   "metadata": {},
   "outputs": [
    {
     "data": {
      "text/plain": [
       "'pwskills'"
      ]
     },
     "execution_count": 106,
     "metadata": {},
     "output_type": "execute_result"
    }
   ],
   "source": [
    "s5.strip()"
   ]
  },
  {
   "cell_type": "code",
   "execution_count": 107,
   "id": "1118d964-6f2b-409a-8ba1-82d2f255d57c",
   "metadata": {},
   "outputs": [
    {
     "data": {
      "text/plain": [
       "'My name is amir khushroo'"
      ]
     },
     "execution_count": 107,
     "metadata": {},
     "output_type": "execute_result"
    }
   ],
   "source": [
    "s2"
   ]
  },
  {
   "cell_type": "code",
   "execution_count": 108,
   "id": "774a7310-b563-446b-9873-5c500e9badf9",
   "metadata": {},
   "outputs": [
    {
     "data": {
      "text/plain": [
       "'Pwskills'"
      ]
     },
     "execution_count": 108,
     "metadata": {},
     "output_type": "execute_result"
    }
   ],
   "source": [
    "s1"
   ]
  },
  {
   "cell_type": "code",
   "execution_count": 109,
   "id": "7ded1fc2-8c1b-490d-874c-93d49b9257e6",
   "metadata": {},
   "outputs": [
    {
     "data": {
      "text/plain": [
       "True"
      ]
     },
     "execution_count": 109,
     "metadata": {},
     "output_type": "execute_result"
    }
   ],
   "source": [
    "s1.isalnum()"
   ]
  },
  {
   "cell_type": "code",
   "execution_count": 110,
   "id": "e6c8c82e-771d-470e-b39c-3ab74eb19fd3",
   "metadata": {},
   "outputs": [
    {
     "data": {
      "text/plain": [
       "True"
      ]
     },
     "execution_count": 110,
     "metadata": {},
     "output_type": "execute_result"
    }
   ],
   "source": [
    "s1.isalpha()"
   ]
  },
  {
   "cell_type": "code",
   "execution_count": 111,
   "id": "d782cf2c-1e12-4468-94d0-40d46b8eac67",
   "metadata": {},
   "outputs": [
    {
     "data": {
      "text/plain": [
       "False"
      ]
     },
     "execution_count": 111,
     "metadata": {},
     "output_type": "execute_result"
    }
   ],
   "source": [
    "s1.isnumeric()"
   ]
  },
  {
   "cell_type": "code",
   "execution_count": 112,
   "id": "6df853a3-d586-4f2e-a847-e139fa78c69b",
   "metadata": {},
   "outputs": [
    {
     "data": {
      "text/plain": [
       "False"
      ]
     },
     "execution_count": 112,
     "metadata": {},
     "output_type": "execute_result"
    }
   ],
   "source": [
    "s1.islower()"
   ]
  },
  {
   "cell_type": "code",
   "execution_count": 113,
   "id": "e78c8db1-3411-4a89-87e9-8be235786b1c",
   "metadata": {},
   "outputs": [
    {
     "data": {
      "text/plain": [
       "[1, 2, 3, 4, 5, 'Amir', 'Khushroo', (3+6j), 345.46, True, [3, 4, 5, 6]]"
      ]
     },
     "execution_count": 113,
     "metadata": {},
     "output_type": "execute_result"
    }
   ],
   "source": [
    "l1"
   ]
  },
  {
   "cell_type": "code",
   "execution_count": 114,
   "id": "1e6f2d73-8189-4555-b859-1724039876c2",
   "metadata": {},
   "outputs": [
    {
     "data": {
      "text/plain": [
       "[300, 4, 5, 'pwskills', 'Amir']"
      ]
     },
     "execution_count": 114,
     "metadata": {},
     "output_type": "execute_result"
    }
   ],
   "source": [
    "l2"
   ]
  },
  {
   "cell_type": "code",
   "execution_count": 115,
   "id": "94ce12be-465b-4a0b-84a5-649730285db0",
   "metadata": {},
   "outputs": [],
   "source": [
    "l1.append(\"sudh\")"
   ]
  },
  {
   "cell_type": "code",
   "execution_count": 116,
   "id": "9ebff304-7e9d-40f6-9fe8-87dca4ea9b72",
   "metadata": {},
   "outputs": [
    {
     "data": {
      "text/plain": [
       "[1, 2, 3, 4, 5, 'Amir', 'Khushroo', (3+6j), 345.46, True, [3, 4, 5, 6], 'sudh']"
      ]
     },
     "execution_count": 116,
     "metadata": {},
     "output_type": "execute_result"
    }
   ],
   "source": [
    "l1"
   ]
  },
  {
   "cell_type": "code",
   "execution_count": 117,
   "id": "5628cf49-7502-4443-a518-7c88b61182eb",
   "metadata": {},
   "outputs": [],
   "source": [
    "l1.insert(3,'pwskills')"
   ]
  },
  {
   "cell_type": "code",
   "execution_count": 118,
   "id": "fbefdf98-ac40-412a-87b2-63f6095229b2",
   "metadata": {},
   "outputs": [
    {
     "data": {
      "text/plain": [
       "[1,\n",
       " 2,\n",
       " 3,\n",
       " 'pwskills',\n",
       " 4,\n",
       " 5,\n",
       " 'Amir',\n",
       " 'Khushroo',\n",
       " (3+6j),\n",
       " 345.46,\n",
       " True,\n",
       " [3, 4, 5, 6],\n",
       " 'sudh']"
      ]
     },
     "execution_count": 118,
     "metadata": {},
     "output_type": "execute_result"
    }
   ],
   "source": [
    "l1"
   ]
  },
  {
   "cell_type": "code",
   "execution_count": 119,
   "id": "3bf80229-a920-4060-86c5-ded712584f0c",
   "metadata": {},
   "outputs": [],
   "source": [
    "l2.extend(\"sudh\")"
   ]
  },
  {
   "cell_type": "code",
   "execution_count": 120,
   "id": "e6316fc8-3b80-49fd-81d9-757a2a286db0",
   "metadata": {},
   "outputs": [
    {
     "data": {
      "text/plain": [
       "[300, 4, 5, 'pwskills', 'Amir', 's', 'u', 'd', 'h']"
      ]
     },
     "execution_count": 120,
     "metadata": {},
     "output_type": "execute_result"
    }
   ],
   "source": [
    "l2"
   ]
  },
  {
   "cell_type": "code",
   "execution_count": 121,
   "id": "8d295d9e-c57f-4eb2-8039-783cebbd33cf",
   "metadata": {},
   "outputs": [],
   "source": [
    "l2.append(\"sudh\")"
   ]
  },
  {
   "cell_type": "code",
   "execution_count": 122,
   "id": "593e4a49-55d2-4b95-8167-8543e175531c",
   "metadata": {},
   "outputs": [
    {
     "data": {
      "text/plain": [
       "[300, 4, 5, 'pwskills', 'Amir', 's', 'u', 'd', 'h', 'sudh']"
      ]
     },
     "execution_count": 122,
     "metadata": {},
     "output_type": "execute_result"
    }
   ],
   "source": [
    "l2"
   ]
  },
  {
   "cell_type": "code",
   "execution_count": 123,
   "id": "7c608d71-fce3-498d-862a-e7715b31ecb7",
   "metadata": {},
   "outputs": [],
   "source": [
    "l2.insert(2,\"sudh\")"
   ]
  },
  {
   "cell_type": "code",
   "execution_count": 124,
   "id": "714680b6-a958-41ae-a846-af42fcc599b2",
   "metadata": {},
   "outputs": [
    {
     "data": {
      "text/plain": [
       "[300, 4, 'sudh', 5, 'pwskills', 'Amir', 's', 'u', 'd', 'h', 'sudh']"
      ]
     },
     "execution_count": 124,
     "metadata": {},
     "output_type": "execute_result"
    }
   ],
   "source": [
    "l2"
   ]
  },
  {
   "cell_type": "code",
   "execution_count": 125,
   "id": "b2d67af8-869e-4c29-a115-4eb6cbdfd1b5",
   "metadata": {},
   "outputs": [],
   "source": [
    "l2.extend('sudh')"
   ]
  },
  {
   "cell_type": "code",
   "execution_count": 126,
   "id": "377e5401-c41c-4333-bdf3-f917bb86553a",
   "metadata": {},
   "outputs": [
    {
     "data": {
      "text/plain": [
       "[300,\n",
       " 4,\n",
       " 'sudh',\n",
       " 5,\n",
       " 'pwskills',\n",
       " 'Amir',\n",
       " 's',\n",
       " 'u',\n",
       " 'd',\n",
       " 'h',\n",
       " 'sudh',\n",
       " 's',\n",
       " 'u',\n",
       " 'd',\n",
       " 'h']"
      ]
     },
     "execution_count": 126,
     "metadata": {},
     "output_type": "execute_result"
    }
   ],
   "source": [
    "l2"
   ]
  },
  {
   "cell_type": "code",
   "execution_count": 127,
   "id": "052d25e7-d38a-4cfc-8e94-18af51be0a83",
   "metadata": {},
   "outputs": [],
   "source": [
    "l3=[1,2,3,4,5]"
   ]
  },
  {
   "cell_type": "code",
   "execution_count": 128,
   "id": "0a893f20-2458-4286-b189-f58e2ce1a889",
   "metadata": {},
   "outputs": [
    {
     "data": {
      "text/plain": [
       "[1, 2, 3, 4, 5]"
      ]
     },
     "execution_count": 128,
     "metadata": {},
     "output_type": "execute_result"
    }
   ],
   "source": [
    "l3"
   ]
  },
  {
   "cell_type": "code",
   "execution_count": 129,
   "id": "96a70036-befb-469d-85eb-8b4720b37cb1",
   "metadata": {},
   "outputs": [],
   "source": [
    "l3.append(1)"
   ]
  },
  {
   "cell_type": "code",
   "execution_count": 130,
   "id": "7ae1af9e-7e01-44e9-901d-953c290bb782",
   "metadata": {},
   "outputs": [
    {
     "data": {
      "text/plain": [
       "[1, 2, 3, 4, 5, 1]"
      ]
     },
     "execution_count": 130,
     "metadata": {},
     "output_type": "execute_result"
    }
   ],
   "source": [
    "l3"
   ]
  },
  {
   "cell_type": "code",
   "execution_count": 131,
   "id": "c5e1162f-8cc3-4d87-892b-8729f3c0c04a",
   "metadata": {},
   "outputs": [],
   "source": [
    "l3.append([1,2,3])"
   ]
  },
  {
   "cell_type": "code",
   "execution_count": 132,
   "id": "604a2318-bfae-49a6-8982-37a14a5dedda",
   "metadata": {},
   "outputs": [
    {
     "data": {
      "text/plain": [
       "[1, 2, 3, 4, 5, 1, [1, 2, 3]]"
      ]
     },
     "execution_count": 132,
     "metadata": {},
     "output_type": "execute_result"
    }
   ],
   "source": [
    "l3"
   ]
  },
  {
   "cell_type": "code",
   "execution_count": 133,
   "id": "cf48e05a-fb06-4f2e-b63e-c18bc849f0d0",
   "metadata": {},
   "outputs": [],
   "source": [
    "l3.insert(1,[6,7,8])"
   ]
  },
  {
   "cell_type": "code",
   "execution_count": 134,
   "id": "13b21be7-ca3b-43c6-b82e-5a57e383891a",
   "metadata": {},
   "outputs": [
    {
     "data": {
      "text/plain": [
       "[1, [6, 7, 8], 2, 3, 4, 5, 1, [1, 2, 3]]"
      ]
     },
     "execution_count": 134,
     "metadata": {},
     "output_type": "execute_result"
    }
   ],
   "source": [
    "l3"
   ]
  },
  {
   "cell_type": "code",
   "execution_count": 135,
   "id": "ff0f9f3c-d922-4252-8dac-969c9c9017d0",
   "metadata": {},
   "outputs": [],
   "source": [
    "l3.extend([4,5,6])"
   ]
  },
  {
   "cell_type": "code",
   "execution_count": 136,
   "id": "45b60e22-d44d-4e86-b715-e80b3e54880b",
   "metadata": {},
   "outputs": [
    {
     "data": {
      "text/plain": [
       "[1, [6, 7, 8], 2, 3, 4, 5, 1, [1, 2, 3], 4, 5, 6]"
      ]
     },
     "execution_count": 136,
     "metadata": {},
     "output_type": "execute_result"
    }
   ],
   "source": [
    "l3"
   ]
  },
  {
   "cell_type": "code",
   "execution_count": 137,
   "id": "6f001abc-b2c0-4cfc-aa56-631dc004f780",
   "metadata": {},
   "outputs": [
    {
     "data": {
      "text/plain": [
       "6"
      ]
     },
     "execution_count": 137,
     "metadata": {},
     "output_type": "execute_result"
    }
   ],
   "source": [
    "l3.pop()"
   ]
  },
  {
   "cell_type": "code",
   "execution_count": 138,
   "id": "d4a74a03-cf5a-45bf-ac4b-db1bfdea32c1",
   "metadata": {},
   "outputs": [
    {
     "data": {
      "text/plain": [
       "[1, [6, 7, 8], 2, 3, 4, 5, 1, [1, 2, 3], 4, 5]"
      ]
     },
     "execution_count": 138,
     "metadata": {},
     "output_type": "execute_result"
    }
   ],
   "source": [
    "l3"
   ]
  },
  {
   "cell_type": "code",
   "execution_count": 139,
   "id": "2273605b-3300-45be-bf42-c01af0c82e27",
   "metadata": {},
   "outputs": [
    {
     "data": {
      "text/plain": [
       "[6, 7, 8]"
      ]
     },
     "execution_count": 139,
     "metadata": {},
     "output_type": "execute_result"
    }
   ],
   "source": [
    "l3.pop(1)"
   ]
  },
  {
   "cell_type": "code",
   "execution_count": 140,
   "id": "fcbebe9c-fa1e-47a4-8a51-f2a48108dd14",
   "metadata": {},
   "outputs": [
    {
     "data": {
      "text/plain": [
       "[1, 2, 3, 4, 5, 1, [1, 2, 3], 4, 5]"
      ]
     },
     "execution_count": 140,
     "metadata": {},
     "output_type": "execute_result"
    }
   ],
   "source": [
    "l3"
   ]
  },
  {
   "cell_type": "code",
   "execution_count": 141,
   "id": "2e87a8f0-95d5-4bb9-aec9-478563c1202c",
   "metadata": {},
   "outputs": [
    {
     "data": {
      "text/plain": [
       "1"
      ]
     },
     "execution_count": 141,
     "metadata": {},
     "output_type": "execute_result"
    }
   ],
   "source": [
    "l3.pop(5)"
   ]
  },
  {
   "cell_type": "code",
   "execution_count": 142,
   "id": "b42f2ad6-95fa-446c-adc9-1aaf301c662d",
   "metadata": {},
   "outputs": [
    {
     "data": {
      "text/plain": [
       "[1, 2, 3, 4, 5, [1, 2, 3], 4, 5]"
      ]
     },
     "execution_count": 142,
     "metadata": {},
     "output_type": "execute_result"
    }
   ],
   "source": [
    "l3"
   ]
  },
  {
   "cell_type": "code",
   "execution_count": 143,
   "id": "a25541e7-ba13-41de-b91f-f945afb347cb",
   "metadata": {},
   "outputs": [],
   "source": [
    "del l3 #deleted the entire list"
   ]
  },
  {
   "cell_type": "code",
   "execution_count": 144,
   "id": "0c5664b7-dca5-4cac-8d18-525242705f93",
   "metadata": {},
   "outputs": [
    {
     "ename": "NameError",
     "evalue": "name 'l3' is not defined",
     "output_type": "error",
     "traceback": [
      "\u001b[0;31m---------------------------------------------------------------------------\u001b[0m",
      "\u001b[0;31mNameError\u001b[0m                                 Traceback (most recent call last)",
      "Cell \u001b[0;32mIn[144], line 1\u001b[0m\n\u001b[0;32m----> 1\u001b[0m \u001b[43ml3\u001b[49m\n",
      "\u001b[0;31mNameError\u001b[0m: name 'l3' is not defined"
     ]
    }
   ],
   "source": [
    "l3"
   ]
  },
  {
   "cell_type": "code",
   "execution_count": 145,
   "id": "678e16de-e00f-468d-8822-2e118e034522",
   "metadata": {},
   "outputs": [],
   "source": [
    "del s2"
   ]
  },
  {
   "cell_type": "code",
   "execution_count": 146,
   "id": "9efda58d-864f-4cec-8f83-06816f631c5d",
   "metadata": {},
   "outputs": [
    {
     "ename": "NameError",
     "evalue": "name 's2' is not defined",
     "output_type": "error",
     "traceback": [
      "\u001b[0;31m---------------------------------------------------------------------------\u001b[0m",
      "\u001b[0;31mNameError\u001b[0m                                 Traceback (most recent call last)",
      "Cell \u001b[0;32mIn[146], line 1\u001b[0m\n\u001b[0;32m----> 1\u001b[0m \u001b[43ms2\u001b[49m\n",
      "\u001b[0;31mNameError\u001b[0m: name 's2' is not defined"
     ]
    }
   ],
   "source": [
    "s2"
   ]
  },
  {
   "cell_type": "code",
   "execution_count": 147,
   "id": "7d7f8b23-7fc3-4c8d-a6d2-e21b4f96b701",
   "metadata": {},
   "outputs": [
    {
     "data": {
      "text/plain": [
       "[300,\n",
       " 4,\n",
       " 'sudh',\n",
       " 5,\n",
       " 'pwskills',\n",
       " 'Amir',\n",
       " 's',\n",
       " 'u',\n",
       " 'd',\n",
       " 'h',\n",
       " 'sudh',\n",
       " 's',\n",
       " 'u',\n",
       " 'd',\n",
       " 'h']"
      ]
     },
     "execution_count": 147,
     "metadata": {},
     "output_type": "execute_result"
    }
   ],
   "source": [
    "l2"
   ]
  },
  {
   "cell_type": "code",
   "execution_count": 148,
   "id": "25051492-38f8-4e33-9624-1c925bef569f",
   "metadata": {},
   "outputs": [],
   "source": [
    "l2.remove('s')"
   ]
  },
  {
   "cell_type": "code",
   "execution_count": 149,
   "id": "023537d7-e35b-46d6-be14-d31d4485f921",
   "metadata": {},
   "outputs": [
    {
     "data": {
      "text/plain": [
       "[300,\n",
       " 4,\n",
       " 'sudh',\n",
       " 5,\n",
       " 'pwskills',\n",
       " 'Amir',\n",
       " 'u',\n",
       " 'd',\n",
       " 'h',\n",
       " 'sudh',\n",
       " 's',\n",
       " 'u',\n",
       " 'd',\n",
       " 'h']"
      ]
     },
     "execution_count": 149,
     "metadata": {},
     "output_type": "execute_result"
    }
   ],
   "source": [
    "l2"
   ]
  },
  {
   "cell_type": "code",
   "execution_count": 151,
   "id": "8cdd2457-f120-4aa7-b9ca-0fd53b8e0077",
   "metadata": {},
   "outputs": [
    {
     "ename": "IndexError",
     "evalue": "pop index out of range",
     "output_type": "error",
     "traceback": [
      "\u001b[0;31m---------------------------------------------------------------------------\u001b[0m",
      "\u001b[0;31mIndexError\u001b[0m                                Traceback (most recent call last)",
      "Cell \u001b[0;32mIn[151], line 1\u001b[0m\n\u001b[0;32m----> 1\u001b[0m \u001b[43ml2\u001b[49m\u001b[38;5;241;43m.\u001b[39;49m\u001b[43mpop\u001b[49m\u001b[43m(\u001b[49m\u001b[38;5;241;43m1000\u001b[39;49m\u001b[43m)\u001b[49m\n",
      "\u001b[0;31mIndexError\u001b[0m: pop index out of range"
     ]
    }
   ],
   "source": [
    "l2.pop(1000)"
   ]
  },
  {
   "cell_type": "code",
   "execution_count": 152,
   "id": "df1763fe-6ea7-48f5-9c25-82633e1cdc62",
   "metadata": {},
   "outputs": [
    {
     "data": {
      "text/plain": [
       "[1,\n",
       " 2,\n",
       " 3,\n",
       " 'pwskills',\n",
       " 4,\n",
       " 5,\n",
       " 'Amir',\n",
       " 'Khushroo',\n",
       " (3+6j),\n",
       " 345.46,\n",
       " True,\n",
       " [3, 4, 5, 6],\n",
       " 'sudh']"
      ]
     },
     "execution_count": 152,
     "metadata": {},
     "output_type": "execute_result"
    }
   ],
   "source": [
    "l1"
   ]
  },
  {
   "cell_type": "code",
   "execution_count": 153,
   "id": "2318b206-9a1b-4a3f-832f-62a32c15f242",
   "metadata": {},
   "outputs": [],
   "source": [
    "l1.clear()"
   ]
  },
  {
   "cell_type": "code",
   "execution_count": 154,
   "id": "1a9c5971-442d-4a3a-b55d-4a676222ad1f",
   "metadata": {},
   "outputs": [
    {
     "data": {
      "text/plain": [
       "[]"
      ]
     },
     "execution_count": 154,
     "metadata": {},
     "output_type": "execute_result"
    }
   ],
   "source": [
    "l1"
   ]
  },
  {
   "cell_type": "code",
   "execution_count": 156,
   "id": "57d5b2a5-cf1b-4a32-a159-2435dff2d742",
   "metadata": {},
   "outputs": [
    {
     "data": {
      "text/plain": [
       "1"
      ]
     },
     "execution_count": 156,
     "metadata": {},
     "output_type": "execute_result"
    }
   ],
   "source": [
    "l2.count('s')"
   ]
  },
  {
   "cell_type": "code",
   "execution_count": 157,
   "id": "b55819f8-4d7b-47d0-8472-bb134140af94",
   "metadata": {},
   "outputs": [
    {
     "data": {
      "text/plain": [
       "10"
      ]
     },
     "execution_count": 157,
     "metadata": {},
     "output_type": "execute_result"
    }
   ],
   "source": [
    "l2.index('s')"
   ]
  },
  {
   "cell_type": "code",
   "execution_count": 158,
   "id": "ed525494-8c6f-4d39-80c8-af0b5d81aab0",
   "metadata": {},
   "outputs": [
    {
     "data": {
      "text/plain": [
       "[300,\n",
       " 4,\n",
       " 'sudh',\n",
       " 5,\n",
       " 'pwskills',\n",
       " 'Amir',\n",
       " 'u',\n",
       " 'd',\n",
       " 'h',\n",
       " 'sudh',\n",
       " 's',\n",
       " 'u',\n",
       " 'd',\n",
       " 'h']"
      ]
     },
     "execution_count": 158,
     "metadata": {},
     "output_type": "execute_result"
    }
   ],
   "source": [
    "l2"
   ]
  },
  {
   "cell_type": "code",
   "execution_count": 159,
   "id": "c8ab63e7-ac97-4541-b62c-d676553c85c1",
   "metadata": {},
   "outputs": [],
   "source": [
    "l2.reverse()"
   ]
  },
  {
   "cell_type": "code",
   "execution_count": 160,
   "id": "c559da87-237a-47a0-b078-bd184393ffe7",
   "metadata": {},
   "outputs": [
    {
     "data": {
      "text/plain": [
       "['h',\n",
       " 'd',\n",
       " 'u',\n",
       " 's',\n",
       " 'sudh',\n",
       " 'h',\n",
       " 'd',\n",
       " 'u',\n",
       " 'Amir',\n",
       " 'pwskills',\n",
       " 5,\n",
       " 'sudh',\n",
       " 4,\n",
       " 300]"
      ]
     },
     "execution_count": 160,
     "metadata": {},
     "output_type": "execute_result"
    }
   ],
   "source": [
    "l2"
   ]
  },
  {
   "cell_type": "code",
   "execution_count": 161,
   "id": "cdbcde67-14c8-4014-8907-0b51e632d86d",
   "metadata": {},
   "outputs": [
    {
     "ename": "TypeError",
     "evalue": "'<' not supported between instances of 'int' and 'str'",
     "output_type": "error",
     "traceback": [
      "\u001b[0;31m---------------------------------------------------------------------------\u001b[0m",
      "\u001b[0;31mTypeError\u001b[0m                                 Traceback (most recent call last)",
      "Cell \u001b[0;32mIn[161], line 1\u001b[0m\n\u001b[0;32m----> 1\u001b[0m \u001b[43ml2\u001b[49m\u001b[38;5;241;43m.\u001b[39;49m\u001b[43msort\u001b[49m\u001b[43m(\u001b[49m\u001b[43m)\u001b[49m\n",
      "\u001b[0;31mTypeError\u001b[0m: '<' not supported between instances of 'int' and 'str'"
     ]
    }
   ],
   "source": [
    "l2.sort()"
   ]
  },
  {
   "cell_type": "code",
   "execution_count": 162,
   "id": "2bdf760d-bc85-4737-828a-885b39652810",
   "metadata": {},
   "outputs": [],
   "source": [
    "l3=[2,3,4,5,6,52,6,1,4,3,0,7,95,12,10]"
   ]
  },
  {
   "cell_type": "code",
   "execution_count": 164,
   "id": "c585f6bb-9d76-48e2-b730-b1c6ec62e944",
   "metadata": {},
   "outputs": [],
   "source": [
    "l3.sort()"
   ]
  },
  {
   "cell_type": "code",
   "execution_count": 165,
   "id": "97026146-3762-46a7-acc6-051d5117b4b1",
   "metadata": {},
   "outputs": [
    {
     "data": {
      "text/plain": [
       "[0, 1, 2, 3, 3, 4, 4, 5, 6, 6, 7, 10, 12, 52, 95]"
      ]
     },
     "execution_count": 165,
     "metadata": {},
     "output_type": "execute_result"
    }
   ],
   "source": [
    "l3"
   ]
  },
  {
   "cell_type": "code",
   "execution_count": 166,
   "id": "8e0509e1-41f0-492d-aa80-b9efe09ede76",
   "metadata": {},
   "outputs": [],
   "source": [
    "l4=['sudh','kumar','abcd']"
   ]
  },
  {
   "cell_type": "code",
   "execution_count": 167,
   "id": "a48e44b7-ea03-4c70-9738-c3019d56dc4e",
   "metadata": {},
   "outputs": [],
   "source": [
    "l4.sort()"
   ]
  },
  {
   "cell_type": "code",
   "execution_count": 168,
   "id": "d4b746f3-290f-4d39-9aed-272146e14f9f",
   "metadata": {},
   "outputs": [
    {
     "data": {
      "text/plain": [
       "['abcd', 'kumar', 'sudh']"
      ]
     },
     "execution_count": 168,
     "metadata": {},
     "output_type": "execute_result"
    }
   ],
   "source": [
    "l4"
   ]
  },
  {
   "cell_type": "code",
   "execution_count": 169,
   "id": "6ac8c034-c6e4-461a-aa20-b5a5ad37be20",
   "metadata": {},
   "outputs": [],
   "source": [
    "l4.sort(reverse=True)"
   ]
  },
  {
   "cell_type": "code",
   "execution_count": 171,
   "id": "50cfe921-bfb3-4bb5-beb1-2d7ecdc93a06",
   "metadata": {},
   "outputs": [
    {
     "data": {
      "text/plain": [
       "['sudh', 'kumar', 'abcd']"
      ]
     },
     "execution_count": 171,
     "metadata": {},
     "output_type": "execute_result"
    }
   ],
   "source": [
    "l4"
   ]
  },
  {
   "cell_type": "code",
   "execution_count": 173,
   "id": "d4acdbb5-e10b-4c22-8f27-705948766683",
   "metadata": {},
   "outputs": [],
   "source": [
    "l0=[2,3,4,5]"
   ]
  },
  {
   "cell_type": "code",
   "execution_count": 174,
   "id": "8d2f8cd9-7014-4e60-be3b-65f8f0419619",
   "metadata": {},
   "outputs": [],
   "source": [
    "l1=l0"
   ]
  },
  {
   "cell_type": "code",
   "execution_count": 175,
   "id": "d5eaa9aa-be4e-401d-b5fa-b5e12e587fce",
   "metadata": {},
   "outputs": [
    {
     "data": {
      "text/plain": [
       "[2, 3, 4, 5]"
      ]
     },
     "execution_count": 175,
     "metadata": {},
     "output_type": "execute_result"
    }
   ],
   "source": [
    "l1"
   ]
  },
  {
   "cell_type": "code",
   "execution_count": 176,
   "id": "70991805-1675-41aa-8610-0e2f58817bce",
   "metadata": {},
   "outputs": [
    {
     "data": {
      "text/plain": [
       "[2, 3, 4, 5]"
      ]
     },
     "execution_count": 176,
     "metadata": {},
     "output_type": "execute_result"
    }
   ],
   "source": [
    "l0"
   ]
  },
  {
   "cell_type": "code",
   "execution_count": 177,
   "id": "2719e5d0-e21d-4b50-800c-0870b76789b7",
   "metadata": {},
   "outputs": [],
   "source": [
    "l0[0] = 200"
   ]
  },
  {
   "cell_type": "code",
   "execution_count": 178,
   "id": "6b8bfbb2-8bf7-4c6f-80e8-cfbfed286869",
   "metadata": {},
   "outputs": [
    {
     "data": {
      "text/plain": [
       "[200, 3, 4, 5]"
      ]
     },
     "execution_count": 178,
     "metadata": {},
     "output_type": "execute_result"
    }
   ],
   "source": [
    "l0"
   ]
  },
  {
   "cell_type": "code",
   "execution_count": 179,
   "id": "5b2ea533-f7ab-417d-b8ea-1849a7a3903b",
   "metadata": {},
   "outputs": [
    {
     "data": {
      "text/plain": [
       "[200, 3, 4, 5]"
      ]
     },
     "execution_count": 179,
     "metadata": {},
     "output_type": "execute_result"
    }
   ],
   "source": [
    "l1"
   ]
  },
  {
   "cell_type": "code",
   "execution_count": 180,
   "id": "519dc8a0-8888-4b4f-9bd5-52a3106c5d7d",
   "metadata": {},
   "outputs": [],
   "source": [
    "l2=l0.copy()"
   ]
  },
  {
   "cell_type": "code",
   "execution_count": 181,
   "id": "0590a391-fc6c-47b3-be56-992cbb87aa3b",
   "metadata": {},
   "outputs": [
    {
     "data": {
      "text/plain": [
       "[200, 3, 4, 5]"
      ]
     },
     "execution_count": 181,
     "metadata": {},
     "output_type": "execute_result"
    }
   ],
   "source": [
    "l2"
   ]
  },
  {
   "cell_type": "code",
   "execution_count": 182,
   "id": "b337c0b5-cea9-4eba-8603-9d0ca84ba728",
   "metadata": {},
   "outputs": [
    {
     "data": {
      "text/plain": [
       "[200, 3, 4, 5]"
      ]
     },
     "execution_count": 182,
     "metadata": {},
     "output_type": "execute_result"
    }
   ],
   "source": [
    "l1"
   ]
  },
  {
   "cell_type": "code",
   "execution_count": 184,
   "id": "67883a42-9581-4a0d-8746-fbcd5bdce823",
   "metadata": {},
   "outputs": [
    {
     "data": {
      "text/plain": [
       "[200, 3, 4, 5]"
      ]
     },
     "execution_count": 184,
     "metadata": {},
     "output_type": "execute_result"
    }
   ],
   "source": [
    "l0"
   ]
  },
  {
   "cell_type": "code",
   "execution_count": 185,
   "id": "b622e423-cea1-4ac3-aaae-2b8dc48a62ad",
   "metadata": {},
   "outputs": [],
   "source": [
    "l0[1]=300"
   ]
  },
  {
   "cell_type": "code",
   "execution_count": 186,
   "id": "ead95c7e-2575-4031-922c-aa7792d7aace",
   "metadata": {},
   "outputs": [
    {
     "data": {
      "text/plain": [
       "[200, 300, 4, 5]"
      ]
     },
     "execution_count": 186,
     "metadata": {},
     "output_type": "execute_result"
    }
   ],
   "source": [
    "l1"
   ]
  },
  {
   "cell_type": "code",
   "execution_count": 187,
   "id": "885d534a-a35f-4a44-8c09-2a9a933e522a",
   "metadata": {},
   "outputs": [
    {
     "data": {
      "text/plain": [
       "[200, 3, 4, 5]"
      ]
     },
     "execution_count": 187,
     "metadata": {},
     "output_type": "execute_result"
    }
   ],
   "source": [
    "l2"
   ]
  },
  {
   "cell_type": "code",
   "execution_count": 188,
   "id": "9939f674-36f2-415f-97e6-192ad5453a24",
   "metadata": {},
   "outputs": [
    {
     "data": {
      "text/plain": [
       "(1, 2, 3, 4, 'amir', 'pwskills', (4+5j), True)"
      ]
     },
     "execution_count": 188,
     "metadata": {},
     "output_type": "execute_result"
    }
   ],
   "source": [
    "t"
   ]
  },
  {
   "cell_type": "code",
   "execution_count": 189,
   "id": "59864a56-de64-4762-862c-468c4ae0827f",
   "metadata": {},
   "outputs": [
    {
     "data": {
      "text/plain": [
       "1"
      ]
     },
     "execution_count": 189,
     "metadata": {},
     "output_type": "execute_result"
    }
   ],
   "source": [
    "t.count(4)"
   ]
  },
  {
   "cell_type": "code",
   "execution_count": 190,
   "id": "fbe45f11-5198-442c-b5c3-be81a74f0a27",
   "metadata": {},
   "outputs": [
    {
     "data": {
      "text/plain": [
       "4"
      ]
     },
     "execution_count": 190,
     "metadata": {},
     "output_type": "execute_result"
    }
   ],
   "source": [
    "t.index('amir')"
   ]
  },
  {
   "cell_type": "code",
   "execution_count": 191,
   "id": "c3c26620-7985-4a00-9e30-156701b6b701",
   "metadata": {},
   "outputs": [
    {
     "data": {
      "text/plain": [
       "'Pwskills'"
      ]
     },
     "execution_count": 191,
     "metadata": {},
     "output_type": "execute_result"
    }
   ],
   "source": [
    "s1"
   ]
  },
  {
   "cell_type": "code",
   "execution_count": 192,
   "id": "473255c6-4394-497c-a7fe-0dd77337b787",
   "metadata": {},
   "outputs": [
    {
     "data": {
      "text/plain": [
       "{}"
      ]
     },
     "execution_count": 192,
     "metadata": {},
     "output_type": "execute_result"
    }
   ],
   "source": [
    "s"
   ]
  },
  {
   "cell_type": "code",
   "execution_count": 193,
   "id": "6c20f5bb-5b44-4cb7-b62b-8b37b39707fe",
   "metadata": {},
   "outputs": [],
   "source": [
    "s={3,4,54,6,6,43,3,3,3,5,5,6}"
   ]
  },
  {
   "cell_type": "code",
   "execution_count": 194,
   "id": "d4565bfd-c235-44ee-8673-7af530c65f9c",
   "metadata": {},
   "outputs": [
    {
     "data": {
      "text/plain": [
       "set"
      ]
     },
     "execution_count": 194,
     "metadata": {},
     "output_type": "execute_result"
    }
   ],
   "source": [
    "type(s)"
   ]
  },
  {
   "cell_type": "code",
   "execution_count": 195,
   "id": "11951569-43b1-42fe-8cb9-5aec4428219f",
   "metadata": {},
   "outputs": [
    {
     "data": {
      "text/plain": [
       "{3, 4, 5, 6, 43, 54}"
      ]
     },
     "execution_count": 195,
     "metadata": {},
     "output_type": "execute_result"
    }
   ],
   "source": [
    "s"
   ]
  },
  {
   "cell_type": "code",
   "execution_count": 196,
   "id": "26b332fd-5beb-4097-bddc-c277eef66d95",
   "metadata": {},
   "outputs": [],
   "source": [
    "s.add(234)"
   ]
  },
  {
   "cell_type": "code",
   "execution_count": 197,
   "id": "b3f54945-0d2b-40f7-a279-371eea5f552e",
   "metadata": {},
   "outputs": [
    {
     "data": {
      "text/plain": [
       "{3, 4, 5, 6, 43, 54, 234}"
      ]
     },
     "execution_count": 197,
     "metadata": {},
     "output_type": "execute_result"
    }
   ],
   "source": [
    "s"
   ]
  },
  {
   "cell_type": "code",
   "execution_count": 198,
   "id": "57589ee6-63e7-4b1a-8134-f691b2599fc6",
   "metadata": {},
   "outputs": [],
   "source": [
    "s.add(4)"
   ]
  },
  {
   "cell_type": "code",
   "execution_count": 199,
   "id": "4a78ced1-0955-4bbd-9233-c33b46c8346a",
   "metadata": {},
   "outputs": [
    {
     "data": {
      "text/plain": [
       "{3, 4, 5, 6, 43, 54, 234}"
      ]
     },
     "execution_count": 199,
     "metadata": {},
     "output_type": "execute_result"
    }
   ],
   "source": [
    "s"
   ]
  },
  {
   "cell_type": "code",
   "execution_count": 202,
   "id": "9dafabc4-9002-4625-a587-14fd9a137423",
   "metadata": {},
   "outputs": [],
   "source": [
    "s.discard(3)"
   ]
  },
  {
   "cell_type": "code",
   "execution_count": 203,
   "id": "a1d039c8-b379-42c9-8f25-09551e98f05a",
   "metadata": {},
   "outputs": [
    {
     "data": {
      "text/plain": [
       "{4, 5, 6, 43, 54, 234}"
      ]
     },
     "execution_count": 203,
     "metadata": {},
     "output_type": "execute_result"
    }
   ],
   "source": [
    "s"
   ]
  },
  {
   "cell_type": "code",
   "execution_count": 204,
   "id": "5300d025-edd7-4ae2-a1f9-c52b3748f74e",
   "metadata": {},
   "outputs": [
    {
     "data": {
      "text/plain": [
       "4"
      ]
     },
     "execution_count": 204,
     "metadata": {},
     "output_type": "execute_result"
    }
   ],
   "source": [
    "s.pop()"
   ]
  },
  {
   "cell_type": "code",
   "execution_count": 205,
   "id": "3c764ebe-4bc2-4a12-8f9c-56bb11eb188b",
   "metadata": {},
   "outputs": [
    {
     "data": {
      "text/plain": [
       "{5, 6, 43, 54, 234}"
      ]
     },
     "execution_count": 205,
     "metadata": {},
     "output_type": "execute_result"
    }
   ],
   "source": [
    "s"
   ]
  },
  {
   "cell_type": "code",
   "execution_count": 206,
   "id": "fb95138e-a3a8-4406-b07c-bd31da126091",
   "metadata": {},
   "outputs": [
    {
     "data": {
      "text/plain": [
       "5"
      ]
     },
     "execution_count": 206,
     "metadata": {},
     "output_type": "execute_result"
    }
   ],
   "source": [
    "s.pop()"
   ]
  },
  {
   "cell_type": "code",
   "execution_count": 207,
   "id": "1b50265f-e759-4580-a268-dda4392736a1",
   "metadata": {},
   "outputs": [],
   "source": [
    "s.remove(43)"
   ]
  },
  {
   "cell_type": "code",
   "execution_count": 208,
   "id": "9429bf0c-b8e4-463c-b0c2-afc1acb7ea41",
   "metadata": {},
   "outputs": [
    {
     "data": {
      "text/plain": [
       "{6, 54, 234}"
      ]
     },
     "execution_count": 208,
     "metadata": {},
     "output_type": "execute_result"
    }
   ],
   "source": [
    "s"
   ]
  },
  {
   "cell_type": "code",
   "execution_count": 209,
   "id": "4f9a08b8-9804-46c0-8471-a68936a53807",
   "metadata": {},
   "outputs": [
    {
     "data": {
      "text/plain": [
       "{'name': 'amir',\n",
       " 'subject': ['data science', 'big data', 'data analytics'],\n",
       " 'number': 158645865}"
      ]
     },
     "execution_count": 209,
     "metadata": {},
     "output_type": "execute_result"
    }
   ],
   "source": [
    "d1"
   ]
  },
  {
   "cell_type": "code",
   "execution_count": 211,
   "id": "8b9500b6-f028-44f9-bfba-99780ca5a9d3",
   "metadata": {},
   "outputs": [
    {
     "data": {
      "text/plain": [
       "['name', 'subject', 'number']"
      ]
     },
     "execution_count": 211,
     "metadata": {},
     "output_type": "execute_result"
    }
   ],
   "source": [
    "list(d1.keys())"
   ]
  },
  {
   "cell_type": "code",
   "execution_count": 213,
   "id": "997537ae-20fe-4a70-8f10-a626d881b14e",
   "metadata": {},
   "outputs": [
    {
     "data": {
      "text/plain": [
       "['amir', ['data science', 'big data', 'data analytics'], 158645865]"
      ]
     },
     "execution_count": 213,
     "metadata": {},
     "output_type": "execute_result"
    }
   ],
   "source": [
    "list(d1.values())"
   ]
  },
  {
   "cell_type": "code",
   "execution_count": 215,
   "id": "96c8db77-b098-4045-9ff2-032220e44857",
   "metadata": {},
   "outputs": [
    {
     "data": {
      "text/plain": [
       "[('name', 'amir'),\n",
       " ('subject', ['data science', 'big data', 'data analytics']),\n",
       " ('number', 158645865)]"
      ]
     },
     "execution_count": 215,
     "metadata": {},
     "output_type": "execute_result"
    }
   ],
   "source": [
    "list(d1.items())"
   ]
  },
  {
   "cell_type": "code",
   "execution_count": 216,
   "id": "f00b1729-5b04-4061-a562-7f401b2665df",
   "metadata": {},
   "outputs": [
    {
     "data": {
      "text/plain": [
       "'amir'"
      ]
     },
     "execution_count": 216,
     "metadata": {},
     "output_type": "execute_result"
    }
   ],
   "source": [
    "d1.get('name')"
   ]
  },
  {
   "cell_type": "code",
   "execution_count": 217,
   "id": "822da9aa-4320-47db-a66c-2f704ea17e86",
   "metadata": {},
   "outputs": [
    {
     "data": {
      "text/plain": [
       "'amir'"
      ]
     },
     "execution_count": 217,
     "metadata": {},
     "output_type": "execute_result"
    }
   ],
   "source": [
    "d1['name']"
   ]
  },
  {
   "cell_type": "code",
   "execution_count": 218,
   "id": "11086a95-e234-4a19-813c-1e2c96f196a0",
   "metadata": {},
   "outputs": [
    {
     "data": {
      "text/plain": [
       "'amir'"
      ]
     },
     "execution_count": 218,
     "metadata": {},
     "output_type": "execute_result"
    }
   ],
   "source": [
    "d1.pop('name')"
   ]
  },
  {
   "cell_type": "code",
   "execution_count": 219,
   "id": "52b62d68-0484-4e4d-bde3-159f679d4824",
   "metadata": {},
   "outputs": [
    {
     "data": {
      "text/plain": [
       "{'subject': ['data science', 'big data', 'data analytics'],\n",
       " 'number': 158645865}"
      ]
     },
     "execution_count": 219,
     "metadata": {},
     "output_type": "execute_result"
    }
   ],
   "source": [
    "d1"
   ]
  },
  {
   "cell_type": "code",
   "execution_count": 220,
   "id": "4ca824cc-2f04-4226-9e38-8955df78a43f",
   "metadata": {},
   "outputs": [],
   "source": [
    "d1['test']='sdgd'"
   ]
  },
  {
   "cell_type": "code",
   "execution_count": 221,
   "id": "f244cc7e-64b6-4e93-81f2-c19e1ee1afae",
   "metadata": {},
   "outputs": [
    {
     "data": {
      "text/plain": [
       "{'subject': ['data science', 'big data', 'data analytics'],\n",
       " 'number': 158645865,\n",
       " 'test': 'sdgd'}"
      ]
     },
     "execution_count": 221,
     "metadata": {},
     "output_type": "execute_result"
    }
   ],
   "source": [
    "d1"
   ]
  },
  {
   "cell_type": "code",
   "execution_count": null,
   "id": "b5c8d77d-5af2-426a-a091-36b44455b7bc",
   "metadata": {},
   "outputs": [],
   "source": []
  }
 ],
 "metadata": {
  "kernelspec": {
   "display_name": "Python 3 (ipykernel)",
   "language": "python",
   "name": "python3"
  },
  "language_info": {
   "codemirror_mode": {
    "name": "ipython",
    "version": 3
   },
   "file_extension": ".py",
   "mimetype": "text/x-python",
   "name": "python",
   "nbconvert_exporter": "python",
   "pygments_lexer": "ipython3",
   "version": "3.10.8"
  }
 },
 "nbformat": 4,
 "nbformat_minor": 5
}
